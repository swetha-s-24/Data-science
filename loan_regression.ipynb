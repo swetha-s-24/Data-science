{
 "cells": [
  {
   "cell_type": "markdown",
   "metadata": {},
   "source": [
    "<table align=\"left\" width=100%>\n",
    "    <tr>\n",
    "        <td width=\"10%\">\n",
    "            <img src=\"title.png\">\n",
    "        </td>\n",
    "        <td>\n",
    "            <div align=\"left\">\n",
    "                <font color=\"#21618C\" size=8px>\n",
    "                  <b>Interest rate Prediction for loan\n",
    "                    </b>\n",
    "                </font>\n",
    "            </div>\n",
    "        </td>\n",
    "    </tr>\n",
    "</table>"
   ]
  },
  {
   "cell_type": "markdown",
   "metadata": {},
   "source": [
    "## Problem statement\n",
    "\n",
    "For banks the interest rate for debtors is set based on various factors like if they have already taken a loan etc.. So in this case study, we use a loan dataset to predict the interest rate of the debtor using regression techniques."
   ]
  },
  {
   "cell_type": "code",
   "execution_count": 1,
   "metadata": {},
   "outputs": [],
   "source": [
    "import pandas as pd\n",
    "import numpy as np\n",
    "import matplotlib.pyplot as plt\n",
    "import seaborn as sns"
   ]
  },
  {
   "cell_type": "code",
   "execution_count": 2,
   "metadata": {},
   "outputs": [],
   "source": [
    "loan_data_train=pd.read_csv(\"C:\\\\Users\\\\SWETHA S\\\\Downloads\\\\loan_data_train.csv\")"
   ]
  },
  {
   "cell_type": "code",
   "execution_count": 3,
   "metadata": {},
   "outputs": [],
   "source": [
    "loan_data_test=pd.read_csv(\"C:\\\\Users\\\\SWETHA S\\\\Downloads\\\\loan_data_test.csv\")"
   ]
  },
  {
   "cell_type": "code",
   "execution_count": 4,
   "metadata": {},
   "outputs": [
    {
     "data": {
      "text/plain": [
       "(2200, 15)"
      ]
     },
     "execution_count": 4,
     "metadata": {},
     "output_type": "execute_result"
    }
   ],
   "source": [
    "loan_data_train.shape"
   ]
  },
  {
   "cell_type": "code",
   "execution_count": 5,
   "metadata": {},
   "outputs": [
    {
     "data": {
      "text/plain": [
       "(300, 14)"
      ]
     },
     "execution_count": 5,
     "metadata": {},
     "output_type": "execute_result"
    }
   ],
   "source": [
    "loan_data_test.shape # use only for prediction , train and test the model with train data set itself"
   ]
  },
  {
   "cell_type": "code",
   "execution_count": 7,
   "metadata": {},
   "outputs": [
    {
     "data": {
      "text/html": [
       "<div>\n",
       "<style scoped>\n",
       "    .dataframe tbody tr th:only-of-type {\n",
       "        vertical-align: middle;\n",
       "    }\n",
       "\n",
       "    .dataframe tbody tr th {\n",
       "        vertical-align: top;\n",
       "    }\n",
       "\n",
       "    .dataframe thead th {\n",
       "        text-align: right;\n",
       "    }\n",
       "</style>\n",
       "<table border=\"1\" class=\"dataframe\">\n",
       "  <thead>\n",
       "    <tr style=\"text-align: right;\">\n",
       "      <th></th>\n",
       "      <th>ID</th>\n",
       "      <th>Amount.Requested</th>\n",
       "      <th>Amount.Funded.By.Investors</th>\n",
       "      <th>Interest.Rate</th>\n",
       "      <th>Loan.Length</th>\n",
       "      <th>Loan.Purpose</th>\n",
       "      <th>Debt.To.Income.Ratio</th>\n",
       "      <th>State</th>\n",
       "      <th>Home.Ownership</th>\n",
       "      <th>Monthly.Income</th>\n",
       "      <th>FICO.Range</th>\n",
       "      <th>Open.CREDIT.Lines</th>\n",
       "      <th>Revolving.CREDIT.Balance</th>\n",
       "      <th>Inquiries.in.the.Last.6.Months</th>\n",
       "      <th>Employment.Length</th>\n",
       "    </tr>\n",
       "  </thead>\n",
       "  <tbody>\n",
       "    <tr>\n",
       "      <th>0</th>\n",
       "      <td>79542.0</td>\n",
       "      <td>25000</td>\n",
       "      <td>25000</td>\n",
       "      <td>18.49%</td>\n",
       "      <td>60 months</td>\n",
       "      <td>debt_consolidation</td>\n",
       "      <td>27.56%</td>\n",
       "      <td>VA</td>\n",
       "      <td>MORTGAGE</td>\n",
       "      <td>8606.56</td>\n",
       "      <td>720-724</td>\n",
       "      <td>11</td>\n",
       "      <td>15210</td>\n",
       "      <td>3.0</td>\n",
       "      <td>5 years</td>\n",
       "    </tr>\n",
       "    <tr>\n",
       "      <th>1</th>\n",
       "      <td>75473.0</td>\n",
       "      <td>19750</td>\n",
       "      <td>19750</td>\n",
       "      <td>17.27%</td>\n",
       "      <td>60 months</td>\n",
       "      <td>debt_consolidation</td>\n",
       "      <td>13.39%</td>\n",
       "      <td>NY</td>\n",
       "      <td>MORTGAGE</td>\n",
       "      <td>6737.50</td>\n",
       "      <td>710-714</td>\n",
       "      <td>14</td>\n",
       "      <td>19070</td>\n",
       "      <td>3.0</td>\n",
       "      <td>4 years</td>\n",
       "    </tr>\n",
       "    <tr>\n",
       "      <th>2</th>\n",
       "      <td>67265.0</td>\n",
       "      <td>2100</td>\n",
       "      <td>2100</td>\n",
       "      <td>14.33%</td>\n",
       "      <td>36 months</td>\n",
       "      <td>major_purchase</td>\n",
       "      <td>3.50%</td>\n",
       "      <td>LA</td>\n",
       "      <td>OWN</td>\n",
       "      <td>1000.00</td>\n",
       "      <td>690-694</td>\n",
       "      <td>13</td>\n",
       "      <td>893</td>\n",
       "      <td>1.0</td>\n",
       "      <td>&lt; 1 year</td>\n",
       "    </tr>\n",
       "  </tbody>\n",
       "</table>\n",
       "</div>"
      ],
      "text/plain": [
       "        ID Amount.Requested Amount.Funded.By.Investors Interest.Rate  \\\n",
       "0  79542.0            25000                      25000        18.49%   \n",
       "1  75473.0            19750                      19750        17.27%   \n",
       "2  67265.0             2100                       2100        14.33%   \n",
       "\n",
       "  Loan.Length        Loan.Purpose Debt.To.Income.Ratio State Home.Ownership  \\\n",
       "0   60 months  debt_consolidation               27.56%    VA       MORTGAGE   \n",
       "1   60 months  debt_consolidation               13.39%    NY       MORTGAGE   \n",
       "2   36 months      major_purchase                3.50%    LA            OWN   \n",
       "\n",
       "   Monthly.Income FICO.Range Open.CREDIT.Lines Revolving.CREDIT.Balance  \\\n",
       "0         8606.56    720-724                11                    15210   \n",
       "1         6737.50    710-714                14                    19070   \n",
       "2         1000.00    690-694                13                      893   \n",
       "\n",
       "   Inquiries.in.the.Last.6.Months Employment.Length  \n",
       "0                             3.0           5 years  \n",
       "1                             3.0           4 years  \n",
       "2                             1.0          < 1 year  "
      ]
     },
     "execution_count": 7,
     "metadata": {},
     "output_type": "execute_result"
    }
   ],
   "source": [
    "loan_data_train.head(3)"
   ]
  },
  {
   "cell_type": "code",
   "execution_count": 6,
   "metadata": {},
   "outputs": [
    {
     "data": {
      "text/plain": [
       "Index(['ID', 'Amount.Requested', 'Amount.Funded.By.Investors', 'Interest.Rate',\n",
       "       'Loan.Length', 'Loan.Purpose', 'Debt.To.Income.Ratio', 'State',\n",
       "       'Home.Ownership', 'Monthly.Income', 'FICO.Range', 'Open.CREDIT.Lines',\n",
       "       'Revolving.CREDIT.Balance', 'Inquiries.in.the.Last.6.Months',\n",
       "       'Employment.Length'],\n",
       "      dtype='object')"
      ]
     },
     "execution_count": 6,
     "metadata": {},
     "output_type": "execute_result"
    }
   ],
   "source": [
    "loan_data_train.columns"
   ]
  },
  {
   "cell_type": "code",
   "execution_count": 8,
   "metadata": {},
   "outputs": [],
   "source": [
    "# creating interest rate variable in test\n",
    "loan_data_test.insert(3,'Interest.Rate',np.nan)\n"
   ]
  },
  {
   "cell_type": "code",
   "execution_count": 10,
   "metadata": {},
   "outputs": [
    {
     "data": {
      "text/plain": [
       "(300, 15)"
      ]
     },
     "execution_count": 10,
     "metadata": {},
     "output_type": "execute_result"
    }
   ],
   "source": [
    "loan_data_test.shape"
   ]
  },
  {
   "cell_type": "code",
   "execution_count": 11,
   "metadata": {},
   "outputs": [],
   "source": [
    "# creating new column to see if data is coming from train/test\n",
    "loan_data_train['data']='train'"
   ]
  },
  {
   "cell_type": "code",
   "execution_count": 12,
   "metadata": {},
   "outputs": [
    {
     "data": {
      "text/html": [
       "<div>\n",
       "<style scoped>\n",
       "    .dataframe tbody tr th:only-of-type {\n",
       "        vertical-align: middle;\n",
       "    }\n",
       "\n",
       "    .dataframe tbody tr th {\n",
       "        vertical-align: top;\n",
       "    }\n",
       "\n",
       "    .dataframe thead th {\n",
       "        text-align: right;\n",
       "    }\n",
       "</style>\n",
       "<table border=\"1\" class=\"dataframe\">\n",
       "  <thead>\n",
       "    <tr style=\"text-align: right;\">\n",
       "      <th></th>\n",
       "      <th>ID</th>\n",
       "      <th>Amount.Requested</th>\n",
       "      <th>Amount.Funded.By.Investors</th>\n",
       "      <th>Interest.Rate</th>\n",
       "      <th>Loan.Length</th>\n",
       "      <th>Loan.Purpose</th>\n",
       "      <th>Debt.To.Income.Ratio</th>\n",
       "      <th>State</th>\n",
       "      <th>Home.Ownership</th>\n",
       "      <th>Monthly.Income</th>\n",
       "      <th>FICO.Range</th>\n",
       "      <th>Open.CREDIT.Lines</th>\n",
       "      <th>Revolving.CREDIT.Balance</th>\n",
       "      <th>Inquiries.in.the.Last.6.Months</th>\n",
       "      <th>Employment.Length</th>\n",
       "      <th>data</th>\n",
       "    </tr>\n",
       "  </thead>\n",
       "  <tbody>\n",
       "    <tr>\n",
       "      <th>0</th>\n",
       "      <td>79542.0</td>\n",
       "      <td>25000</td>\n",
       "      <td>25000</td>\n",
       "      <td>18.49%</td>\n",
       "      <td>60 months</td>\n",
       "      <td>debt_consolidation</td>\n",
       "      <td>27.56%</td>\n",
       "      <td>VA</td>\n",
       "      <td>MORTGAGE</td>\n",
       "      <td>8606.56</td>\n",
       "      <td>720-724</td>\n",
       "      <td>11</td>\n",
       "      <td>15210</td>\n",
       "      <td>3.0</td>\n",
       "      <td>5 years</td>\n",
       "      <td>train</td>\n",
       "    </tr>\n",
       "    <tr>\n",
       "      <th>1</th>\n",
       "      <td>75473.0</td>\n",
       "      <td>19750</td>\n",
       "      <td>19750</td>\n",
       "      <td>17.27%</td>\n",
       "      <td>60 months</td>\n",
       "      <td>debt_consolidation</td>\n",
       "      <td>13.39%</td>\n",
       "      <td>NY</td>\n",
       "      <td>MORTGAGE</td>\n",
       "      <td>6737.50</td>\n",
       "      <td>710-714</td>\n",
       "      <td>14</td>\n",
       "      <td>19070</td>\n",
       "      <td>3.0</td>\n",
       "      <td>4 years</td>\n",
       "      <td>train</td>\n",
       "    </tr>\n",
       "  </tbody>\n",
       "</table>\n",
       "</div>"
      ],
      "text/plain": [
       "        ID Amount.Requested Amount.Funded.By.Investors Interest.Rate  \\\n",
       "0  79542.0            25000                      25000        18.49%   \n",
       "1  75473.0            19750                      19750        17.27%   \n",
       "\n",
       "  Loan.Length        Loan.Purpose Debt.To.Income.Ratio State Home.Ownership  \\\n",
       "0   60 months  debt_consolidation               27.56%    VA       MORTGAGE   \n",
       "1   60 months  debt_consolidation               13.39%    NY       MORTGAGE   \n",
       "\n",
       "   Monthly.Income FICO.Range Open.CREDIT.Lines Revolving.CREDIT.Balance  \\\n",
       "0         8606.56    720-724                11                    15210   \n",
       "1         6737.50    710-714                14                    19070   \n",
       "\n",
       "   Inquiries.in.the.Last.6.Months Employment.Length   data  \n",
       "0                             3.0           5 years  train  \n",
       "1                             3.0           4 years  train  "
      ]
     },
     "execution_count": 12,
     "metadata": {},
     "output_type": "execute_result"
    }
   ],
   "source": [
    "loan_data_train.head(2)"
   ]
  },
  {
   "cell_type": "code",
   "execution_count": 13,
   "metadata": {},
   "outputs": [],
   "source": [
    "loan_data_test['data']='test'"
   ]
  },
  {
   "cell_type": "code",
   "execution_count": 14,
   "metadata": {},
   "outputs": [
    {
     "data": {
      "text/html": [
       "<div>\n",
       "<style scoped>\n",
       "    .dataframe tbody tr th:only-of-type {\n",
       "        vertical-align: middle;\n",
       "    }\n",
       "\n",
       "    .dataframe tbody tr th {\n",
       "        vertical-align: top;\n",
       "    }\n",
       "\n",
       "    .dataframe thead th {\n",
       "        text-align: right;\n",
       "    }\n",
       "</style>\n",
       "<table border=\"1\" class=\"dataframe\">\n",
       "  <thead>\n",
       "    <tr style=\"text-align: right;\">\n",
       "      <th></th>\n",
       "      <th>ID</th>\n",
       "      <th>Amount.Requested</th>\n",
       "      <th>Amount.Funded.By.Investors</th>\n",
       "      <th>Interest.Rate</th>\n",
       "      <th>Loan.Length</th>\n",
       "      <th>Loan.Purpose</th>\n",
       "      <th>Debt.To.Income.Ratio</th>\n",
       "      <th>State</th>\n",
       "      <th>Home.Ownership</th>\n",
       "      <th>Monthly.Income</th>\n",
       "      <th>FICO.Range</th>\n",
       "      <th>Open.CREDIT.Lines</th>\n",
       "      <th>Revolving.CREDIT.Balance</th>\n",
       "      <th>Inquiries.in.the.Last.6.Months</th>\n",
       "      <th>Employment.Length</th>\n",
       "      <th>data</th>\n",
       "    </tr>\n",
       "  </thead>\n",
       "  <tbody>\n",
       "    <tr>\n",
       "      <th>0</th>\n",
       "      <td>20093</td>\n",
       "      <td>5000</td>\n",
       "      <td>5000</td>\n",
       "      <td>NaN</td>\n",
       "      <td>60 months</td>\n",
       "      <td>moving</td>\n",
       "      <td>12.59%</td>\n",
       "      <td>NY</td>\n",
       "      <td>RENT</td>\n",
       "      <td>4416.67</td>\n",
       "      <td>690-694</td>\n",
       "      <td>13</td>\n",
       "      <td>7686</td>\n",
       "      <td>0</td>\n",
       "      <td>&lt; 1 year</td>\n",
       "      <td>test</td>\n",
       "    </tr>\n",
       "    <tr>\n",
       "      <th>1</th>\n",
       "      <td>62445</td>\n",
       "      <td>18000</td>\n",
       "      <td>18000</td>\n",
       "      <td>NaN</td>\n",
       "      <td>60 months</td>\n",
       "      <td>debt_consolidation</td>\n",
       "      <td>4.93%</td>\n",
       "      <td>CA</td>\n",
       "      <td>RENT</td>\n",
       "      <td>5258.50</td>\n",
       "      <td>710-714</td>\n",
       "      <td>6</td>\n",
       "      <td>11596</td>\n",
       "      <td>0</td>\n",
       "      <td>10+ years</td>\n",
       "      <td>test</td>\n",
       "    </tr>\n",
       "  </tbody>\n",
       "</table>\n",
       "</div>"
      ],
      "text/plain": [
       "      ID  Amount.Requested Amount.Funded.By.Investors  Interest.Rate  \\\n",
       "0  20093              5000                       5000            NaN   \n",
       "1  62445             18000                      18000            NaN   \n",
       "\n",
       "  Loan.Length        Loan.Purpose Debt.To.Income.Ratio State Home.Ownership  \\\n",
       "0   60 months              moving               12.59%    NY           RENT   \n",
       "1   60 months  debt_consolidation                4.93%    CA           RENT   \n",
       "\n",
       "   Monthly.Income FICO.Range Open.CREDIT.Lines  Revolving.CREDIT.Balance  \\\n",
       "0         4416.67    690-694                13                      7686   \n",
       "1         5258.50    710-714                 6                     11596   \n",
       "\n",
       "   Inquiries.in.the.Last.6.Months Employment.Length  data  \n",
       "0                               0          < 1 year  test  \n",
       "1                               0         10+ years  test  "
      ]
     },
     "execution_count": 14,
     "metadata": {},
     "output_type": "execute_result"
    }
   ],
   "source": [
    "loan_data_test.head(2)"
   ]
  },
  {
   "cell_type": "code",
   "execution_count": 15,
   "metadata": {},
   "outputs": [
    {
     "data": {
      "text/plain": [
       "Index(['ID', 'Amount.Requested', 'Amount.Funded.By.Investors', 'Interest.Rate',\n",
       "       'Loan.Length', 'Loan.Purpose', 'Debt.To.Income.Ratio', 'State',\n",
       "       'Home.Ownership', 'Monthly.Income', 'FICO.Range', 'Open.CREDIT.Lines',\n",
       "       'Revolving.CREDIT.Balance', 'Inquiries.in.the.Last.6.Months',\n",
       "       'Employment.Length', 'data'],\n",
       "      dtype='object')"
      ]
     },
     "execution_count": 15,
     "metadata": {},
     "output_type": "execute_result"
    }
   ],
   "source": [
    "loan_data_train.columns"
   ]
  },
  {
   "cell_type": "code",
   "execution_count": 16,
   "metadata": {},
   "outputs": [
    {
     "data": {
      "text/plain": [
       "Index(['ID', 'Amount.Requested', 'Amount.Funded.By.Investors', 'Interest.Rate',\n",
       "       'Loan.Length', 'Loan.Purpose', 'Debt.To.Income.Ratio', 'State',\n",
       "       'Home.Ownership', 'Monthly.Income', 'FICO.Range', 'Open.CREDIT.Lines',\n",
       "       'Revolving.CREDIT.Balance', 'Inquiries.in.the.Last.6.Months',\n",
       "       'Employment.Length', 'data'],\n",
       "      dtype='object')"
      ]
     },
     "execution_count": 16,
     "metadata": {},
     "output_type": "execute_result"
    }
   ],
   "source": [
    "loan_data_test.columns"
   ]
  },
  {
   "cell_type": "code",
   "execution_count": 19,
   "metadata": {},
   "outputs": [],
   "source": [
    "loan_data_train.columns=[i.replace('.','_') for i in loan_data_train.columns]"
   ]
  },
  {
   "cell_type": "code",
   "execution_count": 20,
   "metadata": {},
   "outputs": [
    {
     "data": {
      "text/plain": [
       "Index(['ID', 'Amount_Requested', 'Amount_Funded_By_Investors', 'Interest_Rate',\n",
       "       'Loan_Length', 'Loan_Purpose', 'Debt_To_Income_Ratio', 'State',\n",
       "       'Home_Ownership', 'Monthly_Income', 'FICO_Range', 'Open_CREDIT_Lines',\n",
       "       'Revolving_CREDIT_Balance', 'Inquiries_in_the_Last_6_Months',\n",
       "       'Employment_Length', 'data'],\n",
       "      dtype='object')"
      ]
     },
     "execution_count": 20,
     "metadata": {},
     "output_type": "execute_result"
    }
   ],
   "source": [
    "loan_data_train.columns"
   ]
  },
  {
   "cell_type": "code",
   "execution_count": 21,
   "metadata": {},
   "outputs": [],
   "source": [
    "# replacing '.' in columns\n",
    "loan_data_test.columns=[i.replace('.','_') for i in loan_data_test.columns]"
   ]
  },
  {
   "cell_type": "code",
   "execution_count": 22,
   "metadata": {},
   "outputs": [
    {
     "data": {
      "text/plain": [
       "Index(['ID', 'Amount_Requested', 'Amount_Funded_By_Investors', 'Interest_Rate',\n",
       "       'Loan_Length', 'Loan_Purpose', 'Debt_To_Income_Ratio', 'State',\n",
       "       'Home_Ownership', 'Monthly_Income', 'FICO_Range', 'Open_CREDIT_Lines',\n",
       "       'Revolving_CREDIT_Balance', 'Inquiries_in_the_Last_6_Months',\n",
       "       'Employment_Length', 'data'],\n",
       "      dtype='object')"
      ]
     },
     "execution_count": 22,
     "metadata": {},
     "output_type": "execute_result"
    }
   ],
   "source": [
    "loan_data_test.columns"
   ]
  },
  {
   "cell_type": "code",
   "execution_count": 49,
   "metadata": {},
   "outputs": [],
   "source": [
    "# after checking column match, concatenate the dataframe\n",
    "new_data=pd.concat([loan_data_train,loan_data_test],axis=0,join=\"inner\",sort=False)"
   ]
  },
  {
   "cell_type": "code",
   "execution_count": 50,
   "metadata": {},
   "outputs": [
    {
     "data": {
      "text/html": [
       "<div>\n",
       "<style scoped>\n",
       "    .dataframe tbody tr th:only-of-type {\n",
       "        vertical-align: middle;\n",
       "    }\n",
       "\n",
       "    .dataframe tbody tr th {\n",
       "        vertical-align: top;\n",
       "    }\n",
       "\n",
       "    .dataframe thead th {\n",
       "        text-align: right;\n",
       "    }\n",
       "</style>\n",
       "<table border=\"1\" class=\"dataframe\">\n",
       "  <thead>\n",
       "    <tr style=\"text-align: right;\">\n",
       "      <th></th>\n",
       "      <th>ID</th>\n",
       "      <th>Amount_Requested</th>\n",
       "      <th>Amount_Funded_By_Investors</th>\n",
       "      <th>Interest_Rate</th>\n",
       "      <th>Loan_Length</th>\n",
       "      <th>Loan_Purpose</th>\n",
       "      <th>Debt_To_Income_Ratio</th>\n",
       "      <th>State</th>\n",
       "      <th>Home_Ownership</th>\n",
       "      <th>Monthly_Income</th>\n",
       "      <th>FICO_Range</th>\n",
       "      <th>Open_CREDIT_Lines</th>\n",
       "      <th>Revolving_CREDIT_Balance</th>\n",
       "      <th>Inquiries_in_the_Last_6_Months</th>\n",
       "      <th>Employment_Length</th>\n",
       "      <th>data</th>\n",
       "    </tr>\n",
       "  </thead>\n",
       "  <tbody>\n",
       "    <tr>\n",
       "      <th>0</th>\n",
       "      <td>79542.0</td>\n",
       "      <td>25000</td>\n",
       "      <td>25000</td>\n",
       "      <td>18.49%</td>\n",
       "      <td>60 months</td>\n",
       "      <td>debt_consolidation</td>\n",
       "      <td>27.56%</td>\n",
       "      <td>VA</td>\n",
       "      <td>MORTGAGE</td>\n",
       "      <td>8606.56</td>\n",
       "      <td>720-724</td>\n",
       "      <td>11</td>\n",
       "      <td>15210</td>\n",
       "      <td>3.0</td>\n",
       "      <td>5 years</td>\n",
       "      <td>train</td>\n",
       "    </tr>\n",
       "    <tr>\n",
       "      <th>1</th>\n",
       "      <td>75473.0</td>\n",
       "      <td>19750</td>\n",
       "      <td>19750</td>\n",
       "      <td>17.27%</td>\n",
       "      <td>60 months</td>\n",
       "      <td>debt_consolidation</td>\n",
       "      <td>13.39%</td>\n",
       "      <td>NY</td>\n",
       "      <td>MORTGAGE</td>\n",
       "      <td>6737.50</td>\n",
       "      <td>710-714</td>\n",
       "      <td>14</td>\n",
       "      <td>19070</td>\n",
       "      <td>3.0</td>\n",
       "      <td>4 years</td>\n",
       "      <td>train</td>\n",
       "    </tr>\n",
       "    <tr>\n",
       "      <th>2</th>\n",
       "      <td>67265.0</td>\n",
       "      <td>2100</td>\n",
       "      <td>2100</td>\n",
       "      <td>14.33%</td>\n",
       "      <td>36 months</td>\n",
       "      <td>major_purchase</td>\n",
       "      <td>3.50%</td>\n",
       "      <td>LA</td>\n",
       "      <td>OWN</td>\n",
       "      <td>1000.00</td>\n",
       "      <td>690-694</td>\n",
       "      <td>13</td>\n",
       "      <td>893</td>\n",
       "      <td>1.0</td>\n",
       "      <td>&lt; 1 year</td>\n",
       "      <td>train</td>\n",
       "    </tr>\n",
       "    <tr>\n",
       "      <th>3</th>\n",
       "      <td>80167.0</td>\n",
       "      <td>28000</td>\n",
       "      <td>28000</td>\n",
       "      <td>16.29%</td>\n",
       "      <td>36 months</td>\n",
       "      <td>credit_card</td>\n",
       "      <td>19.62%</td>\n",
       "      <td>NV</td>\n",
       "      <td>MORTGAGE</td>\n",
       "      <td>7083.33</td>\n",
       "      <td>710-714</td>\n",
       "      <td>12</td>\n",
       "      <td>38194</td>\n",
       "      <td>1.0</td>\n",
       "      <td>10+ years</td>\n",
       "      <td>train</td>\n",
       "    </tr>\n",
       "    <tr>\n",
       "      <th>4</th>\n",
       "      <td>17240.0</td>\n",
       "      <td>24250</td>\n",
       "      <td>17431.82</td>\n",
       "      <td>12.23%</td>\n",
       "      <td>60 months</td>\n",
       "      <td>credit_card</td>\n",
       "      <td>23.79%</td>\n",
       "      <td>OH</td>\n",
       "      <td>MORTGAGE</td>\n",
       "      <td>5833.33</td>\n",
       "      <td>730-734</td>\n",
       "      <td>6</td>\n",
       "      <td>31061</td>\n",
       "      <td>2.0</td>\n",
       "      <td>10+ years</td>\n",
       "      <td>train</td>\n",
       "    </tr>\n",
       "  </tbody>\n",
       "</table>\n",
       "</div>"
      ],
      "text/plain": [
       "        ID Amount_Requested Amount_Funded_By_Investors Interest_Rate  \\\n",
       "0  79542.0            25000                      25000        18.49%   \n",
       "1  75473.0            19750                      19750        17.27%   \n",
       "2  67265.0             2100                       2100        14.33%   \n",
       "3  80167.0            28000                      28000        16.29%   \n",
       "4  17240.0            24250                   17431.82        12.23%   \n",
       "\n",
       "  Loan_Length        Loan_Purpose Debt_To_Income_Ratio State Home_Ownership  \\\n",
       "0   60 months  debt_consolidation               27.56%    VA       MORTGAGE   \n",
       "1   60 months  debt_consolidation               13.39%    NY       MORTGAGE   \n",
       "2   36 months      major_purchase                3.50%    LA            OWN   \n",
       "3   36 months         credit_card               19.62%    NV       MORTGAGE   \n",
       "4   60 months         credit_card               23.79%    OH       MORTGAGE   \n",
       "\n",
       "   Monthly_Income FICO_Range Open_CREDIT_Lines Revolving_CREDIT_Balance  \\\n",
       "0         8606.56    720-724                11                    15210   \n",
       "1         6737.50    710-714                14                    19070   \n",
       "2         1000.00    690-694                13                      893   \n",
       "3         7083.33    710-714                12                    38194   \n",
       "4         5833.33    730-734                 6                    31061   \n",
       "\n",
       "   Inquiries_in_the_Last_6_Months Employment_Length   data  \n",
       "0                             3.0           5 years  train  \n",
       "1                             3.0           4 years  train  \n",
       "2                             1.0          < 1 year  train  \n",
       "3                             1.0         10+ years  train  \n",
       "4                             2.0         10+ years  train  "
      ]
     },
     "execution_count": 50,
     "metadata": {},
     "output_type": "execute_result"
    }
   ],
   "source": [
    "new_data.head()"
   ]
  },
  {
   "cell_type": "code",
   "execution_count": 51,
   "metadata": {},
   "outputs": [
    {
     "data": {
      "text/plain": [
       "(2500, 16)"
      ]
     },
     "execution_count": 51,
     "metadata": {},
     "output_type": "execute_result"
    }
   ],
   "source": [
    "new_data.shape"
   ]
  },
  {
   "cell_type": "code",
   "execution_count": 52,
   "metadata": {},
   "outputs": [
    {
     "name": "stdout",
     "output_type": "stream",
     "text": [
      "<class 'pandas.core.frame.DataFrame'>\n",
      "Int64Index: 2500 entries, 0 to 299\n",
      "Data columns (total 16 columns):\n",
      "ID                                2499 non-null float64\n",
      "Amount_Requested                  2499 non-null object\n",
      "Amount_Funded_By_Investors        2499 non-null object\n",
      "Interest_Rate                     2200 non-null object\n",
      "Loan_Length                       2499 non-null object\n",
      "Loan_Purpose                      2499 non-null object\n",
      "Debt_To_Income_Ratio              2499 non-null object\n",
      "State                             2499 non-null object\n",
      "Home_Ownership                    2499 non-null object\n",
      "Monthly_Income                    2497 non-null float64\n",
      "FICO_Range                        2500 non-null object\n",
      "Open_CREDIT_Lines                 2496 non-null object\n",
      "Revolving_CREDIT_Balance          2497 non-null object\n",
      "Inquiries_in_the_Last_6_Months    2497 non-null float64\n",
      "Employment_Length                 2422 non-null object\n",
      "data                              2500 non-null object\n",
      "dtypes: float64(3), object(13)\n",
      "memory usage: 332.0+ KB\n"
     ]
    }
   ],
   "source": [
    "# checking the data types\n",
    "new_data.info()"
   ]
  },
  {
   "cell_type": "code",
   "execution_count": 53,
   "metadata": {},
   "outputs": [],
   "source": [
    "# dropping ID and 'amt funded by investors' as it is a future variable\n",
    "new_data.drop('ID',axis=1,inplace=True)"
   ]
  },
  {
   "cell_type": "code",
   "execution_count": 54,
   "metadata": {},
   "outputs": [
    {
     "data": {
      "text/html": [
       "<div>\n",
       "<style scoped>\n",
       "    .dataframe tbody tr th:only-of-type {\n",
       "        vertical-align: middle;\n",
       "    }\n",
       "\n",
       "    .dataframe tbody tr th {\n",
       "        vertical-align: top;\n",
       "    }\n",
       "\n",
       "    .dataframe thead th {\n",
       "        text-align: right;\n",
       "    }\n",
       "</style>\n",
       "<table border=\"1\" class=\"dataframe\">\n",
       "  <thead>\n",
       "    <tr style=\"text-align: right;\">\n",
       "      <th></th>\n",
       "      <th>Amount_Requested</th>\n",
       "      <th>Amount_Funded_By_Investors</th>\n",
       "      <th>Interest_Rate</th>\n",
       "      <th>Loan_Length</th>\n",
       "      <th>Loan_Purpose</th>\n",
       "      <th>Debt_To_Income_Ratio</th>\n",
       "      <th>State</th>\n",
       "      <th>Home_Ownership</th>\n",
       "      <th>Monthly_Income</th>\n",
       "      <th>FICO_Range</th>\n",
       "      <th>Open_CREDIT_Lines</th>\n",
       "      <th>Revolving_CREDIT_Balance</th>\n",
       "      <th>Inquiries_in_the_Last_6_Months</th>\n",
       "      <th>Employment_Length</th>\n",
       "      <th>data</th>\n",
       "    </tr>\n",
       "  </thead>\n",
       "  <tbody>\n",
       "    <tr>\n",
       "      <th>0</th>\n",
       "      <td>25000</td>\n",
       "      <td>25000</td>\n",
       "      <td>18.49%</td>\n",
       "      <td>60 months</td>\n",
       "      <td>debt_consolidation</td>\n",
       "      <td>27.56%</td>\n",
       "      <td>VA</td>\n",
       "      <td>MORTGAGE</td>\n",
       "      <td>8606.56</td>\n",
       "      <td>720-724</td>\n",
       "      <td>11</td>\n",
       "      <td>15210</td>\n",
       "      <td>3.0</td>\n",
       "      <td>5 years</td>\n",
       "      <td>train</td>\n",
       "    </tr>\n",
       "    <tr>\n",
       "      <th>1</th>\n",
       "      <td>19750</td>\n",
       "      <td>19750</td>\n",
       "      <td>17.27%</td>\n",
       "      <td>60 months</td>\n",
       "      <td>debt_consolidation</td>\n",
       "      <td>13.39%</td>\n",
       "      <td>NY</td>\n",
       "      <td>MORTGAGE</td>\n",
       "      <td>6737.50</td>\n",
       "      <td>710-714</td>\n",
       "      <td>14</td>\n",
       "      <td>19070</td>\n",
       "      <td>3.0</td>\n",
       "      <td>4 years</td>\n",
       "      <td>train</td>\n",
       "    </tr>\n",
       "    <tr>\n",
       "      <th>2</th>\n",
       "      <td>2100</td>\n",
       "      <td>2100</td>\n",
       "      <td>14.33%</td>\n",
       "      <td>36 months</td>\n",
       "      <td>major_purchase</td>\n",
       "      <td>3.50%</td>\n",
       "      <td>LA</td>\n",
       "      <td>OWN</td>\n",
       "      <td>1000.00</td>\n",
       "      <td>690-694</td>\n",
       "      <td>13</td>\n",
       "      <td>893</td>\n",
       "      <td>1.0</td>\n",
       "      <td>&lt; 1 year</td>\n",
       "      <td>train</td>\n",
       "    </tr>\n",
       "    <tr>\n",
       "      <th>3</th>\n",
       "      <td>28000</td>\n",
       "      <td>28000</td>\n",
       "      <td>16.29%</td>\n",
       "      <td>36 months</td>\n",
       "      <td>credit_card</td>\n",
       "      <td>19.62%</td>\n",
       "      <td>NV</td>\n",
       "      <td>MORTGAGE</td>\n",
       "      <td>7083.33</td>\n",
       "      <td>710-714</td>\n",
       "      <td>12</td>\n",
       "      <td>38194</td>\n",
       "      <td>1.0</td>\n",
       "      <td>10+ years</td>\n",
       "      <td>train</td>\n",
       "    </tr>\n",
       "    <tr>\n",
       "      <th>4</th>\n",
       "      <td>24250</td>\n",
       "      <td>17431.82</td>\n",
       "      <td>12.23%</td>\n",
       "      <td>60 months</td>\n",
       "      <td>credit_card</td>\n",
       "      <td>23.79%</td>\n",
       "      <td>OH</td>\n",
       "      <td>MORTGAGE</td>\n",
       "      <td>5833.33</td>\n",
       "      <td>730-734</td>\n",
       "      <td>6</td>\n",
       "      <td>31061</td>\n",
       "      <td>2.0</td>\n",
       "      <td>10+ years</td>\n",
       "      <td>train</td>\n",
       "    </tr>\n",
       "  </tbody>\n",
       "</table>\n",
       "</div>"
      ],
      "text/plain": [
       "  Amount_Requested Amount_Funded_By_Investors Interest_Rate Loan_Length  \\\n",
       "0            25000                      25000        18.49%   60 months   \n",
       "1            19750                      19750        17.27%   60 months   \n",
       "2             2100                       2100        14.33%   36 months   \n",
       "3            28000                      28000        16.29%   36 months   \n",
       "4            24250                   17431.82        12.23%   60 months   \n",
       "\n",
       "         Loan_Purpose Debt_To_Income_Ratio State Home_Ownership  \\\n",
       "0  debt_consolidation               27.56%    VA       MORTGAGE   \n",
       "1  debt_consolidation               13.39%    NY       MORTGAGE   \n",
       "2      major_purchase                3.50%    LA            OWN   \n",
       "3         credit_card               19.62%    NV       MORTGAGE   \n",
       "4         credit_card               23.79%    OH       MORTGAGE   \n",
       "\n",
       "   Monthly_Income FICO_Range Open_CREDIT_Lines Revolving_CREDIT_Balance  \\\n",
       "0         8606.56    720-724                11                    15210   \n",
       "1         6737.50    710-714                14                    19070   \n",
       "2         1000.00    690-694                13                      893   \n",
       "3         7083.33    710-714                12                    38194   \n",
       "4         5833.33    730-734                 6                    31061   \n",
       "\n",
       "   Inquiries_in_the_Last_6_Months Employment_Length   data  \n",
       "0                             3.0           5 years  train  \n",
       "1                             3.0           4 years  train  \n",
       "2                             1.0          < 1 year  train  \n",
       "3                             1.0         10+ years  train  \n",
       "4                             2.0         10+ years  train  "
      ]
     },
     "execution_count": 54,
     "metadata": {},
     "output_type": "execute_result"
    }
   ],
   "source": [
    "new_data.head()"
   ]
  },
  {
   "cell_type": "code",
   "execution_count": 55,
   "metadata": {},
   "outputs": [],
   "source": [
    "new_data.drop('Amount_Funded_By_Investors',axis=1,inplace=True)"
   ]
  },
  {
   "cell_type": "code",
   "execution_count": 56,
   "metadata": {},
   "outputs": [
    {
     "data": {
      "text/html": [
       "<div>\n",
       "<style scoped>\n",
       "    .dataframe tbody tr th:only-of-type {\n",
       "        vertical-align: middle;\n",
       "    }\n",
       "\n",
       "    .dataframe tbody tr th {\n",
       "        vertical-align: top;\n",
       "    }\n",
       "\n",
       "    .dataframe thead th {\n",
       "        text-align: right;\n",
       "    }\n",
       "</style>\n",
       "<table border=\"1\" class=\"dataframe\">\n",
       "  <thead>\n",
       "    <tr style=\"text-align: right;\">\n",
       "      <th></th>\n",
       "      <th>Amount_Requested</th>\n",
       "      <th>Interest_Rate</th>\n",
       "      <th>Loan_Length</th>\n",
       "      <th>Loan_Purpose</th>\n",
       "      <th>Debt_To_Income_Ratio</th>\n",
       "      <th>State</th>\n",
       "      <th>Home_Ownership</th>\n",
       "      <th>Monthly_Income</th>\n",
       "      <th>FICO_Range</th>\n",
       "      <th>Open_CREDIT_Lines</th>\n",
       "      <th>Revolving_CREDIT_Balance</th>\n",
       "      <th>Inquiries_in_the_Last_6_Months</th>\n",
       "      <th>Employment_Length</th>\n",
       "      <th>data</th>\n",
       "    </tr>\n",
       "  </thead>\n",
       "  <tbody>\n",
       "    <tr>\n",
       "      <th>0</th>\n",
       "      <td>25000</td>\n",
       "      <td>18.49%</td>\n",
       "      <td>60 months</td>\n",
       "      <td>debt_consolidation</td>\n",
       "      <td>27.56%</td>\n",
       "      <td>VA</td>\n",
       "      <td>MORTGAGE</td>\n",
       "      <td>8606.56</td>\n",
       "      <td>720-724</td>\n",
       "      <td>11</td>\n",
       "      <td>15210</td>\n",
       "      <td>3.0</td>\n",
       "      <td>5 years</td>\n",
       "      <td>train</td>\n",
       "    </tr>\n",
       "    <tr>\n",
       "      <th>1</th>\n",
       "      <td>19750</td>\n",
       "      <td>17.27%</td>\n",
       "      <td>60 months</td>\n",
       "      <td>debt_consolidation</td>\n",
       "      <td>13.39%</td>\n",
       "      <td>NY</td>\n",
       "      <td>MORTGAGE</td>\n",
       "      <td>6737.50</td>\n",
       "      <td>710-714</td>\n",
       "      <td>14</td>\n",
       "      <td>19070</td>\n",
       "      <td>3.0</td>\n",
       "      <td>4 years</td>\n",
       "      <td>train</td>\n",
       "    </tr>\n",
       "    <tr>\n",
       "      <th>2</th>\n",
       "      <td>2100</td>\n",
       "      <td>14.33%</td>\n",
       "      <td>36 months</td>\n",
       "      <td>major_purchase</td>\n",
       "      <td>3.50%</td>\n",
       "      <td>LA</td>\n",
       "      <td>OWN</td>\n",
       "      <td>1000.00</td>\n",
       "      <td>690-694</td>\n",
       "      <td>13</td>\n",
       "      <td>893</td>\n",
       "      <td>1.0</td>\n",
       "      <td>&lt; 1 year</td>\n",
       "      <td>train</td>\n",
       "    </tr>\n",
       "    <tr>\n",
       "      <th>3</th>\n",
       "      <td>28000</td>\n",
       "      <td>16.29%</td>\n",
       "      <td>36 months</td>\n",
       "      <td>credit_card</td>\n",
       "      <td>19.62%</td>\n",
       "      <td>NV</td>\n",
       "      <td>MORTGAGE</td>\n",
       "      <td>7083.33</td>\n",
       "      <td>710-714</td>\n",
       "      <td>12</td>\n",
       "      <td>38194</td>\n",
       "      <td>1.0</td>\n",
       "      <td>10+ years</td>\n",
       "      <td>train</td>\n",
       "    </tr>\n",
       "    <tr>\n",
       "      <th>4</th>\n",
       "      <td>24250</td>\n",
       "      <td>12.23%</td>\n",
       "      <td>60 months</td>\n",
       "      <td>credit_card</td>\n",
       "      <td>23.79%</td>\n",
       "      <td>OH</td>\n",
       "      <td>MORTGAGE</td>\n",
       "      <td>5833.33</td>\n",
       "      <td>730-734</td>\n",
       "      <td>6</td>\n",
       "      <td>31061</td>\n",
       "      <td>2.0</td>\n",
       "      <td>10+ years</td>\n",
       "      <td>train</td>\n",
       "    </tr>\n",
       "  </tbody>\n",
       "</table>\n",
       "</div>"
      ],
      "text/plain": [
       "  Amount_Requested Interest_Rate Loan_Length        Loan_Purpose  \\\n",
       "0            25000        18.49%   60 months  debt_consolidation   \n",
       "1            19750        17.27%   60 months  debt_consolidation   \n",
       "2             2100        14.33%   36 months      major_purchase   \n",
       "3            28000        16.29%   36 months         credit_card   \n",
       "4            24250        12.23%   60 months         credit_card   \n",
       "\n",
       "  Debt_To_Income_Ratio State Home_Ownership  Monthly_Income FICO_Range  \\\n",
       "0               27.56%    VA       MORTGAGE         8606.56    720-724   \n",
       "1               13.39%    NY       MORTGAGE         6737.50    710-714   \n",
       "2                3.50%    LA            OWN         1000.00    690-694   \n",
       "3               19.62%    NV       MORTGAGE         7083.33    710-714   \n",
       "4               23.79%    OH       MORTGAGE         5833.33    730-734   \n",
       "\n",
       "  Open_CREDIT_Lines Revolving_CREDIT_Balance  Inquiries_in_the_Last_6_Months  \\\n",
       "0                11                    15210                             3.0   \n",
       "1                14                    19070                             3.0   \n",
       "2                13                      893                             1.0   \n",
       "3                12                    38194                             1.0   \n",
       "4                 6                    31061                             2.0   \n",
       "\n",
       "  Employment_Length   data  \n",
       "0           5 years  train  \n",
       "1           4 years  train  \n",
       "2          < 1 year  train  \n",
       "3         10+ years  train  \n",
       "4         10+ years  train  "
      ]
     },
     "execution_count": 56,
     "metadata": {},
     "output_type": "execute_result"
    }
   ],
   "source": [
    "new_data.head()"
   ]
  },
  {
   "cell_type": "code",
   "execution_count": 57,
   "metadata": {},
   "outputs": [],
   "source": [
    "# removing '%' from 'interest rate' and 'debt to income ratio'\n",
    "new_data['Interest_Rate']=new_data['Interest_Rate'].str.replace('%','')"
   ]
  },
  {
   "cell_type": "code",
   "execution_count": 58,
   "metadata": {},
   "outputs": [],
   "source": [
    "new_data['Debt_To_Income_Ratio']=new_data['Debt_To_Income_Ratio'].str.replace('%','')"
   ]
  },
  {
   "cell_type": "code",
   "execution_count": 59,
   "metadata": {},
   "outputs": [
    {
     "name": "stdout",
     "output_type": "stream",
     "text": [
      "<class 'pandas.core.frame.DataFrame'>\n",
      "Int64Index: 2500 entries, 0 to 299\n",
      "Data columns (total 14 columns):\n",
      "Amount_Requested                  2499 non-null object\n",
      "Interest_Rate                     2200 non-null object\n",
      "Loan_Length                       2499 non-null object\n",
      "Loan_Purpose                      2499 non-null object\n",
      "Debt_To_Income_Ratio              2499 non-null object\n",
      "State                             2499 non-null object\n",
      "Home_Ownership                    2499 non-null object\n",
      "Monthly_Income                    2497 non-null float64\n",
      "FICO_Range                        2500 non-null object\n",
      "Open_CREDIT_Lines                 2496 non-null object\n",
      "Revolving_CREDIT_Balance          2497 non-null object\n",
      "Inquiries_in_the_Last_6_Months    2497 non-null float64\n",
      "Employment_Length                 2422 non-null object\n",
      "data                              2500 non-null object\n",
      "dtypes: float64(2), object(12)\n",
      "memory usage: 293.0+ KB\n"
     ]
    }
   ],
   "source": [
    "new_data.info()"
   ]
  },
  {
   "cell_type": "code",
   "execution_count": 60,
   "metadata": {},
   "outputs": [
    {
     "data": {
      "text/html": [
       "<div>\n",
       "<style scoped>\n",
       "    .dataframe tbody tr th:only-of-type {\n",
       "        vertical-align: middle;\n",
       "    }\n",
       "\n",
       "    .dataframe tbody tr th {\n",
       "        vertical-align: top;\n",
       "    }\n",
       "\n",
       "    .dataframe thead th {\n",
       "        text-align: right;\n",
       "    }\n",
       "</style>\n",
       "<table border=\"1\" class=\"dataframe\">\n",
       "  <thead>\n",
       "    <tr style=\"text-align: right;\">\n",
       "      <th></th>\n",
       "      <th>Amount_Requested</th>\n",
       "      <th>Interest_Rate</th>\n",
       "      <th>Loan_Length</th>\n",
       "      <th>Loan_Purpose</th>\n",
       "      <th>Debt_To_Income_Ratio</th>\n",
       "      <th>State</th>\n",
       "      <th>Home_Ownership</th>\n",
       "      <th>Monthly_Income</th>\n",
       "      <th>FICO_Range</th>\n",
       "      <th>Open_CREDIT_Lines</th>\n",
       "      <th>Revolving_CREDIT_Balance</th>\n",
       "      <th>Inquiries_in_the_Last_6_Months</th>\n",
       "      <th>Employment_Length</th>\n",
       "      <th>data</th>\n",
       "    </tr>\n",
       "  </thead>\n",
       "  <tbody>\n",
       "    <tr>\n",
       "      <th>0</th>\n",
       "      <td>25000</td>\n",
       "      <td>18.49</td>\n",
       "      <td>60 months</td>\n",
       "      <td>debt_consolidation</td>\n",
       "      <td>27.56</td>\n",
       "      <td>VA</td>\n",
       "      <td>MORTGAGE</td>\n",
       "      <td>8606.56</td>\n",
       "      <td>720-724</td>\n",
       "      <td>11</td>\n",
       "      <td>15210</td>\n",
       "      <td>3.0</td>\n",
       "      <td>5 years</td>\n",
       "      <td>train</td>\n",
       "    </tr>\n",
       "    <tr>\n",
       "      <th>1</th>\n",
       "      <td>19750</td>\n",
       "      <td>17.27</td>\n",
       "      <td>60 months</td>\n",
       "      <td>debt_consolidation</td>\n",
       "      <td>13.39</td>\n",
       "      <td>NY</td>\n",
       "      <td>MORTGAGE</td>\n",
       "      <td>6737.50</td>\n",
       "      <td>710-714</td>\n",
       "      <td>14</td>\n",
       "      <td>19070</td>\n",
       "      <td>3.0</td>\n",
       "      <td>4 years</td>\n",
       "      <td>train</td>\n",
       "    </tr>\n",
       "  </tbody>\n",
       "</table>\n",
       "</div>"
      ],
      "text/plain": [
       "  Amount_Requested Interest_Rate Loan_Length        Loan_Purpose  \\\n",
       "0            25000         18.49   60 months  debt_consolidation   \n",
       "1            19750         17.27   60 months  debt_consolidation   \n",
       "\n",
       "  Debt_To_Income_Ratio State Home_Ownership  Monthly_Income FICO_Range  \\\n",
       "0                27.56    VA       MORTGAGE         8606.56    720-724   \n",
       "1                13.39    NY       MORTGAGE         6737.50    710-714   \n",
       "\n",
       "  Open_CREDIT_Lines Revolving_CREDIT_Balance  Inquiries_in_the_Last_6_Months  \\\n",
       "0                11                    15210                             3.0   \n",
       "1                14                    19070                             3.0   \n",
       "\n",
       "  Employment_Length   data  \n",
       "0           5 years  train  \n",
       "1           4 years  train  "
      ]
     },
     "execution_count": 60,
     "metadata": {},
     "output_type": "execute_result"
    }
   ],
   "source": [
    "new_data.head(2)"
   ]
  },
  {
   "cell_type": "code",
   "execution_count": 45,
   "metadata": {},
   "outputs": [
    {
     "data": {
      "text/plain": [
       "Index(['Amount_Requested', 'Interest_Rate', 'Loan_Length', 'Loan_Purpose',\n",
       "       'Debt_To_Income_Ratio', 'State', 'Home_Ownership', 'Monthly_Income',\n",
       "       'FICO_Range', 'Open_CREDIT_Lines', 'Revolving_CREDIT_Balance',\n",
       "       'Inquiries_in_the_Last_6_Months', 'Employment_Length', 'data'],\n",
       "      dtype='object')"
      ]
     },
     "execution_count": 45,
     "metadata": {},
     "output_type": "execute_result"
    }
   ],
   "source": [
    "new_data.columns"
   ]
  },
  {
   "cell_type": "code",
   "execution_count": 61,
   "metadata": {},
   "outputs": [],
   "source": [
    "c=['Amount_Requested', 'Interest_Rate',\n",
    "       'Debt_To_Income_Ratio','Monthly_Income', 'Open_CREDIT_Lines', 'Revolving_CREDIT_Balance']\n",
    "for i in c:\n",
    "    new_data[i]=pd.to_numeric(new_data[i],errors='coerce')"
   ]
  },
  {
   "cell_type": "code",
   "execution_count": 62,
   "metadata": {},
   "outputs": [
    {
     "name": "stdout",
     "output_type": "stream",
     "text": [
      "<class 'pandas.core.frame.DataFrame'>\n",
      "Int64Index: 2500 entries, 0 to 299\n",
      "Data columns (total 14 columns):\n",
      "Amount_Requested                  2495 non-null float64\n",
      "Interest_Rate                     2200 non-null float64\n",
      "Loan_Length                       2499 non-null object\n",
      "Loan_Purpose                      2499 non-null object\n",
      "Debt_To_Income_Ratio              2499 non-null float64\n",
      "State                             2499 non-null object\n",
      "Home_Ownership                    2499 non-null object\n",
      "Monthly_Income                    2497 non-null float64\n",
      "FICO_Range                        2500 non-null object\n",
      "Open_CREDIT_Lines                 2491 non-null float64\n",
      "Revolving_CREDIT_Balance          2495 non-null float64\n",
      "Inquiries_in_the_Last_6_Months    2497 non-null float64\n",
      "Employment_Length                 2422 non-null object\n",
      "data                              2500 non-null object\n",
      "dtypes: float64(7), object(7)\n",
      "memory usage: 293.0+ KB\n"
     ]
    }
   ],
   "source": [
    "new_data.info()"
   ]
  },
  {
   "cell_type": "code",
   "execution_count": 73,
   "metadata": {},
   "outputs": [
    {
     "data": {
      "text/plain": [
       "0      720-724\n",
       "1      710-714\n",
       "2      690-694\n",
       "3      710-714\n",
       "4      730-734\n",
       "5      785-789\n",
       "6      665-669\n",
       "7      735-739\n",
       "8      740-744\n",
       "9      765-769\n",
       "10     710-714\n",
       "11     800-804\n",
       "12     680-684\n",
       "13     690-694\n",
       "14     745-749\n",
       "15     745-749\n",
       "16     680-684\n",
       "17     660-664\n",
       "18     670-674\n",
       "19     720-724\n",
       "20     665-669\n",
       "21     705-709\n",
       "22     695-699\n",
       "23     695-699\n",
       "24     690-694\n",
       "25     705-709\n",
       "26     665-669\n",
       "27     715-719\n",
       "28     760-764\n",
       "29     685-689\n",
       "        ...   \n",
       "270    675-679\n",
       "271    740-744\n",
       "272    755-759\n",
       "273    760-764\n",
       "274    730-734\n",
       "275    750-754\n",
       "276    670-674\n",
       "277    675-679\n",
       "278    740-744\n",
       "279    685-689\n",
       "280    660-664\n",
       "281    670-674\n",
       "282    690-694\n",
       "283    665-669\n",
       "284    670-674\n",
       "285    730-734\n",
       "286    690-694\n",
       "287    710-714\n",
       "288    715-719\n",
       "289    700-704\n",
       "290    675-679\n",
       "291    760-764\n",
       "292    665-669\n",
       "293    735-739\n",
       "294    755-759\n",
       "295    705-709\n",
       "296    705-709\n",
       "297    670-674\n",
       "298    675-679\n",
       "299    675-679\n",
       "Name: FICO_Range, Length: 2500, dtype: object"
      ]
     },
     "execution_count": 73,
     "metadata": {},
     "output_type": "execute_result"
    }
   ],
   "source": [
    "s=new_data['FICO_Range']"
   ]
  },
  {
   "cell_type": "code",
   "execution_count": 74,
   "metadata": {},
   "outputs": [],
   "source": [
    "n=pd.DataFrame({'FICO_range':s})"
   ]
  },
  {
   "cell_type": "code",
   "execution_count": 80,
   "metadata": {},
   "outputs": [],
   "source": [
    "n['lower']=n['FICO_range'].str.partition('-')[0]"
   ]
  },
  {
   "cell_type": "code",
   "execution_count": 81,
   "metadata": {},
   "outputs": [],
   "source": [
    "n['upper']=n['FICO_range'].str.partition('-')[2]"
   ]
  },
  {
   "cell_type": "code",
   "execution_count": 108,
   "metadata": {},
   "outputs": [],
   "source": [
    "df=new_data.copy()"
   ]
  },
  {
   "cell_type": "code",
   "execution_count": 109,
   "metadata": {},
   "outputs": [
    {
     "data": {
      "text/html": [
       "<div>\n",
       "<style scoped>\n",
       "    .dataframe tbody tr th:only-of-type {\n",
       "        vertical-align: middle;\n",
       "    }\n",
       "\n",
       "    .dataframe tbody tr th {\n",
       "        vertical-align: top;\n",
       "    }\n",
       "\n",
       "    .dataframe thead th {\n",
       "        text-align: right;\n",
       "    }\n",
       "</style>\n",
       "<table border=\"1\" class=\"dataframe\">\n",
       "  <thead>\n",
       "    <tr style=\"text-align: right;\">\n",
       "      <th></th>\n",
       "      <th>Amount_Requested</th>\n",
       "      <th>Interest_Rate</th>\n",
       "      <th>Loan_Length</th>\n",
       "      <th>Loan_Purpose</th>\n",
       "      <th>Debt_To_Income_Ratio</th>\n",
       "      <th>State</th>\n",
       "      <th>Home_Ownership</th>\n",
       "      <th>Monthly_Income</th>\n",
       "      <th>FICO_Range</th>\n",
       "      <th>Open_CREDIT_Lines</th>\n",
       "      <th>Revolving_CREDIT_Balance</th>\n",
       "      <th>Inquiries_in_the_Last_6_Months</th>\n",
       "      <th>Employment_Length</th>\n",
       "      <th>data</th>\n",
       "    </tr>\n",
       "  </thead>\n",
       "  <tbody>\n",
       "    <tr>\n",
       "      <th>0</th>\n",
       "      <td>25000.0</td>\n",
       "      <td>18.49</td>\n",
       "      <td>60 months</td>\n",
       "      <td>debt_consolidation</td>\n",
       "      <td>27.56</td>\n",
       "      <td>VA</td>\n",
       "      <td>MORTGAGE</td>\n",
       "      <td>8606.56</td>\n",
       "      <td>720-724</td>\n",
       "      <td>11.0</td>\n",
       "      <td>15210.0</td>\n",
       "      <td>3.0</td>\n",
       "      <td>5 years</td>\n",
       "      <td>train</td>\n",
       "    </tr>\n",
       "    <tr>\n",
       "      <th>1</th>\n",
       "      <td>19750.0</td>\n",
       "      <td>17.27</td>\n",
       "      <td>60 months</td>\n",
       "      <td>debt_consolidation</td>\n",
       "      <td>13.39</td>\n",
       "      <td>NY</td>\n",
       "      <td>MORTGAGE</td>\n",
       "      <td>6737.50</td>\n",
       "      <td>710-714</td>\n",
       "      <td>14.0</td>\n",
       "      <td>19070.0</td>\n",
       "      <td>3.0</td>\n",
       "      <td>4 years</td>\n",
       "      <td>train</td>\n",
       "    </tr>\n",
       "  </tbody>\n",
       "</table>\n",
       "</div>"
      ],
      "text/plain": [
       "   Amount_Requested  Interest_Rate Loan_Length        Loan_Purpose  \\\n",
       "0           25000.0          18.49   60 months  debt_consolidation   \n",
       "1           19750.0          17.27   60 months  debt_consolidation   \n",
       "\n",
       "   Debt_To_Income_Ratio State Home_Ownership  Monthly_Income FICO_Range  \\\n",
       "0                 27.56    VA       MORTGAGE         8606.56    720-724   \n",
       "1                 13.39    NY       MORTGAGE         6737.50    710-714   \n",
       "\n",
       "   Open_CREDIT_Lines  Revolving_CREDIT_Balance  \\\n",
       "0               11.0                   15210.0   \n",
       "1               14.0                   19070.0   \n",
       "\n",
       "   Inquiries_in_the_Last_6_Months Employment_Length   data  \n",
       "0                             3.0           5 years  train  \n",
       "1                             3.0           4 years  train  "
      ]
     },
     "execution_count": 109,
     "metadata": {},
     "output_type": "execute_result"
    }
   ],
   "source": [
    "df.head(2)"
   ]
  },
  {
   "cell_type": "code",
   "execution_count": 110,
   "metadata": {},
   "outputs": [],
   "source": [
    "df['lower_range']=df['FICO_Range'].str.partition('-')[0]\n",
    "df['upper_range']=df['FICO_Range'].str.partition('-')[2]"
   ]
  },
  {
   "cell_type": "code",
   "execution_count": 111,
   "metadata": {},
   "outputs": [],
   "source": [
    "df['lower_range']=pd.to_numeric(df['lower_range'],errors='coerce')"
   ]
  },
  {
   "cell_type": "code",
   "execution_count": 112,
   "metadata": {},
   "outputs": [],
   "source": [
    "df['upper_range']=pd.to_numeric(df['upper_range'],errors='coerce')"
   ]
  },
  {
   "cell_type": "code",
   "execution_count": 113,
   "metadata": {},
   "outputs": [
    {
     "data": {
      "text/html": [
       "<div>\n",
       "<style scoped>\n",
       "    .dataframe tbody tr th:only-of-type {\n",
       "        vertical-align: middle;\n",
       "    }\n",
       "\n",
       "    .dataframe tbody tr th {\n",
       "        vertical-align: top;\n",
       "    }\n",
       "\n",
       "    .dataframe thead th {\n",
       "        text-align: right;\n",
       "    }\n",
       "</style>\n",
       "<table border=\"1\" class=\"dataframe\">\n",
       "  <thead>\n",
       "    <tr style=\"text-align: right;\">\n",
       "      <th></th>\n",
       "      <th>Amount_Requested</th>\n",
       "      <th>Interest_Rate</th>\n",
       "      <th>Loan_Length</th>\n",
       "      <th>Loan_Purpose</th>\n",
       "      <th>Debt_To_Income_Ratio</th>\n",
       "      <th>State</th>\n",
       "      <th>Home_Ownership</th>\n",
       "      <th>Monthly_Income</th>\n",
       "      <th>FICO_Range</th>\n",
       "      <th>Open_CREDIT_Lines</th>\n",
       "      <th>Revolving_CREDIT_Balance</th>\n",
       "      <th>Inquiries_in_the_Last_6_Months</th>\n",
       "      <th>Employment_Length</th>\n",
       "      <th>data</th>\n",
       "      <th>lower_range</th>\n",
       "      <th>upper_range</th>\n",
       "    </tr>\n",
       "  </thead>\n",
       "  <tbody>\n",
       "    <tr>\n",
       "      <th>0</th>\n",
       "      <td>25000.0</td>\n",
       "      <td>18.49</td>\n",
       "      <td>60 months</td>\n",
       "      <td>debt_consolidation</td>\n",
       "      <td>27.56</td>\n",
       "      <td>VA</td>\n",
       "      <td>MORTGAGE</td>\n",
       "      <td>8606.56</td>\n",
       "      <td>720-724</td>\n",
       "      <td>11.0</td>\n",
       "      <td>15210.0</td>\n",
       "      <td>3.0</td>\n",
       "      <td>5 years</td>\n",
       "      <td>train</td>\n",
       "      <td>720</td>\n",
       "      <td>724</td>\n",
       "    </tr>\n",
       "    <tr>\n",
       "      <th>1</th>\n",
       "      <td>19750.0</td>\n",
       "      <td>17.27</td>\n",
       "      <td>60 months</td>\n",
       "      <td>debt_consolidation</td>\n",
       "      <td>13.39</td>\n",
       "      <td>NY</td>\n",
       "      <td>MORTGAGE</td>\n",
       "      <td>6737.50</td>\n",
       "      <td>710-714</td>\n",
       "      <td>14.0</td>\n",
       "      <td>19070.0</td>\n",
       "      <td>3.0</td>\n",
       "      <td>4 years</td>\n",
       "      <td>train</td>\n",
       "      <td>710</td>\n",
       "      <td>714</td>\n",
       "    </tr>\n",
       "    <tr>\n",
       "      <th>2</th>\n",
       "      <td>2100.0</td>\n",
       "      <td>14.33</td>\n",
       "      <td>36 months</td>\n",
       "      <td>major_purchase</td>\n",
       "      <td>3.50</td>\n",
       "      <td>LA</td>\n",
       "      <td>OWN</td>\n",
       "      <td>1000.00</td>\n",
       "      <td>690-694</td>\n",
       "      <td>13.0</td>\n",
       "      <td>893.0</td>\n",
       "      <td>1.0</td>\n",
       "      <td>&lt; 1 year</td>\n",
       "      <td>train</td>\n",
       "      <td>690</td>\n",
       "      <td>694</td>\n",
       "    </tr>\n",
       "    <tr>\n",
       "      <th>3</th>\n",
       "      <td>28000.0</td>\n",
       "      <td>16.29</td>\n",
       "      <td>36 months</td>\n",
       "      <td>credit_card</td>\n",
       "      <td>19.62</td>\n",
       "      <td>NV</td>\n",
       "      <td>MORTGAGE</td>\n",
       "      <td>7083.33</td>\n",
       "      <td>710-714</td>\n",
       "      <td>12.0</td>\n",
       "      <td>38194.0</td>\n",
       "      <td>1.0</td>\n",
       "      <td>10+ years</td>\n",
       "      <td>train</td>\n",
       "      <td>710</td>\n",
       "      <td>714</td>\n",
       "    </tr>\n",
       "    <tr>\n",
       "      <th>4</th>\n",
       "      <td>24250.0</td>\n",
       "      <td>12.23</td>\n",
       "      <td>60 months</td>\n",
       "      <td>credit_card</td>\n",
       "      <td>23.79</td>\n",
       "      <td>OH</td>\n",
       "      <td>MORTGAGE</td>\n",
       "      <td>5833.33</td>\n",
       "      <td>730-734</td>\n",
       "      <td>6.0</td>\n",
       "      <td>31061.0</td>\n",
       "      <td>2.0</td>\n",
       "      <td>10+ years</td>\n",
       "      <td>train</td>\n",
       "      <td>730</td>\n",
       "      <td>734</td>\n",
       "    </tr>\n",
       "  </tbody>\n",
       "</table>\n",
       "</div>"
      ],
      "text/plain": [
       "   Amount_Requested  Interest_Rate Loan_Length        Loan_Purpose  \\\n",
       "0           25000.0          18.49   60 months  debt_consolidation   \n",
       "1           19750.0          17.27   60 months  debt_consolidation   \n",
       "2            2100.0          14.33   36 months      major_purchase   \n",
       "3           28000.0          16.29   36 months         credit_card   \n",
       "4           24250.0          12.23   60 months         credit_card   \n",
       "\n",
       "   Debt_To_Income_Ratio State Home_Ownership  Monthly_Income FICO_Range  \\\n",
       "0                 27.56    VA       MORTGAGE         8606.56    720-724   \n",
       "1                 13.39    NY       MORTGAGE         6737.50    710-714   \n",
       "2                  3.50    LA            OWN         1000.00    690-694   \n",
       "3                 19.62    NV       MORTGAGE         7083.33    710-714   \n",
       "4                 23.79    OH       MORTGAGE         5833.33    730-734   \n",
       "\n",
       "   Open_CREDIT_Lines  Revolving_CREDIT_Balance  \\\n",
       "0               11.0                   15210.0   \n",
       "1               14.0                   19070.0   \n",
       "2               13.0                     893.0   \n",
       "3               12.0                   38194.0   \n",
       "4                6.0                   31061.0   \n",
       "\n",
       "   Inquiries_in_the_Last_6_Months Employment_Length   data  lower_range  \\\n",
       "0                             3.0           5 years  train          720   \n",
       "1                             3.0           4 years  train          710   \n",
       "2                             1.0          < 1 year  train          690   \n",
       "3                             1.0         10+ years  train          710   \n",
       "4                             2.0         10+ years  train          730   \n",
       "\n",
       "   upper_range  \n",
       "0          724  \n",
       "1          714  \n",
       "2          694  \n",
       "3          714  \n",
       "4          734  "
      ]
     },
     "execution_count": 113,
     "metadata": {},
     "output_type": "execute_result"
    }
   ],
   "source": [
    "df.head()"
   ]
  },
  {
   "cell_type": "code",
   "execution_count": 114,
   "metadata": {},
   "outputs": [
    {
     "name": "stdout",
     "output_type": "stream",
     "text": [
      "<class 'pandas.core.frame.DataFrame'>\n",
      "Int64Index: 2500 entries, 0 to 299\n",
      "Data columns (total 16 columns):\n",
      "Amount_Requested                  2495 non-null float64\n",
      "Interest_Rate                     2200 non-null float64\n",
      "Loan_Length                       2499 non-null object\n",
      "Loan_Purpose                      2499 non-null object\n",
      "Debt_To_Income_Ratio              2499 non-null float64\n",
      "State                             2499 non-null object\n",
      "Home_Ownership                    2499 non-null object\n",
      "Monthly_Income                    2497 non-null float64\n",
      "FICO_Range                        2500 non-null object\n",
      "Open_CREDIT_Lines                 2491 non-null float64\n",
      "Revolving_CREDIT_Balance          2495 non-null float64\n",
      "Inquiries_in_the_Last_6_Months    2497 non-null float64\n",
      "Employment_Length                 2422 non-null object\n",
      "data                              2500 non-null object\n",
      "lower_range                       2500 non-null int64\n",
      "upper_range                       2500 non-null int64\n",
      "dtypes: float64(7), int64(2), object(7)\n",
      "memory usage: 332.0+ KB\n"
     ]
    }
   ],
   "source": [
    "df.info()"
   ]
  },
  {
   "cell_type": "code",
   "execution_count": 115,
   "metadata": {},
   "outputs": [],
   "source": [
    "df['FICO_Range']=(df['lower_range']+df['upper_range'])/2"
   ]
  },
  {
   "cell_type": "code",
   "execution_count": 116,
   "metadata": {},
   "outputs": [
    {
     "data": {
      "text/html": [
       "<div>\n",
       "<style scoped>\n",
       "    .dataframe tbody tr th:only-of-type {\n",
       "        vertical-align: middle;\n",
       "    }\n",
       "\n",
       "    .dataframe tbody tr th {\n",
       "        vertical-align: top;\n",
       "    }\n",
       "\n",
       "    .dataframe thead th {\n",
       "        text-align: right;\n",
       "    }\n",
       "</style>\n",
       "<table border=\"1\" class=\"dataframe\">\n",
       "  <thead>\n",
       "    <tr style=\"text-align: right;\">\n",
       "      <th></th>\n",
       "      <th>Amount_Requested</th>\n",
       "      <th>Interest_Rate</th>\n",
       "      <th>Loan_Length</th>\n",
       "      <th>Loan_Purpose</th>\n",
       "      <th>Debt_To_Income_Ratio</th>\n",
       "      <th>State</th>\n",
       "      <th>Home_Ownership</th>\n",
       "      <th>Monthly_Income</th>\n",
       "      <th>FICO_Range</th>\n",
       "      <th>Open_CREDIT_Lines</th>\n",
       "      <th>Revolving_CREDIT_Balance</th>\n",
       "      <th>Inquiries_in_the_Last_6_Months</th>\n",
       "      <th>Employment_Length</th>\n",
       "      <th>data</th>\n",
       "      <th>lower_range</th>\n",
       "      <th>upper_range</th>\n",
       "    </tr>\n",
       "  </thead>\n",
       "  <tbody>\n",
       "    <tr>\n",
       "      <th>0</th>\n",
       "      <td>25000.0</td>\n",
       "      <td>18.49</td>\n",
       "      <td>60 months</td>\n",
       "      <td>debt_consolidation</td>\n",
       "      <td>27.56</td>\n",
       "      <td>VA</td>\n",
       "      <td>MORTGAGE</td>\n",
       "      <td>8606.56</td>\n",
       "      <td>722.0</td>\n",
       "      <td>11.0</td>\n",
       "      <td>15210.0</td>\n",
       "      <td>3.0</td>\n",
       "      <td>5 years</td>\n",
       "      <td>train</td>\n",
       "      <td>720</td>\n",
       "      <td>724</td>\n",
       "    </tr>\n",
       "    <tr>\n",
       "      <th>1</th>\n",
       "      <td>19750.0</td>\n",
       "      <td>17.27</td>\n",
       "      <td>60 months</td>\n",
       "      <td>debt_consolidation</td>\n",
       "      <td>13.39</td>\n",
       "      <td>NY</td>\n",
       "      <td>MORTGAGE</td>\n",
       "      <td>6737.50</td>\n",
       "      <td>712.0</td>\n",
       "      <td>14.0</td>\n",
       "      <td>19070.0</td>\n",
       "      <td>3.0</td>\n",
       "      <td>4 years</td>\n",
       "      <td>train</td>\n",
       "      <td>710</td>\n",
       "      <td>714</td>\n",
       "    </tr>\n",
       "  </tbody>\n",
       "</table>\n",
       "</div>"
      ],
      "text/plain": [
       "   Amount_Requested  Interest_Rate Loan_Length        Loan_Purpose  \\\n",
       "0           25000.0          18.49   60 months  debt_consolidation   \n",
       "1           19750.0          17.27   60 months  debt_consolidation   \n",
       "\n",
       "   Debt_To_Income_Ratio State Home_Ownership  Monthly_Income  FICO_Range  \\\n",
       "0                 27.56    VA       MORTGAGE         8606.56       722.0   \n",
       "1                 13.39    NY       MORTGAGE         6737.50       712.0   \n",
       "\n",
       "   Open_CREDIT_Lines  Revolving_CREDIT_Balance  \\\n",
       "0               11.0                   15210.0   \n",
       "1               14.0                   19070.0   \n",
       "\n",
       "   Inquiries_in_the_Last_6_Months Employment_Length   data  lower_range  \\\n",
       "0                             3.0           5 years  train          720   \n",
       "1                             3.0           4 years  train          710   \n",
       "\n",
       "   upper_range  \n",
       "0          724  \n",
       "1          714  "
      ]
     },
     "execution_count": 116,
     "metadata": {},
     "output_type": "execute_result"
    }
   ],
   "source": [
    "df.head(2)"
   ]
  },
  {
   "cell_type": "code",
   "execution_count": 117,
   "metadata": {},
   "outputs": [],
   "source": [
    "df.drop(['lower_range','upper_range'],axis=1,inplace=True)"
   ]
  },
  {
   "cell_type": "code",
   "execution_count": 118,
   "metadata": {},
   "outputs": [
    {
     "data": {
      "text/html": [
       "<div>\n",
       "<style scoped>\n",
       "    .dataframe tbody tr th:only-of-type {\n",
       "        vertical-align: middle;\n",
       "    }\n",
       "\n",
       "    .dataframe tbody tr th {\n",
       "        vertical-align: top;\n",
       "    }\n",
       "\n",
       "    .dataframe thead th {\n",
       "        text-align: right;\n",
       "    }\n",
       "</style>\n",
       "<table border=\"1\" class=\"dataframe\">\n",
       "  <thead>\n",
       "    <tr style=\"text-align: right;\">\n",
       "      <th></th>\n",
       "      <th>Amount_Requested</th>\n",
       "      <th>Interest_Rate</th>\n",
       "      <th>Loan_Length</th>\n",
       "      <th>Loan_Purpose</th>\n",
       "      <th>Debt_To_Income_Ratio</th>\n",
       "      <th>State</th>\n",
       "      <th>Home_Ownership</th>\n",
       "      <th>Monthly_Income</th>\n",
       "      <th>FICO_Range</th>\n",
       "      <th>Open_CREDIT_Lines</th>\n",
       "      <th>Revolving_CREDIT_Balance</th>\n",
       "      <th>Inquiries_in_the_Last_6_Months</th>\n",
       "      <th>Employment_Length</th>\n",
       "      <th>data</th>\n",
       "    </tr>\n",
       "  </thead>\n",
       "  <tbody>\n",
       "    <tr>\n",
       "      <th>0</th>\n",
       "      <td>25000.0</td>\n",
       "      <td>18.49</td>\n",
       "      <td>60 months</td>\n",
       "      <td>debt_consolidation</td>\n",
       "      <td>27.56</td>\n",
       "      <td>VA</td>\n",
       "      <td>MORTGAGE</td>\n",
       "      <td>8606.56</td>\n",
       "      <td>722.0</td>\n",
       "      <td>11.0</td>\n",
       "      <td>15210.0</td>\n",
       "      <td>3.0</td>\n",
       "      <td>5 years</td>\n",
       "      <td>train</td>\n",
       "    </tr>\n",
       "    <tr>\n",
       "      <th>1</th>\n",
       "      <td>19750.0</td>\n",
       "      <td>17.27</td>\n",
       "      <td>60 months</td>\n",
       "      <td>debt_consolidation</td>\n",
       "      <td>13.39</td>\n",
       "      <td>NY</td>\n",
       "      <td>MORTGAGE</td>\n",
       "      <td>6737.50</td>\n",
       "      <td>712.0</td>\n",
       "      <td>14.0</td>\n",
       "      <td>19070.0</td>\n",
       "      <td>3.0</td>\n",
       "      <td>4 years</td>\n",
       "      <td>train</td>\n",
       "    </tr>\n",
       "    <tr>\n",
       "      <th>2</th>\n",
       "      <td>2100.0</td>\n",
       "      <td>14.33</td>\n",
       "      <td>36 months</td>\n",
       "      <td>major_purchase</td>\n",
       "      <td>3.50</td>\n",
       "      <td>LA</td>\n",
       "      <td>OWN</td>\n",
       "      <td>1000.00</td>\n",
       "      <td>692.0</td>\n",
       "      <td>13.0</td>\n",
       "      <td>893.0</td>\n",
       "      <td>1.0</td>\n",
       "      <td>&lt; 1 year</td>\n",
       "      <td>train</td>\n",
       "    </tr>\n",
       "    <tr>\n",
       "      <th>3</th>\n",
       "      <td>28000.0</td>\n",
       "      <td>16.29</td>\n",
       "      <td>36 months</td>\n",
       "      <td>credit_card</td>\n",
       "      <td>19.62</td>\n",
       "      <td>NV</td>\n",
       "      <td>MORTGAGE</td>\n",
       "      <td>7083.33</td>\n",
       "      <td>712.0</td>\n",
       "      <td>12.0</td>\n",
       "      <td>38194.0</td>\n",
       "      <td>1.0</td>\n",
       "      <td>10+ years</td>\n",
       "      <td>train</td>\n",
       "    </tr>\n",
       "    <tr>\n",
       "      <th>4</th>\n",
       "      <td>24250.0</td>\n",
       "      <td>12.23</td>\n",
       "      <td>60 months</td>\n",
       "      <td>credit_card</td>\n",
       "      <td>23.79</td>\n",
       "      <td>OH</td>\n",
       "      <td>MORTGAGE</td>\n",
       "      <td>5833.33</td>\n",
       "      <td>732.0</td>\n",
       "      <td>6.0</td>\n",
       "      <td>31061.0</td>\n",
       "      <td>2.0</td>\n",
       "      <td>10+ years</td>\n",
       "      <td>train</td>\n",
       "    </tr>\n",
       "  </tbody>\n",
       "</table>\n",
       "</div>"
      ],
      "text/plain": [
       "   Amount_Requested  Interest_Rate Loan_Length        Loan_Purpose  \\\n",
       "0           25000.0          18.49   60 months  debt_consolidation   \n",
       "1           19750.0          17.27   60 months  debt_consolidation   \n",
       "2            2100.0          14.33   36 months      major_purchase   \n",
       "3           28000.0          16.29   36 months         credit_card   \n",
       "4           24250.0          12.23   60 months         credit_card   \n",
       "\n",
       "   Debt_To_Income_Ratio State Home_Ownership  Monthly_Income  FICO_Range  \\\n",
       "0                 27.56    VA       MORTGAGE         8606.56       722.0   \n",
       "1                 13.39    NY       MORTGAGE         6737.50       712.0   \n",
       "2                  3.50    LA            OWN         1000.00       692.0   \n",
       "3                 19.62    NV       MORTGAGE         7083.33       712.0   \n",
       "4                 23.79    OH       MORTGAGE         5833.33       732.0   \n",
       "\n",
       "   Open_CREDIT_Lines  Revolving_CREDIT_Balance  \\\n",
       "0               11.0                   15210.0   \n",
       "1               14.0                   19070.0   \n",
       "2               13.0                     893.0   \n",
       "3               12.0                   38194.0   \n",
       "4                6.0                   31061.0   \n",
       "\n",
       "   Inquiries_in_the_Last_6_Months Employment_Length   data  \n",
       "0                             3.0           5 years  train  \n",
       "1                             3.0           4 years  train  \n",
       "2                             1.0          < 1 year  train  \n",
       "3                             1.0         10+ years  train  \n",
       "4                             2.0         10+ years  train  "
      ]
     },
     "execution_count": 118,
     "metadata": {},
     "output_type": "execute_result"
    }
   ],
   "source": [
    "df.head()"
   ]
  },
  {
   "cell_type": "code",
   "execution_count": 119,
   "metadata": {},
   "outputs": [
    {
     "name": "stdout",
     "output_type": "stream",
     "text": [
      "<class 'pandas.core.frame.DataFrame'>\n",
      "Int64Index: 2500 entries, 0 to 299\n",
      "Data columns (total 14 columns):\n",
      "Amount_Requested                  2495 non-null float64\n",
      "Interest_Rate                     2200 non-null float64\n",
      "Loan_Length                       2499 non-null object\n",
      "Loan_Purpose                      2499 non-null object\n",
      "Debt_To_Income_Ratio              2499 non-null float64\n",
      "State                             2499 non-null object\n",
      "Home_Ownership                    2499 non-null object\n",
      "Monthly_Income                    2497 non-null float64\n",
      "FICO_Range                        2500 non-null float64\n",
      "Open_CREDIT_Lines                 2491 non-null float64\n",
      "Revolving_CREDIT_Balance          2495 non-null float64\n",
      "Inquiries_in_the_Last_6_Months    2497 non-null float64\n",
      "Employment_Length                 2422 non-null object\n",
      "data                              2500 non-null object\n",
      "dtypes: float64(8), object(6)\n",
      "memory usage: 293.0+ KB\n"
     ]
    }
   ],
   "source": [
    "df.info()"
   ]
  },
  {
   "cell_type": "code",
   "execution_count": 120,
   "metadata": {},
   "outputs": [],
   "source": [
    "df['Employment_Length']=df['Employment_Length'].str.replace('years','')"
   ]
  },
  {
   "cell_type": "code",
   "execution_count": 121,
   "metadata": {},
   "outputs": [
    {
     "data": {
      "text/plain": [
       "10+         653\n",
       "< 1 year    249\n",
       "2           243\n",
       "3           235\n",
       "5           202\n",
       "4           191\n",
       "1 year      177\n",
       "6           163\n",
       "7           127\n",
       "8           108\n",
       "9            72\n",
       ".             2\n",
       "Name: Employment_Length, dtype: int64"
      ]
     },
     "execution_count": 121,
     "metadata": {},
     "output_type": "execute_result"
    }
   ],
   "source": [
    "df['Employment_Length'].value_counts()"
   ]
  },
  {
   "cell_type": "code",
   "execution_count": 122,
   "metadata": {},
   "outputs": [],
   "source": [
    "df['Employment_Length']=df['Employment_Length'].str.replace('year','')"
   ]
  },
  {
   "cell_type": "code",
   "execution_count": 103,
   "metadata": {},
   "outputs": [
    {
     "data": {
      "text/plain": [
       "10+     653\n",
       "< 1     249\n",
       "2       243\n",
       "3       235\n",
       "5       202\n",
       "4       191\n",
       "1       177\n",
       "6       163\n",
       "7       127\n",
       "8       108\n",
       "9        72\n",
       ".         2\n",
       "Name: Employment_Length, dtype: int64"
      ]
     },
     "execution_count": 103,
     "metadata": {},
     "output_type": "execute_result"
    }
   ],
   "source": [
    "df['Employment_Length'].value_counts()"
   ]
  },
  {
   "cell_type": "code",
   "execution_count": 125,
   "metadata": {},
   "outputs": [
    {
     "data": {
      "text/plain": [
       "10+     653\n",
       "0       249\n",
       "2       243\n",
       "3       235\n",
       "5       202\n",
       "4       191\n",
       "1       177\n",
       "6       163\n",
       "7       127\n",
       "8       108\n",
       "9        72\n",
       ".         2\n",
       "Name: Employment_Length, dtype: int64"
      ]
     },
     "execution_count": 125,
     "metadata": {},
     "output_type": "execute_result"
    }
   ],
   "source": [
    "df['Employment_Length']=df['Employment_Length'].str.replace('< 1','0')\n",
    "df['Employment_Length'].value_counts()"
   ]
  },
  {
   "cell_type": "code",
   "execution_count": 128,
   "metadata": {},
   "outputs": [
    {
     "data": {
      "text/plain": [
       "10+     653\n",
       "0       249\n",
       "2       243\n",
       "3       235\n",
       "5       202\n",
       "4       191\n",
       "1       177\n",
       "6       163\n",
       "7       127\n",
       "8       108\n",
       "9        72\n",
       "NA        2\n",
       "Name: Employment_Length, dtype: int64"
      ]
     },
     "execution_count": 128,
     "metadata": {},
     "output_type": "execute_result"
    }
   ],
   "source": [
    "df['Employment_Length']=df['Employment_Length'].str.replace('.','NA')\n",
    "df['Employment_Length'].value_counts()"
   ]
  },
  {
   "cell_type": "code",
   "execution_count": 137,
   "metadata": {},
   "outputs": [],
   "source": [
    "df['Employment_Length']=df['Employment_Length'].str.replace('+','')"
   ]
  },
  {
   "cell_type": "code",
   "execution_count": 138,
   "metadata": {
    "scrolled": true
   },
   "outputs": [
    {
     "data": {
      "text/plain": [
       "10     653\n",
       "0      249\n",
       "2      243\n",
       "3      235\n",
       "5      202\n",
       "4      191\n",
       "1      177\n",
       "6      163\n",
       "7      127\n",
       "8      108\n",
       "9       72\n",
       "NA       2\n",
       "Name: Employment_Length, dtype: int64"
      ]
     },
     "execution_count": 138,
     "metadata": {},
     "output_type": "execute_result"
    }
   ],
   "source": [
    "df['Employment_Length'].value_counts()"
   ]
  },
  {
   "cell_type": "code",
   "execution_count": 139,
   "metadata": {},
   "outputs": [
    {
     "data": {
      "text/plain": [
       "0       5 \n",
       "1       4 \n",
       "2       0 \n",
       "3      10 \n",
       "4      10 \n",
       "5      NaN\n",
       "6       2 \n",
       "7       0 \n",
       "8      NaN\n",
       "9      NaN\n",
       "10     10 \n",
       "11     10 \n",
       "12      8 \n",
       "13     NaN\n",
       "14      4 \n",
       "15     10 \n",
       "16     10 \n",
       "17      0 \n",
       "18      1 \n",
       "19     NaN\n",
       "20      1 \n",
       "21     10 \n",
       "22      4 \n",
       "23     10 \n",
       "24      4 \n",
       "25     10 \n",
       "26      8 \n",
       "27      4 \n",
       "28     10 \n",
       "29     10 \n",
       "      ... \n",
       "270     4 \n",
       "271    10 \n",
       "272     1 \n",
       "273    10 \n",
       "274    10 \n",
       "275     0 \n",
       "276     4 \n",
       "277     6 \n",
       "278     0 \n",
       "279     5 \n",
       "280     9 \n",
       "281    10 \n",
       "282     4 \n",
       "283     5 \n",
       "284     2 \n",
       "285    10 \n",
       "286     0 \n",
       "287    10 \n",
       "288     9 \n",
       "289     3 \n",
       "290    NaN\n",
       "291     4 \n",
       "292     3 \n",
       "293     3 \n",
       "294     8 \n",
       "295     7 \n",
       "296    10 \n",
       "297     6 \n",
       "298    10 \n",
       "299     2 \n",
       "Name: Employment_Length, Length: 2500, dtype: object"
      ]
     },
     "execution_count": 139,
     "metadata": {},
     "output_type": "execute_result"
    }
   ],
   "source": [
    "df['Employment_Length'].replace('Na',np.nan)"
   ]
  },
  {
   "cell_type": "code",
   "execution_count": 140,
   "metadata": {},
   "outputs": [],
   "source": [
    "df['Employment_Length']=pd.to_numeric(df['Employment_Length'],errors='coerce')"
   ]
  },
  {
   "cell_type": "code",
   "execution_count": 141,
   "metadata": {},
   "outputs": [
    {
     "name": "stdout",
     "output_type": "stream",
     "text": [
      "<class 'pandas.core.frame.DataFrame'>\n",
      "Int64Index: 2500 entries, 0 to 299\n",
      "Data columns (total 14 columns):\n",
      "Amount_Requested                  2495 non-null float64\n",
      "Interest_Rate                     2200 non-null float64\n",
      "Loan_Length                       2499 non-null object\n",
      "Loan_Purpose                      2499 non-null object\n",
      "Debt_To_Income_Ratio              2499 non-null float64\n",
      "State                             2499 non-null object\n",
      "Home_Ownership                    2499 non-null object\n",
      "Monthly_Income                    2497 non-null float64\n",
      "FICO_Range                        2500 non-null float64\n",
      "Open_CREDIT_Lines                 2491 non-null float64\n",
      "Revolving_CREDIT_Balance          2495 non-null float64\n",
      "Inquiries_in_the_Last_6_Months    2497 non-null float64\n",
      "Employment_Length                 2420 non-null float64\n",
      "data                              2500 non-null object\n",
      "dtypes: float64(9), object(5)\n",
      "memory usage: 293.0+ KB\n"
     ]
    }
   ],
   "source": [
    "df.info()"
   ]
  },
  {
   "cell_type": "code",
   "execution_count": 256,
   "metadata": {},
   "outputs": [
    {
     "data": {
      "text/html": [
       "<div>\n",
       "<style scoped>\n",
       "    .dataframe tbody tr th:only-of-type {\n",
       "        vertical-align: middle;\n",
       "    }\n",
       "\n",
       "    .dataframe tbody tr th {\n",
       "        vertical-align: top;\n",
       "    }\n",
       "\n",
       "    .dataframe thead th {\n",
       "        text-align: right;\n",
       "    }\n",
       "</style>\n",
       "<table border=\"1\" class=\"dataframe\">\n",
       "  <thead>\n",
       "    <tr style=\"text-align: right;\">\n",
       "      <th></th>\n",
       "      <th>Loan_Length</th>\n",
       "      <th>Loan_Purpose</th>\n",
       "      <th>State</th>\n",
       "      <th>Home_Ownership</th>\n",
       "    </tr>\n",
       "  </thead>\n",
       "  <tbody>\n",
       "    <tr>\n",
       "      <th>0</th>\n",
       "      <td>60 months</td>\n",
       "      <td>debt_consolidation</td>\n",
       "      <td>VA</td>\n",
       "      <td>MORTGAGE</td>\n",
       "    </tr>\n",
       "    <tr>\n",
       "      <th>1</th>\n",
       "      <td>60 months</td>\n",
       "      <td>debt_consolidation</td>\n",
       "      <td>NY</td>\n",
       "      <td>MORTGAGE</td>\n",
       "    </tr>\n",
       "    <tr>\n",
       "      <th>2</th>\n",
       "      <td>36 months</td>\n",
       "      <td>major_purchase</td>\n",
       "      <td>LA</td>\n",
       "      <td>OWN</td>\n",
       "    </tr>\n",
       "    <tr>\n",
       "      <th>3</th>\n",
       "      <td>36 months</td>\n",
       "      <td>credit_card</td>\n",
       "      <td>NV</td>\n",
       "      <td>MORTGAGE</td>\n",
       "    </tr>\n",
       "    <tr>\n",
       "      <th>4</th>\n",
       "      <td>60 months</td>\n",
       "      <td>credit_card</td>\n",
       "      <td>OH</td>\n",
       "      <td>MORTGAGE</td>\n",
       "    </tr>\n",
       "    <tr>\n",
       "      <th>5</th>\n",
       "      <td>36 months</td>\n",
       "      <td>small_business</td>\n",
       "      <td>OH</td>\n",
       "      <td>RENT</td>\n",
       "    </tr>\n",
       "    <tr>\n",
       "      <th>6</th>\n",
       "      <td>60 months</td>\n",
       "      <td>credit_card</td>\n",
       "      <td>CA</td>\n",
       "      <td>RENT</td>\n",
       "    </tr>\n",
       "    <tr>\n",
       "      <th>7</th>\n",
       "      <td>36 months</td>\n",
       "      <td>major_purchase</td>\n",
       "      <td>IL</td>\n",
       "      <td>RENT</td>\n",
       "    </tr>\n",
       "    <tr>\n",
       "      <th>8</th>\n",
       "      <td>60 months</td>\n",
       "      <td>home_improvement</td>\n",
       "      <td>NC</td>\n",
       "      <td>MORTGAGE</td>\n",
       "    </tr>\n",
       "    <tr>\n",
       "      <th>9</th>\n",
       "      <td>36 months</td>\n",
       "      <td>other</td>\n",
       "      <td>NC</td>\n",
       "      <td>MORTGAGE</td>\n",
       "    </tr>\n",
       "    <tr>\n",
       "      <th>10</th>\n",
       "      <td>36 months</td>\n",
       "      <td>debt_consolidation</td>\n",
       "      <td>CA</td>\n",
       "      <td>RENT</td>\n",
       "    </tr>\n",
       "    <tr>\n",
       "      <th>11</th>\n",
       "      <td>60 months</td>\n",
       "      <td>home_improvement</td>\n",
       "      <td>OH</td>\n",
       "      <td>MORTGAGE</td>\n",
       "    </tr>\n",
       "    <tr>\n",
       "      <th>12</th>\n",
       "      <td>36 months</td>\n",
       "      <td>debt_consolidation</td>\n",
       "      <td>NJ</td>\n",
       "      <td>RENT</td>\n",
       "    </tr>\n",
       "    <tr>\n",
       "      <th>13</th>\n",
       "      <td>36 months</td>\n",
       "      <td>other</td>\n",
       "      <td>CA</td>\n",
       "      <td>MORTGAGE</td>\n",
       "    </tr>\n",
       "    <tr>\n",
       "      <th>14</th>\n",
       "      <td>60 months</td>\n",
       "      <td>debt_consolidation</td>\n",
       "      <td>WA</td>\n",
       "      <td>MORTGAGE</td>\n",
       "    </tr>\n",
       "    <tr>\n",
       "      <th>15</th>\n",
       "      <td>60 months</td>\n",
       "      <td>debt_consolidation</td>\n",
       "      <td>NC</td>\n",
       "      <td>MORTGAGE</td>\n",
       "    </tr>\n",
       "    <tr>\n",
       "      <th>16</th>\n",
       "      <td>60 months</td>\n",
       "      <td>debt_consolidation</td>\n",
       "      <td>CT</td>\n",
       "      <td>RENT</td>\n",
       "    </tr>\n",
       "    <tr>\n",
       "      <th>17</th>\n",
       "      <td>36 months</td>\n",
       "      <td>credit_card</td>\n",
       "      <td>AK</td>\n",
       "      <td>RENT</td>\n",
       "    </tr>\n",
       "    <tr>\n",
       "      <th>18</th>\n",
       "      <td>36 months</td>\n",
       "      <td>other</td>\n",
       "      <td>NY</td>\n",
       "      <td>RENT</td>\n",
       "    </tr>\n",
       "    <tr>\n",
       "      <th>19</th>\n",
       "      <td>36 months</td>\n",
       "      <td>other</td>\n",
       "      <td>CO</td>\n",
       "      <td>MORTGAGE</td>\n",
       "    </tr>\n",
       "    <tr>\n",
       "      <th>20</th>\n",
       "      <td>36 months</td>\n",
       "      <td>debt_consolidation</td>\n",
       "      <td>IL</td>\n",
       "      <td>RENT</td>\n",
       "    </tr>\n",
       "    <tr>\n",
       "      <th>21</th>\n",
       "      <td>36 months</td>\n",
       "      <td>credit_card</td>\n",
       "      <td>NJ</td>\n",
       "      <td>RENT</td>\n",
       "    </tr>\n",
       "    <tr>\n",
       "      <th>22</th>\n",
       "      <td>60 months</td>\n",
       "      <td>credit_card</td>\n",
       "      <td>MA</td>\n",
       "      <td>RENT</td>\n",
       "    </tr>\n",
       "    <tr>\n",
       "      <th>23</th>\n",
       "      <td>36 months</td>\n",
       "      <td>debt_consolidation</td>\n",
       "      <td>CA</td>\n",
       "      <td>RENT</td>\n",
       "    </tr>\n",
       "    <tr>\n",
       "      <th>24</th>\n",
       "      <td>36 months</td>\n",
       "      <td>car</td>\n",
       "      <td>TX</td>\n",
       "      <td>RENT</td>\n",
       "    </tr>\n",
       "    <tr>\n",
       "      <th>25</th>\n",
       "      <td>60 months</td>\n",
       "      <td>debt_consolidation</td>\n",
       "      <td>NC</td>\n",
       "      <td>MORTGAGE</td>\n",
       "    </tr>\n",
       "    <tr>\n",
       "      <th>26</th>\n",
       "      <td>60 months</td>\n",
       "      <td>moving</td>\n",
       "      <td>VT</td>\n",
       "      <td>RENT</td>\n",
       "    </tr>\n",
       "    <tr>\n",
       "      <th>27</th>\n",
       "      <td>36 months</td>\n",
       "      <td>debt_consolidation</td>\n",
       "      <td>NY</td>\n",
       "      <td>RENT</td>\n",
       "    </tr>\n",
       "    <tr>\n",
       "      <th>28</th>\n",
       "      <td>36 months</td>\n",
       "      <td>home_improvement</td>\n",
       "      <td>OK</td>\n",
       "      <td>MORTGAGE</td>\n",
       "    </tr>\n",
       "    <tr>\n",
       "      <th>29</th>\n",
       "      <td>36 months</td>\n",
       "      <td>credit_card</td>\n",
       "      <td>NJ</td>\n",
       "      <td>RENT</td>\n",
       "    </tr>\n",
       "    <tr>\n",
       "      <th>...</th>\n",
       "      <td>...</td>\n",
       "      <td>...</td>\n",
       "      <td>...</td>\n",
       "      <td>...</td>\n",
       "    </tr>\n",
       "    <tr>\n",
       "      <th>270</th>\n",
       "      <td>36 months</td>\n",
       "      <td>debt_consolidation</td>\n",
       "      <td>CA</td>\n",
       "      <td>RENT</td>\n",
       "    </tr>\n",
       "    <tr>\n",
       "      <th>271</th>\n",
       "      <td>60 months</td>\n",
       "      <td>home_improvement</td>\n",
       "      <td>MD</td>\n",
       "      <td>OWN</td>\n",
       "    </tr>\n",
       "    <tr>\n",
       "      <th>272</th>\n",
       "      <td>36 months</td>\n",
       "      <td>car</td>\n",
       "      <td>CA</td>\n",
       "      <td>RENT</td>\n",
       "    </tr>\n",
       "    <tr>\n",
       "      <th>273</th>\n",
       "      <td>36 months</td>\n",
       "      <td>small_business</td>\n",
       "      <td>IL</td>\n",
       "      <td>MORTGAGE</td>\n",
       "    </tr>\n",
       "    <tr>\n",
       "      <th>274</th>\n",
       "      <td>36 months</td>\n",
       "      <td>home_improvement</td>\n",
       "      <td>MN</td>\n",
       "      <td>MORTGAGE</td>\n",
       "    </tr>\n",
       "    <tr>\n",
       "      <th>275</th>\n",
       "      <td>36 months</td>\n",
       "      <td>debt_consolidation</td>\n",
       "      <td>NY</td>\n",
       "      <td>RENT</td>\n",
       "    </tr>\n",
       "    <tr>\n",
       "      <th>276</th>\n",
       "      <td>36 months</td>\n",
       "      <td>debt_consolidation</td>\n",
       "      <td>CA</td>\n",
       "      <td>RENT</td>\n",
       "    </tr>\n",
       "    <tr>\n",
       "      <th>277</th>\n",
       "      <td>36 months</td>\n",
       "      <td>major_purchase</td>\n",
       "      <td>IL</td>\n",
       "      <td>RENT</td>\n",
       "    </tr>\n",
       "    <tr>\n",
       "      <th>278</th>\n",
       "      <td>36 months</td>\n",
       "      <td>debt_consolidation</td>\n",
       "      <td>NY</td>\n",
       "      <td>OWN</td>\n",
       "    </tr>\n",
       "    <tr>\n",
       "      <th>279</th>\n",
       "      <td>36 months</td>\n",
       "      <td>credit_card</td>\n",
       "      <td>UT</td>\n",
       "      <td>MORTGAGE</td>\n",
       "    </tr>\n",
       "    <tr>\n",
       "      <th>280</th>\n",
       "      <td>36 months</td>\n",
       "      <td>debt_consolidation</td>\n",
       "      <td>MO</td>\n",
       "      <td>MORTGAGE</td>\n",
       "    </tr>\n",
       "    <tr>\n",
       "      <th>281</th>\n",
       "      <td>60 months</td>\n",
       "      <td>debt_consolidation</td>\n",
       "      <td>WV</td>\n",
       "      <td>MORTGAGE</td>\n",
       "    </tr>\n",
       "    <tr>\n",
       "      <th>282</th>\n",
       "      <td>36 months</td>\n",
       "      <td>debt_consolidation</td>\n",
       "      <td>FL</td>\n",
       "      <td>MORTGAGE</td>\n",
       "    </tr>\n",
       "    <tr>\n",
       "      <th>283</th>\n",
       "      <td>36 months</td>\n",
       "      <td>debt_consolidation</td>\n",
       "      <td>SC</td>\n",
       "      <td>RENT</td>\n",
       "    </tr>\n",
       "    <tr>\n",
       "      <th>284</th>\n",
       "      <td>36 months</td>\n",
       "      <td>debt_consolidation</td>\n",
       "      <td>AZ</td>\n",
       "      <td>RENT</td>\n",
       "    </tr>\n",
       "    <tr>\n",
       "      <th>285</th>\n",
       "      <td>36 months</td>\n",
       "      <td>home_improvement</td>\n",
       "      <td>MD</td>\n",
       "      <td>MORTGAGE</td>\n",
       "    </tr>\n",
       "    <tr>\n",
       "      <th>286</th>\n",
       "      <td>36 months</td>\n",
       "      <td>credit_card</td>\n",
       "      <td>CA</td>\n",
       "      <td>RENT</td>\n",
       "    </tr>\n",
       "    <tr>\n",
       "      <th>287</th>\n",
       "      <td>36 months</td>\n",
       "      <td>other</td>\n",
       "      <td>NY</td>\n",
       "      <td>RENT</td>\n",
       "    </tr>\n",
       "    <tr>\n",
       "      <th>288</th>\n",
       "      <td>36 months</td>\n",
       "      <td>credit_card</td>\n",
       "      <td>MN</td>\n",
       "      <td>RENT</td>\n",
       "    </tr>\n",
       "    <tr>\n",
       "      <th>289</th>\n",
       "      <td>36 months</td>\n",
       "      <td>other</td>\n",
       "      <td>RI</td>\n",
       "      <td>RENT</td>\n",
       "    </tr>\n",
       "    <tr>\n",
       "      <th>290</th>\n",
       "      <td>36 months</td>\n",
       "      <td>debt_consolidation</td>\n",
       "      <td>WV</td>\n",
       "      <td>OWN</td>\n",
       "    </tr>\n",
       "    <tr>\n",
       "      <th>291</th>\n",
       "      <td>60 months</td>\n",
       "      <td>debt_consolidation</td>\n",
       "      <td>CA</td>\n",
       "      <td>MORTGAGE</td>\n",
       "    </tr>\n",
       "    <tr>\n",
       "      <th>292</th>\n",
       "      <td>36 months</td>\n",
       "      <td>home_improvement</td>\n",
       "      <td>MD</td>\n",
       "      <td>OWN</td>\n",
       "    </tr>\n",
       "    <tr>\n",
       "      <th>293</th>\n",
       "      <td>36 months</td>\n",
       "      <td>major_purchase</td>\n",
       "      <td>CT</td>\n",
       "      <td>RENT</td>\n",
       "    </tr>\n",
       "    <tr>\n",
       "      <th>294</th>\n",
       "      <td>36 months</td>\n",
       "      <td>credit_card</td>\n",
       "      <td>OH</td>\n",
       "      <td>MORTGAGE</td>\n",
       "    </tr>\n",
       "    <tr>\n",
       "      <th>295</th>\n",
       "      <td>60 months</td>\n",
       "      <td>home_improvement</td>\n",
       "      <td>NV</td>\n",
       "      <td>MORTGAGE</td>\n",
       "    </tr>\n",
       "    <tr>\n",
       "      <th>296</th>\n",
       "      <td>36 months</td>\n",
       "      <td>debt_consolidation</td>\n",
       "      <td>CA</td>\n",
       "      <td>OWN</td>\n",
       "    </tr>\n",
       "    <tr>\n",
       "      <th>297</th>\n",
       "      <td>36 months</td>\n",
       "      <td>credit_card</td>\n",
       "      <td>CA</td>\n",
       "      <td>RENT</td>\n",
       "    </tr>\n",
       "    <tr>\n",
       "      <th>298</th>\n",
       "      <td>60 months</td>\n",
       "      <td>credit_card</td>\n",
       "      <td>MN</td>\n",
       "      <td>RENT</td>\n",
       "    </tr>\n",
       "    <tr>\n",
       "      <th>299</th>\n",
       "      <td>36 months</td>\n",
       "      <td>debt_consolidation</td>\n",
       "      <td>IL</td>\n",
       "      <td>MORTGAGE</td>\n",
       "    </tr>\n",
       "  </tbody>\n",
       "</table>\n",
       "<p>2500 rows × 4 columns</p>\n",
       "</div>"
      ],
      "text/plain": [
       "    Loan_Length        Loan_Purpose State Home_Ownership\n",
       "0     60 months  debt_consolidation    VA       MORTGAGE\n",
       "1     60 months  debt_consolidation    NY       MORTGAGE\n",
       "2     36 months      major_purchase    LA            OWN\n",
       "3     36 months         credit_card    NV       MORTGAGE\n",
       "4     60 months         credit_card    OH       MORTGAGE\n",
       "5     36 months      small_business    OH           RENT\n",
       "6     60 months         credit_card    CA           RENT\n",
       "7     36 months      major_purchase    IL           RENT\n",
       "8     60 months    home_improvement    NC       MORTGAGE\n",
       "9     36 months               other    NC       MORTGAGE\n",
       "10    36 months  debt_consolidation    CA           RENT\n",
       "11    60 months    home_improvement    OH       MORTGAGE\n",
       "12    36 months  debt_consolidation    NJ           RENT\n",
       "13    36 months               other    CA       MORTGAGE\n",
       "14    60 months  debt_consolidation    WA       MORTGAGE\n",
       "15    60 months  debt_consolidation    NC       MORTGAGE\n",
       "16    60 months  debt_consolidation    CT           RENT\n",
       "17    36 months         credit_card    AK           RENT\n",
       "18    36 months               other    NY           RENT\n",
       "19    36 months               other    CO       MORTGAGE\n",
       "20    36 months  debt_consolidation    IL           RENT\n",
       "21    36 months         credit_card    NJ           RENT\n",
       "22    60 months         credit_card    MA           RENT\n",
       "23    36 months  debt_consolidation    CA           RENT\n",
       "24    36 months                 car    TX           RENT\n",
       "25    60 months  debt_consolidation    NC       MORTGAGE\n",
       "26    60 months              moving    VT           RENT\n",
       "27    36 months  debt_consolidation    NY           RENT\n",
       "28    36 months    home_improvement    OK       MORTGAGE\n",
       "29    36 months         credit_card    NJ           RENT\n",
       "..          ...                 ...   ...            ...\n",
       "270   36 months  debt_consolidation    CA           RENT\n",
       "271   60 months    home_improvement    MD            OWN\n",
       "272   36 months                 car    CA           RENT\n",
       "273   36 months      small_business    IL       MORTGAGE\n",
       "274   36 months    home_improvement    MN       MORTGAGE\n",
       "275   36 months  debt_consolidation    NY           RENT\n",
       "276   36 months  debt_consolidation    CA           RENT\n",
       "277   36 months      major_purchase    IL           RENT\n",
       "278   36 months  debt_consolidation    NY            OWN\n",
       "279   36 months         credit_card    UT       MORTGAGE\n",
       "280   36 months  debt_consolidation    MO       MORTGAGE\n",
       "281   60 months  debt_consolidation    WV       MORTGAGE\n",
       "282   36 months  debt_consolidation    FL       MORTGAGE\n",
       "283   36 months  debt_consolidation    SC           RENT\n",
       "284   36 months  debt_consolidation    AZ           RENT\n",
       "285   36 months    home_improvement    MD       MORTGAGE\n",
       "286   36 months         credit_card    CA           RENT\n",
       "287   36 months               other    NY           RENT\n",
       "288   36 months         credit_card    MN           RENT\n",
       "289   36 months               other    RI           RENT\n",
       "290   36 months  debt_consolidation    WV            OWN\n",
       "291   60 months  debt_consolidation    CA       MORTGAGE\n",
       "292   36 months    home_improvement    MD            OWN\n",
       "293   36 months      major_purchase    CT           RENT\n",
       "294   36 months         credit_card    OH       MORTGAGE\n",
       "295   60 months    home_improvement    NV       MORTGAGE\n",
       "296   36 months  debt_consolidation    CA            OWN\n",
       "297   36 months         credit_card    CA           RENT\n",
       "298   60 months         credit_card    MN           RENT\n",
       "299   36 months  debt_consolidation    IL       MORTGAGE\n",
       "\n",
       "[2500 rows x 4 columns]"
      ]
     },
     "execution_count": 256,
     "metadata": {},
     "output_type": "execute_result"
    }
   ],
   "source": [
    "# selecting all categorical columns into a separate object\n",
    "df_obj=df.select_dtypes(include='object')\n",
    "df_obj.drop('data',axis=1,inplace=True)\n",
    "df_obj"
   ]
  },
  {
   "cell_type": "code",
   "execution_count": 257,
   "metadata": {},
   "outputs": [
    {
     "name": "stdout",
     "output_type": "stream",
     "text": [
      "<class 'pandas.core.frame.DataFrame'>\n",
      "Int64Index: 2500 entries, 0 to 299\n",
      "Data columns (total 14 columns):\n",
      "Amount_Requested                  2495 non-null float64\n",
      "Interest_Rate                     2200 non-null float64\n",
      "Loan_Length                       2499 non-null object\n",
      "Loan_Purpose                      2499 non-null object\n",
      "Debt_To_Income_Ratio              2499 non-null float64\n",
      "State                             2499 non-null object\n",
      "Home_Ownership                    2499 non-null object\n",
      "Monthly_Income                    2497 non-null float64\n",
      "FICO_Range                        2500 non-null float64\n",
      "Open_CREDIT_Lines                 2491 non-null float64\n",
      "Revolving_CREDIT_Balance          2495 non-null float64\n",
      "Inquiries_in_the_Last_6_Months    2497 non-null float64\n",
      "Employment_Length                 2420 non-null float64\n",
      "data                              2500 non-null object\n",
      "dtypes: float64(9), object(5)\n",
      "memory usage: 293.0+ KB\n"
     ]
    }
   ],
   "source": [
    "# creating dummies for object excluding 'data' column\n",
    "df_new=df.copy()\n",
    "df_new.info()"
   ]
  },
  {
   "cell_type": "code",
   "execution_count": 207,
   "metadata": {},
   "outputs": [
    {
     "data": {
      "text/plain": [
       "36 months    1950\n",
       "60 months     548\n",
       ".               1\n",
       "Name: Loan_Length, dtype: int64"
      ]
     },
     "execution_count": 207,
     "metadata": {},
     "output_type": "execute_result"
    }
   ],
   "source": [
    "df_obj['Loan_Length'].value_counts()"
   ]
  },
  {
   "cell_type": "code",
   "execution_count": 148,
   "metadata": {},
   "outputs": [
    {
     "data": {
      "text/plain": [
       "debt_consolidation    1307\n",
       "credit_card            444\n",
       "other                  200\n",
       "home_improvement       152\n",
       "major_purchase         101\n",
       "small_business          87\n",
       "car                     50\n",
       "wedding                 39\n",
       "medical                 30\n",
       "moving                  29\n",
       "vacation                21\n",
       "house                   20\n",
       "educational             15\n",
       "renewable_energy         4\n",
       "Name: Loan_Purpose, dtype: int64"
      ]
     },
     "execution_count": 148,
     "metadata": {},
     "output_type": "execute_result"
    }
   ],
   "source": [
    "df_obj['Loan_Purpose'].value_counts()"
   ]
  },
  {
   "cell_type": "code",
   "execution_count": 149,
   "metadata": {},
   "outputs": [
    {
     "data": {
      "text/plain": [
       "CA    433\n",
       "NY    255\n",
       "TX    174\n",
       "FL    169\n",
       "IL    101\n",
       "GA     97\n",
       "PA     96\n",
       "NJ     94\n",
       "VA     78\n",
       "MA     73\n",
       "OH     71\n",
       "MD     68\n",
       "NC     64\n",
       "CO     61\n",
       "WA     58\n",
       "CT     50\n",
       "AZ     46\n",
       "MI     45\n",
       "AL     38\n",
       "MN     38\n",
       "MO     33\n",
       "NV     32\n",
       "OR     30\n",
       "SC     28\n",
       "WI     26\n",
       "KY     23\n",
       "LA     22\n",
       "KS     21\n",
       "OK     21\n",
       "UT     16\n",
       "NH     15\n",
       "RI     15\n",
       "WV     14\n",
       "AR     13\n",
       "NM     13\n",
       "HI     12\n",
       "DC     11\n",
       "AK     11\n",
       "DE      8\n",
       "MT      7\n",
       "VT      5\n",
       "WY      4\n",
       "SD      4\n",
       "IN      3\n",
       ".       1\n",
       "MS      1\n",
       "IA      1\n",
       "Name: State, dtype: int64"
      ]
     },
     "execution_count": 149,
     "metadata": {},
     "output_type": "execute_result"
    }
   ],
   "source": [
    "df_obj['State'].value_counts()"
   ]
  },
  {
   "cell_type": "code",
   "execution_count": 238,
   "metadata": {},
   "outputs": [
    {
     "data": {
      "text/plain": [
       "0      VA\n",
       "1      NY\n",
       "2      LA\n",
       "3      NV\n",
       "4      OH\n",
       "5      OH\n",
       "6      CA\n",
       "7      IL\n",
       "8      NC\n",
       "9      NC\n",
       "10     CA\n",
       "11     OH\n",
       "12     NJ\n",
       "13     CA\n",
       "14     WA\n",
       "15     NC\n",
       "16     CT\n",
       "17     AK\n",
       "18     NY\n",
       "19     CO\n",
       "20     IL\n",
       "21     NJ\n",
       "22     MA\n",
       "23     CA\n",
       "24     TX\n",
       "25     NC\n",
       "26     VT\n",
       "27     NY\n",
       "28     OK\n",
       "29     NJ\n",
       "       ..\n",
       "270    CA\n",
       "271    MD\n",
       "272    CA\n",
       "273    IL\n",
       "274    MN\n",
       "275    NY\n",
       "276    CA\n",
       "277    IL\n",
       "278    NY\n",
       "279    UT\n",
       "280    MO\n",
       "281    WV\n",
       "282    FL\n",
       "283    SC\n",
       "284    AZ\n",
       "285    MD\n",
       "286    CA\n",
       "287    NY\n",
       "288    MN\n",
       "289    RI\n",
       "290    WV\n",
       "291    CA\n",
       "292    MD\n",
       "293    CT\n",
       "294    OH\n",
       "295    NV\n",
       "296    CA\n",
       "297    CA\n",
       "298    MN\n",
       "299    IL\n",
       "Name: State, Length: 2500, dtype: object"
      ]
     },
     "execution_count": 238,
     "metadata": {},
     "output_type": "execute_result"
    }
   ],
   "source": [
    "df_new['State'].replace('.',np.nan)"
   ]
  },
  {
   "cell_type": "code",
   "execution_count": 150,
   "metadata": {},
   "outputs": [
    {
     "data": {
      "text/plain": [
       "MORTGAGE    1147\n",
       "RENT        1146\n",
       "OWN          200\n",
       "OTHER          5\n",
       "NONE           1\n",
       "Name: Home_Ownership, dtype: int64"
      ]
     },
     "execution_count": 150,
     "metadata": {},
     "output_type": "execute_result"
    }
   ],
   "source": [
    "df_obj['Home_Ownership'].value_counts()"
   ]
  },
  {
   "cell_type": "code",
   "execution_count": 152,
   "metadata": {},
   "outputs": [
    {
     "data": {
      "text/plain": [
       "Index(['Loan_Length', 'Loan_Purpose', 'State', 'Home_Ownership', 'data'], dtype='object')"
      ]
     },
     "execution_count": 152,
     "metadata": {},
     "output_type": "execute_result"
    }
   ],
   "source": [
    "df_obj.columns"
   ]
  },
  {
   "cell_type": "code",
   "execution_count": 244,
   "metadata": {},
   "outputs": [],
   "source": [
    "df_new=pd.get_dummies(data=df_new,prefix=['Loan_Length','Loan_Purpose', 'State', 'Home_Ownership'],columns=['Loan_Length','Loan_Purpose', 'State', 'Home_Ownership'],drop_first=True)"
   ]
  },
  {
   "cell_type": "code",
   "execution_count": 245,
   "metadata": {},
   "outputs": [
    {
     "data": {
      "text/plain": [
       "Index(['Amount_Requested', 'Interest_Rate', 'Debt_To_Income_Ratio',\n",
       "       'Monthly_Income', 'FICO_Range', 'Open_CREDIT_Lines',\n",
       "       'Revolving_CREDIT_Balance', 'Inquiries_in_the_Last_6_Months',\n",
       "       'Employment_Length', 'data', 'Loan_Length_36 months',\n",
       "       'Loan_Length_60 months', 'Loan_Purpose_credit_card',\n",
       "       'Loan_Purpose_debt_consolidation', 'Loan_Purpose_educational',\n",
       "       'Loan_Purpose_home_improvement', 'Loan_Purpose_house',\n",
       "       'Loan_Purpose_major_purchase', 'Loan_Purpose_medical',\n",
       "       'Loan_Purpose_moving', 'Loan_Purpose_other',\n",
       "       'Loan_Purpose_renewable_energy', 'Loan_Purpose_small_business',\n",
       "       'Loan_Purpose_vacation', 'Loan_Purpose_wedding', 'State_AK', 'State_AL',\n",
       "       'State_AR', 'State_AZ', 'State_CA', 'State_CO', 'State_CT', 'State_DC',\n",
       "       'State_DE', 'State_FL', 'State_GA', 'State_HI', 'State_IA', 'State_IL',\n",
       "       'State_IN', 'State_KS', 'State_KY', 'State_LA', 'State_MA', 'State_MD',\n",
       "       'State_MI', 'State_MN', 'State_MO', 'State_MS', 'State_MT', 'State_NC',\n",
       "       'State_NH', 'State_NJ', 'State_NM', 'State_NV', 'State_NY', 'State_OH',\n",
       "       'State_OK', 'State_OR', 'State_PA', 'State_RI', 'State_SC', 'State_SD',\n",
       "       'State_TX', 'State_UT', 'State_VA', 'State_VT', 'State_WA', 'State_WI',\n",
       "       'State_WV', 'State_WY', 'Home_Ownership_NONE', 'Home_Ownership_OTHER',\n",
       "       'Home_Ownership_OWN', 'Home_Ownership_RENT'],\n",
       "      dtype='object')"
      ]
     },
     "execution_count": 245,
     "metadata": {},
     "output_type": "execute_result"
    }
   ],
   "source": [
    "df_new.columns"
   ]
  },
  {
   "cell_type": "code",
   "execution_count": 246,
   "metadata": {},
   "outputs": [
    {
     "data": {
      "text/plain": [
       "(2500, 75)"
      ]
     },
     "execution_count": 246,
     "metadata": {},
     "output_type": "execute_result"
    }
   ],
   "source": [
    "df_new.shape"
   ]
  },
  {
   "cell_type": "code",
   "execution_count": 214,
   "metadata": {},
   "outputs": [],
   "source": [
    "df_new.drop(['Loan_Length_.','State_.'],axis=1,inplace=True)"
   ]
  },
  {
   "cell_type": "code",
   "execution_count": 215,
   "metadata": {},
   "outputs": [
    {
     "data": {
      "text/html": [
       "<div>\n",
       "<style scoped>\n",
       "    .dataframe tbody tr th:only-of-type {\n",
       "        vertical-align: middle;\n",
       "    }\n",
       "\n",
       "    .dataframe tbody tr th {\n",
       "        vertical-align: top;\n",
       "    }\n",
       "\n",
       "    .dataframe thead th {\n",
       "        text-align: right;\n",
       "    }\n",
       "</style>\n",
       "<table border=\"1\" class=\"dataframe\">\n",
       "  <thead>\n",
       "    <tr style=\"text-align: right;\">\n",
       "      <th></th>\n",
       "      <th>Amount_Requested</th>\n",
       "      <th>Interest_Rate</th>\n",
       "      <th>Debt_To_Income_Ratio</th>\n",
       "      <th>Monthly_Income</th>\n",
       "      <th>FICO_Range</th>\n",
       "      <th>Open_CREDIT_Lines</th>\n",
       "      <th>Revolving_CREDIT_Balance</th>\n",
       "      <th>Inquiries_in_the_Last_6_Months</th>\n",
       "      <th>Employment_Length</th>\n",
       "      <th>data</th>\n",
       "      <th>...</th>\n",
       "      <th>State_VT</th>\n",
       "      <th>State_WA</th>\n",
       "      <th>State_WI</th>\n",
       "      <th>State_WV</th>\n",
       "      <th>State_WY</th>\n",
       "      <th>Home_Ownership_MORTGAGE</th>\n",
       "      <th>Home_Ownership_NONE</th>\n",
       "      <th>Home_Ownership_OTHER</th>\n",
       "      <th>Home_Ownership_OWN</th>\n",
       "      <th>Home_Ownership_RENT</th>\n",
       "    </tr>\n",
       "  </thead>\n",
       "  <tbody>\n",
       "    <tr>\n",
       "      <th>0</th>\n",
       "      <td>25000.0</td>\n",
       "      <td>18.49</td>\n",
       "      <td>27.56</td>\n",
       "      <td>8606.56</td>\n",
       "      <td>722.0</td>\n",
       "      <td>11.0</td>\n",
       "      <td>15210.0</td>\n",
       "      <td>3.0</td>\n",
       "      <td>5.0</td>\n",
       "      <td>train</td>\n",
       "      <td>...</td>\n",
       "      <td>0</td>\n",
       "      <td>0</td>\n",
       "      <td>0</td>\n",
       "      <td>0</td>\n",
       "      <td>0</td>\n",
       "      <td>1</td>\n",
       "      <td>0</td>\n",
       "      <td>0</td>\n",
       "      <td>0</td>\n",
       "      <td>0</td>\n",
       "    </tr>\n",
       "    <tr>\n",
       "      <th>1</th>\n",
       "      <td>19750.0</td>\n",
       "      <td>17.27</td>\n",
       "      <td>13.39</td>\n",
       "      <td>6737.50</td>\n",
       "      <td>712.0</td>\n",
       "      <td>14.0</td>\n",
       "      <td>19070.0</td>\n",
       "      <td>3.0</td>\n",
       "      <td>4.0</td>\n",
       "      <td>train</td>\n",
       "      <td>...</td>\n",
       "      <td>0</td>\n",
       "      <td>0</td>\n",
       "      <td>0</td>\n",
       "      <td>0</td>\n",
       "      <td>0</td>\n",
       "      <td>1</td>\n",
       "      <td>0</td>\n",
       "      <td>0</td>\n",
       "      <td>0</td>\n",
       "      <td>0</td>\n",
       "    </tr>\n",
       "    <tr>\n",
       "      <th>2</th>\n",
       "      <td>2100.0</td>\n",
       "      <td>14.33</td>\n",
       "      <td>3.50</td>\n",
       "      <td>1000.00</td>\n",
       "      <td>692.0</td>\n",
       "      <td>13.0</td>\n",
       "      <td>893.0</td>\n",
       "      <td>1.0</td>\n",
       "      <td>0.0</td>\n",
       "      <td>train</td>\n",
       "      <td>...</td>\n",
       "      <td>0</td>\n",
       "      <td>0</td>\n",
       "      <td>0</td>\n",
       "      <td>0</td>\n",
       "      <td>0</td>\n",
       "      <td>0</td>\n",
       "      <td>0</td>\n",
       "      <td>0</td>\n",
       "      <td>1</td>\n",
       "      <td>0</td>\n",
       "    </tr>\n",
       "    <tr>\n",
       "      <th>3</th>\n",
       "      <td>28000.0</td>\n",
       "      <td>16.29</td>\n",
       "      <td>19.62</td>\n",
       "      <td>7083.33</td>\n",
       "      <td>712.0</td>\n",
       "      <td>12.0</td>\n",
       "      <td>38194.0</td>\n",
       "      <td>1.0</td>\n",
       "      <td>10.0</td>\n",
       "      <td>train</td>\n",
       "      <td>...</td>\n",
       "      <td>0</td>\n",
       "      <td>0</td>\n",
       "      <td>0</td>\n",
       "      <td>0</td>\n",
       "      <td>0</td>\n",
       "      <td>1</td>\n",
       "      <td>0</td>\n",
       "      <td>0</td>\n",
       "      <td>0</td>\n",
       "      <td>0</td>\n",
       "    </tr>\n",
       "    <tr>\n",
       "      <th>4</th>\n",
       "      <td>24250.0</td>\n",
       "      <td>12.23</td>\n",
       "      <td>23.79</td>\n",
       "      <td>5833.33</td>\n",
       "      <td>732.0</td>\n",
       "      <td>6.0</td>\n",
       "      <td>31061.0</td>\n",
       "      <td>2.0</td>\n",
       "      <td>10.0</td>\n",
       "      <td>train</td>\n",
       "      <td>...</td>\n",
       "      <td>0</td>\n",
       "      <td>0</td>\n",
       "      <td>0</td>\n",
       "      <td>0</td>\n",
       "      <td>0</td>\n",
       "      <td>1</td>\n",
       "      <td>0</td>\n",
       "      <td>0</td>\n",
       "      <td>0</td>\n",
       "      <td>0</td>\n",
       "    </tr>\n",
       "  </tbody>\n",
       "</table>\n",
       "<p>5 rows × 77 columns</p>\n",
       "</div>"
      ],
      "text/plain": [
       "   Amount_Requested  Interest_Rate  Debt_To_Income_Ratio  Monthly_Income  \\\n",
       "0           25000.0          18.49                 27.56         8606.56   \n",
       "1           19750.0          17.27                 13.39         6737.50   \n",
       "2            2100.0          14.33                  3.50         1000.00   \n",
       "3           28000.0          16.29                 19.62         7083.33   \n",
       "4           24250.0          12.23                 23.79         5833.33   \n",
       "\n",
       "   FICO_Range  Open_CREDIT_Lines  Revolving_CREDIT_Balance  \\\n",
       "0       722.0               11.0                   15210.0   \n",
       "1       712.0               14.0                   19070.0   \n",
       "2       692.0               13.0                     893.0   \n",
       "3       712.0               12.0                   38194.0   \n",
       "4       732.0                6.0                   31061.0   \n",
       "\n",
       "   Inquiries_in_the_Last_6_Months  Employment_Length   data  ...  State_VT  \\\n",
       "0                             3.0                5.0  train  ...         0   \n",
       "1                             3.0                4.0  train  ...         0   \n",
       "2                             1.0                0.0  train  ...         0   \n",
       "3                             1.0               10.0  train  ...         0   \n",
       "4                             2.0               10.0  train  ...         0   \n",
       "\n",
       "   State_WA  State_WI  State_WV  State_WY  Home_Ownership_MORTGAGE  \\\n",
       "0         0         0         0         0                        1   \n",
       "1         0         0         0         0                        1   \n",
       "2         0         0         0         0                        0   \n",
       "3         0         0         0         0                        1   \n",
       "4         0         0         0         0                        1   \n",
       "\n",
       "   Home_Ownership_NONE  Home_Ownership_OTHER  Home_Ownership_OWN  \\\n",
       "0                    0                     0                   0   \n",
       "1                    0                     0                   0   \n",
       "2                    0                     0                   1   \n",
       "3                    0                     0                   0   \n",
       "4                    0                     0                   0   \n",
       "\n",
       "   Home_Ownership_RENT  \n",
       "0                    0  \n",
       "1                    0  \n",
       "2                    0  \n",
       "3                    0  \n",
       "4                    0  \n",
       "\n",
       "[5 rows x 77 columns]"
      ]
     },
     "execution_count": 215,
     "metadata": {},
     "output_type": "execute_result"
    }
   ],
   "source": [
    "df_new.head()"
   ]
  },
  {
   "cell_type": "code",
   "execution_count": 216,
   "metadata": {},
   "outputs": [
    {
     "data": {
      "text/plain": [
       "0    2499\n",
       "1       1\n",
       "Name: Home_Ownership_NONE, dtype: int64"
      ]
     },
     "execution_count": 216,
     "metadata": {},
     "output_type": "execute_result"
    }
   ],
   "source": [
    "df_new['Home_Ownership_NONE'].value_counts()"
   ]
  },
  {
   "cell_type": "code",
   "execution_count": 218,
   "metadata": {},
   "outputs": [
    {
     "name": "stdout",
     "output_type": "stream",
     "text": [
      "<class 'pandas.core.frame.DataFrame'>\n",
      "Int64Index: 2500 entries, 0 to 299\n",
      "Data columns (total 77 columns):\n",
      "Amount_Requested                   2495 non-null float64\n",
      "Interest_Rate                      2200 non-null float64\n",
      "Debt_To_Income_Ratio               2499 non-null float64\n",
      "Monthly_Income                     2497 non-null float64\n",
      "FICO_Range                         2500 non-null float64\n",
      "Open_CREDIT_Lines                  2491 non-null float64\n",
      "Revolving_CREDIT_Balance           2495 non-null float64\n",
      "Inquiries_in_the_Last_6_Months     2497 non-null float64\n",
      "Employment_Length                  2420 non-null float64\n",
      "data                               2500 non-null object\n",
      "Loan_Length_36 months              2500 non-null uint8\n",
      "Loan_Length_60 months              2500 non-null uint8\n",
      "Loan_Purpose_car                   2500 non-null uint8\n",
      "Loan_Purpose_credit_card           2500 non-null uint8\n",
      "Loan_Purpose_debt_consolidation    2500 non-null uint8\n",
      "Loan_Purpose_educational           2500 non-null uint8\n",
      "Loan_Purpose_home_improvement      2500 non-null uint8\n",
      "Loan_Purpose_house                 2500 non-null uint8\n",
      "Loan_Purpose_major_purchase        2500 non-null uint8\n",
      "Loan_Purpose_medical               2500 non-null uint8\n",
      "Loan_Purpose_moving                2500 non-null uint8\n",
      "Loan_Purpose_other                 2500 non-null uint8\n",
      "Loan_Purpose_renewable_energy      2500 non-null uint8\n",
      "Loan_Purpose_small_business        2500 non-null uint8\n",
      "Loan_Purpose_vacation              2500 non-null uint8\n",
      "Loan_Purpose_wedding               2500 non-null uint8\n",
      "State_AK                           2500 non-null uint8\n",
      "State_AL                           2500 non-null uint8\n",
      "State_AR                           2500 non-null uint8\n",
      "State_AZ                           2500 non-null uint8\n",
      "State_CA                           2500 non-null uint8\n",
      "State_CO                           2500 non-null uint8\n",
      "State_CT                           2500 non-null uint8\n",
      "State_DC                           2500 non-null uint8\n",
      "State_DE                           2500 non-null uint8\n",
      "State_FL                           2500 non-null uint8\n",
      "State_GA                           2500 non-null uint8\n",
      "State_HI                           2500 non-null uint8\n",
      "State_IA                           2500 non-null uint8\n",
      "State_IL                           2500 non-null uint8\n",
      "State_IN                           2500 non-null uint8\n",
      "State_KS                           2500 non-null uint8\n",
      "State_KY                           2500 non-null uint8\n",
      "State_LA                           2500 non-null uint8\n",
      "State_MA                           2500 non-null uint8\n",
      "State_MD                           2500 non-null uint8\n",
      "State_MI                           2500 non-null uint8\n",
      "State_MN                           2500 non-null uint8\n",
      "State_MO                           2500 non-null uint8\n",
      "State_MS                           2500 non-null uint8\n",
      "State_MT                           2500 non-null uint8\n",
      "State_NC                           2500 non-null uint8\n",
      "State_NH                           2500 non-null uint8\n",
      "State_NJ                           2500 non-null uint8\n",
      "State_NM                           2500 non-null uint8\n",
      "State_NV                           2500 non-null uint8\n",
      "State_NY                           2500 non-null uint8\n",
      "State_OH                           2500 non-null uint8\n",
      "State_OK                           2500 non-null uint8\n",
      "State_OR                           2500 non-null uint8\n",
      "State_PA                           2500 non-null uint8\n",
      "State_RI                           2500 non-null uint8\n",
      "State_SC                           2500 non-null uint8\n",
      "State_SD                           2500 non-null uint8\n",
      "State_TX                           2500 non-null uint8\n",
      "State_UT                           2500 non-null uint8\n",
      "State_VA                           2500 non-null uint8\n",
      "State_VT                           2500 non-null uint8\n",
      "State_WA                           2500 non-null uint8\n",
      "State_WI                           2500 non-null uint8\n",
      "State_WV                           2500 non-null uint8\n",
      "State_WY                           2500 non-null uint8\n",
      "Home_Ownership_MORTGAGE            2500 non-null uint8\n",
      "Home_Ownership_NONE                2500 non-null uint8\n",
      "Home_Ownership_OTHER               2500 non-null uint8\n",
      "Home_Ownership_OWN                 2500 non-null uint8\n",
      "Home_Ownership_RENT                2500 non-null uint8\n",
      "dtypes: float64(9), object(1), uint8(67)\n",
      "memory usage: 378.4+ KB\n"
     ]
    }
   ],
   "source": [
    "df1=df_new.copy()\n",
    "df1.columns\n",
    "df1.info()"
   ]
  },
  {
   "cell_type": "markdown",
   "metadata": {},
   "source": [
    "UT     16\n",
    "NH     15\n",
    "RI     15\n",
    "WV     14\n",
    "AR     13\n",
    "NM     13\n",
    "HI     12\n",
    "DC     11\n",
    "AK     11\n",
    "DE      8\n",
    "MT      7\n",
    "VT      5\n",
    "WY      4\n",
    "SD      4\n",
    "IN      3\n",
    ".       1\n",
    "MS      1\n",
    "IA      1"
   ]
  },
  {
   "cell_type": "code",
   "execution_count": 219,
   "metadata": {},
   "outputs": [],
   "source": [
    "df1.drop(['State_UT','State_NH','State_RI','State_WV','State_AR','State_NM','State_HI'\n",
    "         ,'State_DC','State_AK','State_DE','State_MT','State_VT','State_WY','State_SD'\n",
    "         ,'State_IN','State_MS','State_IA'],axis=1,inplace=True)"
   ]
  },
  {
   "cell_type": "code",
   "execution_count": 220,
   "metadata": {},
   "outputs": [
    {
     "data": {
      "text/plain": [
       "Index(['Amount_Requested', 'Interest_Rate', 'Debt_To_Income_Ratio',\n",
       "       'Monthly_Income', 'FICO_Range', 'Open_CREDIT_Lines',\n",
       "       'Revolving_CREDIT_Balance', 'Inquiries_in_the_Last_6_Months',\n",
       "       'Employment_Length', 'data', 'Loan_Length_36 months',\n",
       "       'Loan_Length_60 months', 'Loan_Purpose_car', 'Loan_Purpose_credit_card',\n",
       "       'Loan_Purpose_debt_consolidation', 'Loan_Purpose_educational',\n",
       "       'Loan_Purpose_home_improvement', 'Loan_Purpose_house',\n",
       "       'Loan_Purpose_major_purchase', 'Loan_Purpose_medical',\n",
       "       'Loan_Purpose_moving', 'Loan_Purpose_other',\n",
       "       'Loan_Purpose_renewable_energy', 'Loan_Purpose_small_business',\n",
       "       'Loan_Purpose_vacation', 'Loan_Purpose_wedding', 'State_AL', 'State_AZ',\n",
       "       'State_CA', 'State_CO', 'State_CT', 'State_FL', 'State_GA', 'State_IL',\n",
       "       'State_KS', 'State_KY', 'State_LA', 'State_MA', 'State_MD', 'State_MI',\n",
       "       'State_MN', 'State_MO', 'State_NC', 'State_NJ', 'State_NV', 'State_NY',\n",
       "       'State_OH', 'State_OK', 'State_OR', 'State_PA', 'State_SC', 'State_TX',\n",
       "       'State_VA', 'State_WA', 'State_WI', 'Home_Ownership_MORTGAGE',\n",
       "       'Home_Ownership_NONE', 'Home_Ownership_OTHER', 'Home_Ownership_OWN',\n",
       "       'Home_Ownership_RENT'],\n",
       "      dtype='object')"
      ]
     },
     "execution_count": 220,
     "metadata": {},
     "output_type": "execute_result"
    }
   ],
   "source": [
    "df1.columns"
   ]
  },
  {
   "cell_type": "code",
   "execution_count": 221,
   "metadata": {},
   "outputs": [],
   "source": [
    "# educational             15\n",
    "# renewable_energy         4\n",
    "df1.drop(['Loan_Purpose_educational','Loan_Purpose_renewable_energy'],axis=1,inplace=True)"
   ]
  },
  {
   "cell_type": "code",
   "execution_count": 222,
   "metadata": {},
   "outputs": [
    {
     "data": {
      "text/plain": [
       "Index(['Amount_Requested', 'Interest_Rate', 'Debt_To_Income_Ratio',\n",
       "       'Monthly_Income', 'FICO_Range', 'Open_CREDIT_Lines',\n",
       "       'Revolving_CREDIT_Balance', 'Inquiries_in_the_Last_6_Months',\n",
       "       'Employment_Length', 'data', 'Loan_Length_36 months',\n",
       "       'Loan_Length_60 months', 'Loan_Purpose_car', 'Loan_Purpose_credit_card',\n",
       "       'Loan_Purpose_debt_consolidation', 'Loan_Purpose_home_improvement',\n",
       "       'Loan_Purpose_house', 'Loan_Purpose_major_purchase',\n",
       "       'Loan_Purpose_medical', 'Loan_Purpose_moving', 'Loan_Purpose_other',\n",
       "       'Loan_Purpose_small_business', 'Loan_Purpose_vacation',\n",
       "       'Loan_Purpose_wedding', 'State_AL', 'State_AZ', 'State_CA', 'State_CO',\n",
       "       'State_CT', 'State_FL', 'State_GA', 'State_IL', 'State_KS', 'State_KY',\n",
       "       'State_LA', 'State_MA', 'State_MD', 'State_MI', 'State_MN', 'State_MO',\n",
       "       'State_NC', 'State_NJ', 'State_NV', 'State_NY', 'State_OH', 'State_OK',\n",
       "       'State_OR', 'State_PA', 'State_SC', 'State_TX', 'State_VA', 'State_WA',\n",
       "       'State_WI', 'Home_Ownership_MORTGAGE', 'Home_Ownership_NONE',\n",
       "       'Home_Ownership_OTHER', 'Home_Ownership_OWN', 'Home_Ownership_RENT'],\n",
       "      dtype='object')"
      ]
     },
     "execution_count": 222,
     "metadata": {},
     "output_type": "execute_result"
    }
   ],
   "source": [
    "df1.columns"
   ]
  },
  {
   "cell_type": "code",
   "execution_count": 223,
   "metadata": {},
   "outputs": [],
   "source": [
    "# OTHER          5\n",
    "# NONE           1\n",
    "df1.drop(['Home_Ownership_NONE','Home_Ownership_OTHER'],axis=1,inplace=True)"
   ]
  },
  {
   "cell_type": "code",
   "execution_count": 224,
   "metadata": {},
   "outputs": [
    {
     "data": {
      "text/plain": [
       "Index(['Amount_Requested', 'Interest_Rate', 'Debt_To_Income_Ratio',\n",
       "       'Monthly_Income', 'FICO_Range', 'Open_CREDIT_Lines',\n",
       "       'Revolving_CREDIT_Balance', 'Inquiries_in_the_Last_6_Months',\n",
       "       'Employment_Length', 'data', 'Loan_Length_36 months',\n",
       "       'Loan_Length_60 months', 'Loan_Purpose_car', 'Loan_Purpose_credit_card',\n",
       "       'Loan_Purpose_debt_consolidation', 'Loan_Purpose_home_improvement',\n",
       "       'Loan_Purpose_house', 'Loan_Purpose_major_purchase',\n",
       "       'Loan_Purpose_medical', 'Loan_Purpose_moving', 'Loan_Purpose_other',\n",
       "       'Loan_Purpose_small_business', 'Loan_Purpose_vacation',\n",
       "       'Loan_Purpose_wedding', 'State_AL', 'State_AZ', 'State_CA', 'State_CO',\n",
       "       'State_CT', 'State_FL', 'State_GA', 'State_IL', 'State_KS', 'State_KY',\n",
       "       'State_LA', 'State_MA', 'State_MD', 'State_MI', 'State_MN', 'State_MO',\n",
       "       'State_NC', 'State_NJ', 'State_NV', 'State_NY', 'State_OH', 'State_OK',\n",
       "       'State_OR', 'State_PA', 'State_SC', 'State_TX', 'State_VA', 'State_WA',\n",
       "       'State_WI', 'Home_Ownership_MORTGAGE', 'Home_Ownership_OWN',\n",
       "       'Home_Ownership_RENT'],\n",
       "      dtype='object')"
      ]
     },
     "execution_count": 224,
     "metadata": {},
     "output_type": "execute_result"
    }
   ],
   "source": [
    "df1.columns"
   ]
  },
  {
   "cell_type": "code",
   "execution_count": 225,
   "metadata": {},
   "outputs": [
    {
     "data": {
      "text/plain": [
       "(2500, 56)"
      ]
     },
     "execution_count": 225,
     "metadata": {},
     "output_type": "execute_result"
    }
   ],
   "source": [
    "df1.shape"
   ]
  },
  {
   "cell_type": "code",
   "execution_count": 226,
   "metadata": {},
   "outputs": [],
   "source": [
    "df_train=df1[df1['data']=='train']"
   ]
  },
  {
   "cell_type": "code",
   "execution_count": 227,
   "metadata": {},
   "outputs": [
    {
     "name": "stdout",
     "output_type": "stream",
     "text": [
      "<class 'pandas.core.frame.DataFrame'>\n",
      "Int64Index: 2500 entries, 0 to 299\n",
      "Data columns (total 56 columns):\n",
      "Amount_Requested                   2495 non-null float64\n",
      "Interest_Rate                      2200 non-null float64\n",
      "Debt_To_Income_Ratio               2499 non-null float64\n",
      "Monthly_Income                     2497 non-null float64\n",
      "FICO_Range                         2500 non-null float64\n",
      "Open_CREDIT_Lines                  2491 non-null float64\n",
      "Revolving_CREDIT_Balance           2495 non-null float64\n",
      "Inquiries_in_the_Last_6_Months     2497 non-null float64\n",
      "Employment_Length                  2420 non-null float64\n",
      "data                               2500 non-null object\n",
      "Loan_Length_36 months              2500 non-null uint8\n",
      "Loan_Length_60 months              2500 non-null uint8\n",
      "Loan_Purpose_car                   2500 non-null uint8\n",
      "Loan_Purpose_credit_card           2500 non-null uint8\n",
      "Loan_Purpose_debt_consolidation    2500 non-null uint8\n",
      "Loan_Purpose_home_improvement      2500 non-null uint8\n",
      "Loan_Purpose_house                 2500 non-null uint8\n",
      "Loan_Purpose_major_purchase        2500 non-null uint8\n",
      "Loan_Purpose_medical               2500 non-null uint8\n",
      "Loan_Purpose_moving                2500 non-null uint8\n",
      "Loan_Purpose_other                 2500 non-null uint8\n",
      "Loan_Purpose_small_business        2500 non-null uint8\n",
      "Loan_Purpose_vacation              2500 non-null uint8\n",
      "Loan_Purpose_wedding               2500 non-null uint8\n",
      "State_AL                           2500 non-null uint8\n",
      "State_AZ                           2500 non-null uint8\n",
      "State_CA                           2500 non-null uint8\n",
      "State_CO                           2500 non-null uint8\n",
      "State_CT                           2500 non-null uint8\n",
      "State_FL                           2500 non-null uint8\n",
      "State_GA                           2500 non-null uint8\n",
      "State_IL                           2500 non-null uint8\n",
      "State_KS                           2500 non-null uint8\n",
      "State_KY                           2500 non-null uint8\n",
      "State_LA                           2500 non-null uint8\n",
      "State_MA                           2500 non-null uint8\n",
      "State_MD                           2500 non-null uint8\n",
      "State_MI                           2500 non-null uint8\n",
      "State_MN                           2500 non-null uint8\n",
      "State_MO                           2500 non-null uint8\n",
      "State_NC                           2500 non-null uint8\n",
      "State_NJ                           2500 non-null uint8\n",
      "State_NV                           2500 non-null uint8\n",
      "State_NY                           2500 non-null uint8\n",
      "State_OH                           2500 non-null uint8\n",
      "State_OK                           2500 non-null uint8\n",
      "State_OR                           2500 non-null uint8\n",
      "State_PA                           2500 non-null uint8\n",
      "State_SC                           2500 non-null uint8\n",
      "State_TX                           2500 non-null uint8\n",
      "State_VA                           2500 non-null uint8\n",
      "State_WA                           2500 non-null uint8\n",
      "State_WI                           2500 non-null uint8\n",
      "Home_Ownership_MORTGAGE            2500 non-null uint8\n",
      "Home_Ownership_OWN                 2500 non-null uint8\n",
      "Home_Ownership_RENT                2500 non-null uint8\n",
      "dtypes: float64(9), object(1), uint8(46)\n",
      "memory usage: 327.1+ KB\n"
     ]
    }
   ],
   "source": [
    "df1.info()"
   ]
  },
  {
   "cell_type": "markdown",
   "metadata": {},
   "source": [
    "# missing value treatment"
   ]
  },
  {
   "cell_type": "code",
   "execution_count": 190,
   "metadata": {
    "scrolled": true
   },
   "outputs": [
    {
     "data": {
      "text/plain": [
       "Interest_Rate                      300\n",
       "Debt_To_Income_Ratio                 1\n",
       "Monthly_Income                       3\n",
       "FICO_Range                           0\n",
       "Open_CREDIT_Lines                    9\n",
       "Revolving_CREDIT_Balance             5\n",
       "Inquiries_in_the_Last_6_Months       3\n",
       "Employment_Length                   80\n",
       "Loan_Length_36 months                0\n",
       "Loan_Length_60 months                0\n",
       "Loan_Purpose_car                     0\n",
       "Loan_Purpose_credit_card             0\n",
       "Loan_Purpose_debt_consolidation      0\n",
       "Loan_Purpose_home_improvement        0\n",
       "Loan_Purpose_house                   0\n",
       "Loan_Purpose_major_purchase          0\n",
       "Loan_Purpose_medical                 0\n",
       "Loan_Purpose_moving                  0\n",
       "Loan_Purpose_other                   0\n",
       "Loan_Purpose_small_business          0\n",
       "Loan_Purpose_vacation                0\n",
       "Loan_Purpose_wedding                 0\n",
       "State_AL                             0\n",
       "State_AZ                             0\n",
       "State_CA                             0\n",
       "State_CO                             0\n",
       "State_CT                             0\n",
       "State_FL                             0\n",
       "State_GA                             0\n",
       "State_IL                             0\n",
       "State_KS                             0\n",
       "State_KY                             0\n",
       "State_LA                             0\n",
       "State_MA                             0\n",
       "State_MD                             0\n",
       "State_MI                             0\n",
       "State_MN                             0\n",
       "State_MO                             0\n",
       "State_NC                             0\n",
       "State_NJ                             0\n",
       "State_NV                             0\n",
       "State_NY                             0\n",
       "State_OH                             0\n",
       "State_OK                             0\n",
       "State_OR                             0\n",
       "State_PA                             0\n",
       "State_SC                             0\n",
       "State_TX                             0\n",
       "State_VA                             0\n",
       "State_WA                             0\n",
       "State_WI                             0\n",
       "Home_Ownership_MORTGAGE              0\n",
       "Home_Ownership_OWN                   0\n",
       "Home_Ownership_RENT                  0\n",
       "dtype: int64"
      ]
     },
     "execution_count": 190,
     "metadata": {},
     "output_type": "execute_result"
    }
   ],
   "source": [
    "m=df1.select_dtypes(exclude=\"object\")\n",
    "m.isnull().sum()"
   ]
  },
  {
   "cell_type": "code",
   "execution_count": 263,
   "metadata": {},
   "outputs": [],
   "source": [
    "df1['Amount_Requested'].fillna(np.mean,inplace=True)"
   ]
  },
  {
   "cell_type": "code",
   "execution_count": 228,
   "metadata": {},
   "outputs": [
    {
     "name": "stdout",
     "output_type": "stream",
     "text": [
      "<class 'pandas.core.frame.DataFrame'>\n",
      "Int64Index: 2500 entries, 0 to 299\n",
      "Data columns (total 56 columns):\n",
      "Amount_Requested                   2495 non-null float64\n",
      "Interest_Rate                      2200 non-null float64\n",
      "Debt_To_Income_Ratio               2499 non-null float64\n",
      "Monthly_Income                     2497 non-null float64\n",
      "FICO_Range                         2500 non-null float64\n",
      "Open_CREDIT_Lines                  2491 non-null float64\n",
      "Revolving_CREDIT_Balance           2495 non-null float64\n",
      "Inquiries_in_the_Last_6_Months     2497 non-null float64\n",
      "Employment_Length                  2420 non-null float64\n",
      "data                               2500 non-null object\n",
      "Loan_Length_36 months              2500 non-null uint8\n",
      "Loan_Length_60 months              2500 non-null uint8\n",
      "Loan_Purpose_car                   2500 non-null uint8\n",
      "Loan_Purpose_credit_card           2500 non-null uint8\n",
      "Loan_Purpose_debt_consolidation    2500 non-null uint8\n",
      "Loan_Purpose_home_improvement      2500 non-null uint8\n",
      "Loan_Purpose_house                 2500 non-null uint8\n",
      "Loan_Purpose_major_purchase        2500 non-null uint8\n",
      "Loan_Purpose_medical               2500 non-null uint8\n",
      "Loan_Purpose_moving                2500 non-null uint8\n",
      "Loan_Purpose_other                 2500 non-null uint8\n",
      "Loan_Purpose_small_business        2500 non-null uint8\n",
      "Loan_Purpose_vacation              2500 non-null uint8\n",
      "Loan_Purpose_wedding               2500 non-null uint8\n",
      "State_AL                           2500 non-null uint8\n",
      "State_AZ                           2500 non-null uint8\n",
      "State_CA                           2500 non-null uint8\n",
      "State_CO                           2500 non-null uint8\n",
      "State_CT                           2500 non-null uint8\n",
      "State_FL                           2500 non-null uint8\n",
      "State_GA                           2500 non-null uint8\n",
      "State_IL                           2500 non-null uint8\n",
      "State_KS                           2500 non-null uint8\n",
      "State_KY                           2500 non-null uint8\n",
      "State_LA                           2500 non-null uint8\n",
      "State_MA                           2500 non-null uint8\n",
      "State_MD                           2500 non-null uint8\n",
      "State_MI                           2500 non-null uint8\n",
      "State_MN                           2500 non-null uint8\n",
      "State_MO                           2500 non-null uint8\n",
      "State_NC                           2500 non-null uint8\n",
      "State_NJ                           2500 non-null uint8\n",
      "State_NV                           2500 non-null uint8\n",
      "State_NY                           2500 non-null uint8\n",
      "State_OH                           2500 non-null uint8\n",
      "State_OK                           2500 non-null uint8\n",
      "State_OR                           2500 non-null uint8\n",
      "State_PA                           2500 non-null uint8\n",
      "State_SC                           2500 non-null uint8\n",
      "State_TX                           2500 non-null uint8\n",
      "State_VA                           2500 non-null uint8\n",
      "State_WA                           2500 non-null uint8\n",
      "State_WI                           2500 non-null uint8\n",
      "Home_Ownership_MORTGAGE            2500 non-null uint8\n",
      "Home_Ownership_OWN                 2500 non-null uint8\n",
      "Home_Ownership_RENT                2500 non-null uint8\n",
      "dtypes: float64(9), object(1), uint8(46)\n",
      "memory usage: 327.1+ KB\n"
     ]
    }
   ],
   "source": [
    "df1.info()"
   ]
  },
  {
   "cell_type": "code",
   "execution_count": 229,
   "metadata": {},
   "outputs": [
    {
     "data": {
      "text/plain": [
       "0"
      ]
     },
     "execution_count": 229,
     "metadata": {},
     "output_type": "execute_result"
    }
   ],
   "source": [
    "df1[df1['data']=='train']['Interest_Rate'].isnull().sum()"
   ]
  },
  {
   "cell_type": "code",
   "execution_count": 230,
   "metadata": {
    "scrolled": true
   },
   "outputs": [
    {
     "data": {
      "text/html": [
       "<div>\n",
       "<style scoped>\n",
       "    .dataframe tbody tr th:only-of-type {\n",
       "        vertical-align: middle;\n",
       "    }\n",
       "\n",
       "    .dataframe tbody tr th {\n",
       "        vertical-align: top;\n",
       "    }\n",
       "\n",
       "    .dataframe thead th {\n",
       "        text-align: right;\n",
       "    }\n",
       "</style>\n",
       "<table border=\"1\" class=\"dataframe\">\n",
       "  <thead>\n",
       "    <tr style=\"text-align: right;\">\n",
       "      <th></th>\n",
       "      <th>Amount_Requested</th>\n",
       "      <th>Interest_Rate</th>\n",
       "      <th>Debt_To_Income_Ratio</th>\n",
       "      <th>Monthly_Income</th>\n",
       "      <th>FICO_Range</th>\n",
       "      <th>Open_CREDIT_Lines</th>\n",
       "      <th>Revolving_CREDIT_Balance</th>\n",
       "      <th>Inquiries_in_the_Last_6_Months</th>\n",
       "      <th>Employment_Length</th>\n",
       "      <th>data</th>\n",
       "      <th>...</th>\n",
       "      <th>State_OR</th>\n",
       "      <th>State_PA</th>\n",
       "      <th>State_SC</th>\n",
       "      <th>State_TX</th>\n",
       "      <th>State_VA</th>\n",
       "      <th>State_WA</th>\n",
       "      <th>State_WI</th>\n",
       "      <th>Home_Ownership_MORTGAGE</th>\n",
       "      <th>Home_Ownership_OWN</th>\n",
       "      <th>Home_Ownership_RENT</th>\n",
       "    </tr>\n",
       "  </thead>\n",
       "  <tbody>\n",
       "    <tr>\n",
       "      <th>0</th>\n",
       "      <td>25000.0</td>\n",
       "      <td>18.49</td>\n",
       "      <td>27.56</td>\n",
       "      <td>8606.56</td>\n",
       "      <td>722.0</td>\n",
       "      <td>11.0</td>\n",
       "      <td>15210.0</td>\n",
       "      <td>3.0</td>\n",
       "      <td>5.0</td>\n",
       "      <td>train</td>\n",
       "      <td>...</td>\n",
       "      <td>0</td>\n",
       "      <td>0</td>\n",
       "      <td>0</td>\n",
       "      <td>0</td>\n",
       "      <td>1</td>\n",
       "      <td>0</td>\n",
       "      <td>0</td>\n",
       "      <td>1</td>\n",
       "      <td>0</td>\n",
       "      <td>0</td>\n",
       "    </tr>\n",
       "    <tr>\n",
       "      <th>1</th>\n",
       "      <td>19750.0</td>\n",
       "      <td>17.27</td>\n",
       "      <td>13.39</td>\n",
       "      <td>6737.50</td>\n",
       "      <td>712.0</td>\n",
       "      <td>14.0</td>\n",
       "      <td>19070.0</td>\n",
       "      <td>3.0</td>\n",
       "      <td>4.0</td>\n",
       "      <td>train</td>\n",
       "      <td>...</td>\n",
       "      <td>0</td>\n",
       "      <td>0</td>\n",
       "      <td>0</td>\n",
       "      <td>0</td>\n",
       "      <td>0</td>\n",
       "      <td>0</td>\n",
       "      <td>0</td>\n",
       "      <td>1</td>\n",
       "      <td>0</td>\n",
       "      <td>0</td>\n",
       "    </tr>\n",
       "    <tr>\n",
       "      <th>2</th>\n",
       "      <td>2100.0</td>\n",
       "      <td>14.33</td>\n",
       "      <td>3.50</td>\n",
       "      <td>1000.00</td>\n",
       "      <td>692.0</td>\n",
       "      <td>13.0</td>\n",
       "      <td>893.0</td>\n",
       "      <td>1.0</td>\n",
       "      <td>0.0</td>\n",
       "      <td>train</td>\n",
       "      <td>...</td>\n",
       "      <td>0</td>\n",
       "      <td>0</td>\n",
       "      <td>0</td>\n",
       "      <td>0</td>\n",
       "      <td>0</td>\n",
       "      <td>0</td>\n",
       "      <td>0</td>\n",
       "      <td>0</td>\n",
       "      <td>1</td>\n",
       "      <td>0</td>\n",
       "    </tr>\n",
       "    <tr>\n",
       "      <th>3</th>\n",
       "      <td>28000.0</td>\n",
       "      <td>16.29</td>\n",
       "      <td>19.62</td>\n",
       "      <td>7083.33</td>\n",
       "      <td>712.0</td>\n",
       "      <td>12.0</td>\n",
       "      <td>38194.0</td>\n",
       "      <td>1.0</td>\n",
       "      <td>10.0</td>\n",
       "      <td>train</td>\n",
       "      <td>...</td>\n",
       "      <td>0</td>\n",
       "      <td>0</td>\n",
       "      <td>0</td>\n",
       "      <td>0</td>\n",
       "      <td>0</td>\n",
       "      <td>0</td>\n",
       "      <td>0</td>\n",
       "      <td>1</td>\n",
       "      <td>0</td>\n",
       "      <td>0</td>\n",
       "    </tr>\n",
       "    <tr>\n",
       "      <th>4</th>\n",
       "      <td>24250.0</td>\n",
       "      <td>12.23</td>\n",
       "      <td>23.79</td>\n",
       "      <td>5833.33</td>\n",
       "      <td>732.0</td>\n",
       "      <td>6.0</td>\n",
       "      <td>31061.0</td>\n",
       "      <td>2.0</td>\n",
       "      <td>10.0</td>\n",
       "      <td>train</td>\n",
       "      <td>...</td>\n",
       "      <td>0</td>\n",
       "      <td>0</td>\n",
       "      <td>0</td>\n",
       "      <td>0</td>\n",
       "      <td>0</td>\n",
       "      <td>0</td>\n",
       "      <td>0</td>\n",
       "      <td>1</td>\n",
       "      <td>0</td>\n",
       "      <td>0</td>\n",
       "    </tr>\n",
       "  </tbody>\n",
       "</table>\n",
       "<p>5 rows × 56 columns</p>\n",
       "</div>"
      ],
      "text/plain": [
       "   Amount_Requested  Interest_Rate  Debt_To_Income_Ratio  Monthly_Income  \\\n",
       "0           25000.0          18.49                 27.56         8606.56   \n",
       "1           19750.0          17.27                 13.39         6737.50   \n",
       "2            2100.0          14.33                  3.50         1000.00   \n",
       "3           28000.0          16.29                 19.62         7083.33   \n",
       "4           24250.0          12.23                 23.79         5833.33   \n",
       "\n",
       "   FICO_Range  Open_CREDIT_Lines  Revolving_CREDIT_Balance  \\\n",
       "0       722.0               11.0                   15210.0   \n",
       "1       712.0               14.0                   19070.0   \n",
       "2       692.0               13.0                     893.0   \n",
       "3       712.0               12.0                   38194.0   \n",
       "4       732.0                6.0                   31061.0   \n",
       "\n",
       "   Inquiries_in_the_Last_6_Months  Employment_Length   data  ...  State_OR  \\\n",
       "0                             3.0                5.0  train  ...         0   \n",
       "1                             3.0                4.0  train  ...         0   \n",
       "2                             1.0                0.0  train  ...         0   \n",
       "3                             1.0               10.0  train  ...         0   \n",
       "4                             2.0               10.0  train  ...         0   \n",
       "\n",
       "   State_PA  State_SC  State_TX  State_VA  State_WA  State_WI  \\\n",
       "0         0         0         0         1         0         0   \n",
       "1         0         0         0         0         0         0   \n",
       "2         0         0         0         0         0         0   \n",
       "3         0         0         0         0         0         0   \n",
       "4         0         0         0         0         0         0   \n",
       "\n",
       "   Home_Ownership_MORTGAGE  Home_Ownership_OWN  Home_Ownership_RENT  \n",
       "0                        1                   0                    0  \n",
       "1                        1                   0                    0  \n",
       "2                        0                   1                    0  \n",
       "3                        1                   0                    0  \n",
       "4                        1                   0                    0  \n",
       "\n",
       "[5 rows x 56 columns]"
      ]
     },
     "execution_count": 230,
     "metadata": {},
     "output_type": "execute_result"
    }
   ],
   "source": [
    "df1.head()"
   ]
  },
  {
   "cell_type": "code",
   "execution_count": 231,
   "metadata": {},
   "outputs": [],
   "source": [
    "df1['Debt_To_Income_Ratio'].fillna(np.mean,inplace=True)"
   ]
  },
  {
   "cell_type": "code",
   "execution_count": 232,
   "metadata": {},
   "outputs": [],
   "source": [
    "df1['Monthly_Income'].fillna(np.mean,inplace=True)"
   ]
  },
  {
   "cell_type": "code",
   "execution_count": 233,
   "metadata": {},
   "outputs": [],
   "source": [
    "c=['Open_CREDIT_Lines',\n",
    "       'Revolving_CREDIT_Balance', 'Inquiries_in_the_Last_6_Months']\n",
    "for i in c:\n",
    "    df1[i].fillna(np.mean,inplace=True)"
   ]
  },
  {
   "cell_type": "markdown",
   "metadata": {},
   "source": [
    "UT     16\n",
    "NH     15\n",
    "RI     15\n",
    "WV     14\n",
    "AR     13\n",
    "NM     13\n",
    "HI     12\n",
    "DC     11\n",
    "AK     11\n",
    "DE      8\n",
    "MT      7\n",
    "VT      5\n",
    "WY      4\n",
    "SD      4\n",
    "IN      3\n",
    ".       1\n",
    "MS      1\n",
    "IA      1"
   ]
  },
  {
   "cell_type": "code",
   "execution_count": 234,
   "metadata": {},
   "outputs": [
    {
     "name": "stdout",
     "output_type": "stream",
     "text": [
      "<class 'pandas.core.frame.DataFrame'>\n",
      "Int64Index: 2500 entries, 0 to 299\n",
      "Data columns (total 56 columns):\n",
      "Amount_Requested                   2495 non-null float64\n",
      "Interest_Rate                      2200 non-null float64\n",
      "Debt_To_Income_Ratio               2500 non-null object\n",
      "Monthly_Income                     2500 non-null object\n",
      "FICO_Range                         2500 non-null float64\n",
      "Open_CREDIT_Lines                  2500 non-null object\n",
      "Revolving_CREDIT_Balance           2500 non-null object\n",
      "Inquiries_in_the_Last_6_Months     2500 non-null object\n",
      "Employment_Length                  2420 non-null float64\n",
      "data                               2500 non-null object\n",
      "Loan_Length_36 months              2500 non-null uint8\n",
      "Loan_Length_60 months              2500 non-null uint8\n",
      "Loan_Purpose_car                   2500 non-null uint8\n",
      "Loan_Purpose_credit_card           2500 non-null uint8\n",
      "Loan_Purpose_debt_consolidation    2500 non-null uint8\n",
      "Loan_Purpose_home_improvement      2500 non-null uint8\n",
      "Loan_Purpose_house                 2500 non-null uint8\n",
      "Loan_Purpose_major_purchase        2500 non-null uint8\n",
      "Loan_Purpose_medical               2500 non-null uint8\n",
      "Loan_Purpose_moving                2500 non-null uint8\n",
      "Loan_Purpose_other                 2500 non-null uint8\n",
      "Loan_Purpose_small_business        2500 non-null uint8\n",
      "Loan_Purpose_vacation              2500 non-null uint8\n",
      "Loan_Purpose_wedding               2500 non-null uint8\n",
      "State_AL                           2500 non-null uint8\n",
      "State_AZ                           2500 non-null uint8\n",
      "State_CA                           2500 non-null uint8\n",
      "State_CO                           2500 non-null uint8\n",
      "State_CT                           2500 non-null uint8\n",
      "State_FL                           2500 non-null uint8\n",
      "State_GA                           2500 non-null uint8\n",
      "State_IL                           2500 non-null uint8\n",
      "State_KS                           2500 non-null uint8\n",
      "State_KY                           2500 non-null uint8\n",
      "State_LA                           2500 non-null uint8\n",
      "State_MA                           2500 non-null uint8\n",
      "State_MD                           2500 non-null uint8\n",
      "State_MI                           2500 non-null uint8\n",
      "State_MN                           2500 non-null uint8\n",
      "State_MO                           2500 non-null uint8\n",
      "State_NC                           2500 non-null uint8\n",
      "State_NJ                           2500 non-null uint8\n",
      "State_NV                           2500 non-null uint8\n",
      "State_NY                           2500 non-null uint8\n",
      "State_OH                           2500 non-null uint8\n",
      "State_OK                           2500 non-null uint8\n",
      "State_OR                           2500 non-null uint8\n",
      "State_PA                           2500 non-null uint8\n",
      "State_SC                           2500 non-null uint8\n",
      "State_TX                           2500 non-null uint8\n",
      "State_VA                           2500 non-null uint8\n",
      "State_WA                           2500 non-null uint8\n",
      "State_WI                           2500 non-null uint8\n",
      "Home_Ownership_MORTGAGE            2500 non-null uint8\n",
      "Home_Ownership_OWN                 2500 non-null uint8\n",
      "Home_Ownership_RENT                2500 non-null uint8\n",
      "dtypes: float64(4), object(6), uint8(46)\n",
      "memory usage: 327.1+ KB\n"
     ]
    }
   ],
   "source": [
    "df1.info()"
   ]
  },
  {
   "cell_type": "code",
   "execution_count": 235,
   "metadata": {},
   "outputs": [],
   "source": [
    "df1.drop('Loan_Purpose_house',axis=1,inplace=True)"
   ]
  },
  {
   "cell_type": "code",
   "execution_count": 236,
   "metadata": {},
   "outputs": [
    {
     "data": {
      "text/plain": [
       "(2500, 55)"
      ]
     },
     "execution_count": 236,
     "metadata": {},
     "output_type": "execute_result"
    }
   ],
   "source": [
    "df1.shape"
   ]
  },
  {
   "cell_type": "code",
   "execution_count": 259,
   "metadata": {},
   "outputs": [
    {
     "name": "stdout",
     "output_type": "stream",
     "text": [
      "Loan_Length\n",
      "Loan_Purpose\n",
      "State\n",
      "Home_Ownership\n"
     ]
    }
   ],
   "source": [
    "for col in df_obj:\n",
    "    freqs=df_new[col].value_counts()\n",
    "    k=freqs.index[freqs>20][:-1]\n",
    "    for cat in k:\n",
    "        name=col+'_'+cat\n",
    "        df_new[name]=(df_new[col]==cat).astype(int)\n",
    "    del df_new[col]\n",
    "    print(col)"
   ]
  },
  {
   "cell_type": "code",
   "execution_count": 260,
   "metadata": {},
   "outputs": [
    {
     "data": {
      "text/plain": [
       "(2500, 51)"
      ]
     },
     "execution_count": 260,
     "metadata": {},
     "output_type": "execute_result"
    }
   ],
   "source": [
    "df_new.shape"
   ]
  },
  {
   "cell_type": "code",
   "execution_count": 261,
   "metadata": {},
   "outputs": [
    {
     "name": "stdout",
     "output_type": "stream",
     "text": [
      "<class 'pandas.core.frame.DataFrame'>\n",
      "Int64Index: 2500 entries, 0 to 299\n",
      "Data columns (total 51 columns):\n",
      "Amount_Requested                   2495 non-null float64\n",
      "Interest_Rate                      2200 non-null float64\n",
      "Debt_To_Income_Ratio               2499 non-null float64\n",
      "Monthly_Income                     2497 non-null float64\n",
      "FICO_Range                         2500 non-null float64\n",
      "Open_CREDIT_Lines                  2491 non-null float64\n",
      "Revolving_CREDIT_Balance           2495 non-null float64\n",
      "Inquiries_in_the_Last_6_Months     2497 non-null float64\n",
      "Employment_Length                  2420 non-null float64\n",
      "data                               2500 non-null object\n",
      "Loan_Length_36 months              2500 non-null int32\n",
      "Loan_Purpose_debt_consolidation    2500 non-null int32\n",
      "Loan_Purpose_credit_card           2500 non-null int32\n",
      "Loan_Purpose_other                 2500 non-null int32\n",
      "Loan_Purpose_home_improvement      2500 non-null int32\n",
      "Loan_Purpose_major_purchase        2500 non-null int32\n",
      "Loan_Purpose_small_business        2500 non-null int32\n",
      "Loan_Purpose_car                   2500 non-null int32\n",
      "Loan_Purpose_wedding               2500 non-null int32\n",
      "Loan_Purpose_medical               2500 non-null int32\n",
      "Loan_Purpose_moving                2500 non-null int32\n",
      "State_CA                           2500 non-null int32\n",
      "State_NY                           2500 non-null int32\n",
      "State_TX                           2500 non-null int32\n",
      "State_FL                           2500 non-null int32\n",
      "State_IL                           2500 non-null int32\n",
      "State_GA                           2500 non-null int32\n",
      "State_PA                           2500 non-null int32\n",
      "State_NJ                           2500 non-null int32\n",
      "State_VA                           2500 non-null int32\n",
      "State_MA                           2500 non-null int32\n",
      "State_OH                           2500 non-null int32\n",
      "State_MD                           2500 non-null int32\n",
      "State_NC                           2500 non-null int32\n",
      "State_CO                           2500 non-null int32\n",
      "State_WA                           2500 non-null int32\n",
      "State_CT                           2500 non-null int32\n",
      "State_AZ                           2500 non-null int32\n",
      "State_MI                           2500 non-null int32\n",
      "State_AL                           2500 non-null int32\n",
      "State_MN                           2500 non-null int32\n",
      "State_MO                           2500 non-null int32\n",
      "State_NV                           2500 non-null int32\n",
      "State_OR                           2500 non-null int32\n",
      "State_SC                           2500 non-null int32\n",
      "State_WI                           2500 non-null int32\n",
      "State_KY                           2500 non-null int32\n",
      "State_LA                           2500 non-null int32\n",
      "State_KS                           2500 non-null int32\n",
      "Home_Ownership_MORTGAGE            2500 non-null int32\n",
      "Home_Ownership_RENT                2500 non-null int32\n",
      "dtypes: float64(9), int32(41), object(1)\n",
      "memory usage: 615.2+ KB\n"
     ]
    }
   ],
   "source": [
    "df_new.info()"
   ]
  },
  {
   "cell_type": "code",
   "execution_count": 265,
   "metadata": {},
   "outputs": [],
   "source": [
    "df1=df_new.copy()"
   ]
  },
  {
   "cell_type": "code",
   "execution_count": 266,
   "metadata": {},
   "outputs": [],
   "source": [
    "mean=df1[df1['data']=='train'].mean()"
   ]
  },
  {
   "cell_type": "code",
   "execution_count": 267,
   "metadata": {},
   "outputs": [
    {
     "data": {
      "text/plain": [
       "Amount_Requested                   12496.469248\n",
       "Interest_Rate                         13.051218\n",
       "Debt_To_Income_Ratio                  15.371105\n",
       "Monthly_Income                      5727.459290\n",
       "FICO_Range                           708.084091\n",
       "Open_CREDIT_Lines                     10.081623\n",
       "Revolving_CREDIT_Balance           15335.575399\n",
       "Inquiries_in_the_Last_6_Months         0.898498\n",
       "Employment_Length                      5.364319\n",
       "Loan_Length_36 months                  0.782727\n",
       "Loan_Purpose_debt_consolidation        0.521364\n",
       "Loan_Purpose_credit_card               0.179091\n",
       "Loan_Purpose_other                     0.079091\n",
       "Loan_Purpose_home_improvement          0.061364\n",
       "Loan_Purpose_major_purchase            0.038182\n",
       "Loan_Purpose_small_business            0.036364\n",
       "Loan_Purpose_car                       0.020455\n",
       "Loan_Purpose_wedding                   0.015909\n",
       "Loan_Purpose_medical                   0.011818\n",
       "Loan_Purpose_moving                    0.011364\n",
       "State_CA                               0.170909\n",
       "State_NY                               0.105000\n",
       "State_TX                               0.066364\n",
       "State_FL                               0.067727\n",
       "State_IL                               0.039545\n",
       "State_GA                               0.037273\n",
       "State_PA                               0.040000\n",
       "State_NJ                               0.036818\n",
       "State_VA                               0.031818\n",
       "State_MA                               0.029091\n",
       "State_OH                               0.026818\n",
       "State_MD                               0.026818\n",
       "State_NC                               0.026818\n",
       "State_CO                               0.024545\n",
       "State_WA                               0.023636\n",
       "State_CT                               0.020000\n",
       "State_AZ                               0.020000\n",
       "State_MI                               0.017273\n",
       "State_AL                               0.015455\n",
       "State_MN                               0.013636\n",
       "State_MO                               0.013182\n",
       "State_NV                               0.013182\n",
       "State_OR                               0.011364\n",
       "State_SC                               0.012273\n",
       "State_WI                               0.011364\n",
       "State_KY                               0.009091\n",
       "State_LA                               0.009091\n",
       "State_KS                               0.009545\n",
       "Home_Ownership_MORTGAGE                0.462727\n",
       "Home_Ownership_RENT                    0.454091\n",
       "dtype: float64"
      ]
     },
     "execution_count": 267,
     "metadata": {},
     "output_type": "execute_result"
    }
   ],
   "source": [
    "mean"
   ]
  },
  {
   "cell_type": "code",
   "execution_count": 269,
   "metadata": {},
   "outputs": [
    {
     "data": {
      "text/plain": [
       "Amount_Requested                     5\n",
       "Interest_Rate                      300\n",
       "Debt_To_Income_Ratio                 1\n",
       "Monthly_Income                       3\n",
       "FICO_Range                           0\n",
       "Open_CREDIT_Lines                    9\n",
       "Revolving_CREDIT_Balance             5\n",
       "Inquiries_in_the_Last_6_Months       3\n",
       "Employment_Length                   80\n",
       "data                                 0\n",
       "Loan_Length_36 months                0\n",
       "Loan_Purpose_debt_consolidation      0\n",
       "Loan_Purpose_credit_card             0\n",
       "Loan_Purpose_other                   0\n",
       "Loan_Purpose_home_improvement        0\n",
       "Loan_Purpose_major_purchase          0\n",
       "Loan_Purpose_small_business          0\n",
       "Loan_Purpose_car                     0\n",
       "Loan_Purpose_wedding                 0\n",
       "Loan_Purpose_medical                 0\n",
       "Loan_Purpose_moving                  0\n",
       "State_CA                             0\n",
       "State_NY                             0\n",
       "State_TX                             0\n",
       "State_FL                             0\n",
       "State_IL                             0\n",
       "State_GA                             0\n",
       "State_PA                             0\n",
       "State_NJ                             0\n",
       "State_VA                             0\n",
       "State_MA                             0\n",
       "State_OH                             0\n",
       "State_MD                             0\n",
       "State_NC                             0\n",
       "State_CO                             0\n",
       "State_WA                             0\n",
       "State_CT                             0\n",
       "State_AZ                             0\n",
       "State_MI                             0\n",
       "State_AL                             0\n",
       "State_MN                             0\n",
       "State_MO                             0\n",
       "State_NV                             0\n",
       "State_OR                             0\n",
       "State_SC                             0\n",
       "State_WI                             0\n",
       "State_KY                             0\n",
       "State_LA                             0\n",
       "State_KS                             0\n",
       "Home_Ownership_MORTGAGE              0\n",
       "Home_Ownership_RENT                  0\n",
       "dtype: int64"
      ]
     },
     "execution_count": 269,
     "metadata": {},
     "output_type": "execute_result"
    }
   ],
   "source": [
    "df1.isnull().sum()"
   ]
  },
  {
   "cell_type": "code",
   "execution_count": 268,
   "metadata": {},
   "outputs": [
    {
     "data": {
      "text/plain": [
       "Index(['Amount_Requested', 'Interest_Rate', 'Debt_To_Income_Ratio',\n",
       "       'Monthly_Income', 'FICO_Range', 'Open_CREDIT_Lines',\n",
       "       'Revolving_CREDIT_Balance', 'Inquiries_in_the_Last_6_Months',\n",
       "       'Employment_Length', 'data', 'Loan_Length_36 months',\n",
       "       'Loan_Purpose_debt_consolidation', 'Loan_Purpose_credit_card',\n",
       "       'Loan_Purpose_other', 'Loan_Purpose_home_improvement',\n",
       "       'Loan_Purpose_major_purchase', 'Loan_Purpose_small_business',\n",
       "       'Loan_Purpose_car', 'Loan_Purpose_wedding', 'Loan_Purpose_medical',\n",
       "       'Loan_Purpose_moving', 'State_CA', 'State_NY', 'State_TX', 'State_FL',\n",
       "       'State_IL', 'State_GA', 'State_PA', 'State_NJ', 'State_VA', 'State_MA',\n",
       "       'State_OH', 'State_MD', 'State_NC', 'State_CO', 'State_WA', 'State_CT',\n",
       "       'State_AZ', 'State_MI', 'State_AL', 'State_MN', 'State_MO', 'State_NV',\n",
       "       'State_OR', 'State_SC', 'State_WI', 'State_KY', 'State_LA', 'State_KS',\n",
       "       'Home_Ownership_MORTGAGE', 'Home_Ownership_RENT'],\n",
       "      dtype='object')"
      ]
     },
     "execution_count": 268,
     "metadata": {},
     "output_type": "execute_result"
    }
   ],
   "source": [
    "df1.columns"
   ]
  },
  {
   "cell_type": "code",
   "execution_count": 273,
   "metadata": {},
   "outputs": [],
   "source": [
    "c=['Amount_Requested', 'Interest_Rate', 'Debt_To_Income_Ratio',\n",
    "       'Monthly_Income','Open_CREDIT_Lines',\n",
    "       'Revolving_CREDIT_Balance', 'Inquiries_in_the_Last_6_Months','Employment_Length']\n",
    "for i in df1.columns:\n",
    "    if (i not in ['Interest_Rate','data']) & (df1[i].isnull().sum() >0):\n",
    "        df1.loc[df1[i].isnull(),i]=df1.loc[df1['data']=='train',i].mean()"
   ]
  },
  {
   "cell_type": "code",
   "execution_count": 274,
   "metadata": {},
   "outputs": [
    {
     "data": {
      "text/plain": [
       "Amount_Requested                     0\n",
       "Interest_Rate                      300\n",
       "Debt_To_Income_Ratio                 0\n",
       "Monthly_Income                       0\n",
       "FICO_Range                           0\n",
       "Open_CREDIT_Lines                    0\n",
       "Revolving_CREDIT_Balance             0\n",
       "Inquiries_in_the_Last_6_Months       0\n",
       "Employment_Length                    0\n",
       "data                                 0\n",
       "Loan_Length_36 months                0\n",
       "Loan_Purpose_debt_consolidation      0\n",
       "Loan_Purpose_credit_card             0\n",
       "Loan_Purpose_other                   0\n",
       "Loan_Purpose_home_improvement        0\n",
       "Loan_Purpose_major_purchase          0\n",
       "Loan_Purpose_small_business          0\n",
       "Loan_Purpose_car                     0\n",
       "Loan_Purpose_wedding                 0\n",
       "Loan_Purpose_medical                 0\n",
       "Loan_Purpose_moving                  0\n",
       "State_CA                             0\n",
       "State_NY                             0\n",
       "State_TX                             0\n",
       "State_FL                             0\n",
       "State_IL                             0\n",
       "State_GA                             0\n",
       "State_PA                             0\n",
       "State_NJ                             0\n",
       "State_VA                             0\n",
       "State_MA                             0\n",
       "State_OH                             0\n",
       "State_MD                             0\n",
       "State_NC                             0\n",
       "State_CO                             0\n",
       "State_WA                             0\n",
       "State_CT                             0\n",
       "State_AZ                             0\n",
       "State_MI                             0\n",
       "State_AL                             0\n",
       "State_MN                             0\n",
       "State_MO                             0\n",
       "State_NV                             0\n",
       "State_OR                             0\n",
       "State_SC                             0\n",
       "State_WI                             0\n",
       "State_KY                             0\n",
       "State_LA                             0\n",
       "State_KS                             0\n",
       "Home_Ownership_MORTGAGE              0\n",
       "Home_Ownership_RENT                  0\n",
       "dtype: int64"
      ]
     },
     "execution_count": 274,
     "metadata": {},
     "output_type": "execute_result"
    }
   ],
   "source": [
    "df1.isnull().sum()"
   ]
  },
  {
   "cell_type": "code",
   "execution_count": 275,
   "metadata": {},
   "outputs": [
    {
     "name": "stdout",
     "output_type": "stream",
     "text": [
      "<class 'pandas.core.frame.DataFrame'>\n",
      "Int64Index: 2500 entries, 0 to 299\n",
      "Data columns (total 51 columns):\n",
      "Amount_Requested                   2500 non-null float64\n",
      "Interest_Rate                      2200 non-null float64\n",
      "Debt_To_Income_Ratio               2500 non-null float64\n",
      "Monthly_Income                     2500 non-null float64\n",
      "FICO_Range                         2500 non-null float64\n",
      "Open_CREDIT_Lines                  2500 non-null float64\n",
      "Revolving_CREDIT_Balance           2500 non-null float64\n",
      "Inquiries_in_the_Last_6_Months     2500 non-null float64\n",
      "Employment_Length                  2500 non-null float64\n",
      "data                               2500 non-null object\n",
      "Loan_Length_36 months              2500 non-null int32\n",
      "Loan_Purpose_debt_consolidation    2500 non-null int32\n",
      "Loan_Purpose_credit_card           2500 non-null int32\n",
      "Loan_Purpose_other                 2500 non-null int32\n",
      "Loan_Purpose_home_improvement      2500 non-null int32\n",
      "Loan_Purpose_major_purchase        2500 non-null int32\n",
      "Loan_Purpose_small_business        2500 non-null int32\n",
      "Loan_Purpose_car                   2500 non-null int32\n",
      "Loan_Purpose_wedding               2500 non-null int32\n",
      "Loan_Purpose_medical               2500 non-null int32\n",
      "Loan_Purpose_moving                2500 non-null int32\n",
      "State_CA                           2500 non-null int32\n",
      "State_NY                           2500 non-null int32\n",
      "State_TX                           2500 non-null int32\n",
      "State_FL                           2500 non-null int32\n",
      "State_IL                           2500 non-null int32\n",
      "State_GA                           2500 non-null int32\n",
      "State_PA                           2500 non-null int32\n",
      "State_NJ                           2500 non-null int32\n",
      "State_VA                           2500 non-null int32\n",
      "State_MA                           2500 non-null int32\n",
      "State_OH                           2500 non-null int32\n",
      "State_MD                           2500 non-null int32\n",
      "State_NC                           2500 non-null int32\n",
      "State_CO                           2500 non-null int32\n",
      "State_WA                           2500 non-null int32\n",
      "State_CT                           2500 non-null int32\n",
      "State_AZ                           2500 non-null int32\n",
      "State_MI                           2500 non-null int32\n",
      "State_AL                           2500 non-null int32\n",
      "State_MN                           2500 non-null int32\n",
      "State_MO                           2500 non-null int32\n",
      "State_NV                           2500 non-null int32\n",
      "State_OR                           2500 non-null int32\n",
      "State_SC                           2500 non-null int32\n",
      "State_WI                           2500 non-null int32\n",
      "State_KY                           2500 non-null int32\n",
      "State_LA                           2500 non-null int32\n",
      "State_KS                           2500 non-null int32\n",
      "Home_Ownership_MORTGAGE            2500 non-null int32\n",
      "Home_Ownership_RENT                2500 non-null int32\n",
      "dtypes: float64(9), int32(41), object(1)\n",
      "memory usage: 615.2+ KB\n"
     ]
    }
   ],
   "source": [
    "df1.info()"
   ]
  },
  {
   "cell_type": "code",
   "execution_count": 276,
   "metadata": {},
   "outputs": [],
   "source": [
    "df_train=df1[df1['data']=='train']"
   ]
  },
  {
   "cell_type": "code",
   "execution_count": 277,
   "metadata": {},
   "outputs": [],
   "source": [
    "df_test=df1[df1['data']=='test']"
   ]
  },
  {
   "cell_type": "markdown",
   "metadata": {},
   "source": [
    "# splitting the train dataset to train and test the model"
   ]
  },
  {
   "cell_type": "code",
   "execution_count": 316,
   "metadata": {},
   "outputs": [],
   "source": [
    "X=df_train.drop(['Interest_Rate','data'],axis=1)"
   ]
  },
  {
   "cell_type": "code",
   "execution_count": 317,
   "metadata": {},
   "outputs": [],
   "source": [
    "Y=df_train['Interest_Rate']"
   ]
  },
  {
   "cell_type": "code",
   "execution_count": 318,
   "metadata": {},
   "outputs": [],
   "source": [
    "from sklearn.model_selection import train_test_split"
   ]
  },
  {
   "cell_type": "code",
   "execution_count": 319,
   "metadata": {},
   "outputs": [],
   "source": [
    "X_train,X_test,Y_train,Y_test=train_test_split(X,Y,test_size=0.3,random_state=100)"
   ]
  },
  {
   "cell_type": "code",
   "execution_count": 320,
   "metadata": {},
   "outputs": [
    {
     "data": {
      "text/plain": [
       "(1540, 49)"
      ]
     },
     "execution_count": 320,
     "metadata": {},
     "output_type": "execute_result"
    }
   ],
   "source": [
    "X_train.shape"
   ]
  },
  {
   "cell_type": "code",
   "execution_count": 321,
   "metadata": {},
   "outputs": [
    {
     "name": "stdout",
     "output_type": "stream",
     "text": [
      "<class 'pandas.core.frame.DataFrame'>\n",
      "Int64Index: 1540 entries, 261 to 1544\n",
      "Data columns (total 49 columns):\n",
      "Amount_Requested                   1540 non-null float64\n",
      "Debt_To_Income_Ratio               1540 non-null float64\n",
      "Monthly_Income                     1540 non-null float64\n",
      "FICO_Range                         1540 non-null float64\n",
      "Open_CREDIT_Lines                  1540 non-null float64\n",
      "Revolving_CREDIT_Balance           1540 non-null float64\n",
      "Inquiries_in_the_Last_6_Months     1540 non-null float64\n",
      "Employment_Length                  1540 non-null float64\n",
      "Loan_Length_36 months              1540 non-null int32\n",
      "Loan_Purpose_debt_consolidation    1540 non-null int32\n",
      "Loan_Purpose_credit_card           1540 non-null int32\n",
      "Loan_Purpose_other                 1540 non-null int32\n",
      "Loan_Purpose_home_improvement      1540 non-null int32\n",
      "Loan_Purpose_major_purchase        1540 non-null int32\n",
      "Loan_Purpose_small_business        1540 non-null int32\n",
      "Loan_Purpose_car                   1540 non-null int32\n",
      "Loan_Purpose_wedding               1540 non-null int32\n",
      "Loan_Purpose_medical               1540 non-null int32\n",
      "Loan_Purpose_moving                1540 non-null int32\n",
      "State_CA                           1540 non-null int32\n",
      "State_NY                           1540 non-null int32\n",
      "State_TX                           1540 non-null int32\n",
      "State_FL                           1540 non-null int32\n",
      "State_IL                           1540 non-null int32\n",
      "State_GA                           1540 non-null int32\n",
      "State_PA                           1540 non-null int32\n",
      "State_NJ                           1540 non-null int32\n",
      "State_VA                           1540 non-null int32\n",
      "State_MA                           1540 non-null int32\n",
      "State_OH                           1540 non-null int32\n",
      "State_MD                           1540 non-null int32\n",
      "State_NC                           1540 non-null int32\n",
      "State_CO                           1540 non-null int32\n",
      "State_WA                           1540 non-null int32\n",
      "State_CT                           1540 non-null int32\n",
      "State_AZ                           1540 non-null int32\n",
      "State_MI                           1540 non-null int32\n",
      "State_AL                           1540 non-null int32\n",
      "State_MN                           1540 non-null int32\n",
      "State_MO                           1540 non-null int32\n",
      "State_NV                           1540 non-null int32\n",
      "State_OR                           1540 non-null int32\n",
      "State_SC                           1540 non-null int32\n",
      "State_WI                           1540 non-null int32\n",
      "State_KY                           1540 non-null int32\n",
      "State_LA                           1540 non-null int32\n",
      "State_KS                           1540 non-null int32\n",
      "Home_Ownership_MORTGAGE            1540 non-null int32\n",
      "Home_Ownership_RENT                1540 non-null int32\n",
      "dtypes: float64(8), int32(41)\n",
      "memory usage: 354.9 KB\n"
     ]
    }
   ],
   "source": [
    "X_train.info()"
   ]
  },
  {
   "cell_type": "code",
   "execution_count": 322,
   "metadata": {},
   "outputs": [
    {
     "data": {
      "text/plain": [
       "(660, 49)"
      ]
     },
     "execution_count": 322,
     "metadata": {},
     "output_type": "execute_result"
    }
   ],
   "source": [
    "X_test.shape"
   ]
  },
  {
   "cell_type": "code",
   "execution_count": 323,
   "metadata": {},
   "outputs": [
    {
     "data": {
      "text/plain": [
       "(1540,)"
      ]
     },
     "execution_count": 323,
     "metadata": {},
     "output_type": "execute_result"
    }
   ],
   "source": [
    "Y_train.shape"
   ]
  },
  {
   "cell_type": "code",
   "execution_count": 324,
   "metadata": {},
   "outputs": [
    {
     "data": {
      "text/plain": [
       "(660,)"
      ]
     },
     "execution_count": 324,
     "metadata": {},
     "output_type": "execute_result"
    }
   ],
   "source": [
    "Y_test.shape"
   ]
  },
  {
   "cell_type": "markdown",
   "metadata": {},
   "source": [
    "# model building"
   ]
  },
  {
   "cell_type": "code",
   "execution_count": 325,
   "metadata": {},
   "outputs": [],
   "source": [
    "from sklearn.linear_model import LinearRegression"
   ]
  },
  {
   "cell_type": "code",
   "execution_count": 326,
   "metadata": {},
   "outputs": [],
   "source": [
    "lin_reg_loan=LinearRegression()"
   ]
  },
  {
   "cell_type": "code",
   "execution_count": 327,
   "metadata": {},
   "outputs": [
    {
     "data": {
      "text/plain": [
       "LinearRegression(copy_X=True, fit_intercept=True, n_jobs=None, normalize=False)"
      ]
     },
     "execution_count": 327,
     "metadata": {},
     "output_type": "execute_result"
    }
   ],
   "source": [
    "lin_reg_loan.fit(X_train,Y_train)"
   ]
  },
  {
   "cell_type": "code",
   "execution_count": 329,
   "metadata": {},
   "outputs": [
    {
     "data": {
      "text/html": [
       "<table class=\"simpletable\">\n",
       "<caption>OLS Regression Results</caption>\n",
       "<tr>\n",
       "  <th>Dep. Variable:</th>      <td>Interest_Rate</td>  <th>  R-squared:         </th> <td>   0.760</td>\n",
       "</tr>\n",
       "<tr>\n",
       "  <th>Model:</th>                   <td>OLS</td>       <th>  Adj. R-squared:    </th> <td>   0.752</td>\n",
       "</tr>\n",
       "<tr>\n",
       "  <th>Method:</th>             <td>Least Squares</td>  <th>  F-statistic:       </th> <td>   96.48</td>\n",
       "</tr>\n",
       "<tr>\n",
       "  <th>Date:</th>             <td>Thu, 05 Dec 2019</td> <th>  Prob (F-statistic):</th>  <td>  0.00</td> \n",
       "</tr>\n",
       "<tr>\n",
       "  <th>Time:</th>                 <td>14:57:54</td>     <th>  Log-Likelihood:    </th> <td> -3274.9</td>\n",
       "</tr>\n",
       "<tr>\n",
       "  <th>No. Observations:</th>      <td>  1540</td>      <th>  AIC:               </th> <td>   6650.</td>\n",
       "</tr>\n",
       "<tr>\n",
       "  <th>Df Residuals:</th>          <td>  1490</td>      <th>  BIC:               </th> <td>   6917.</td>\n",
       "</tr>\n",
       "<tr>\n",
       "  <th>Df Model:</th>              <td>    49</td>      <th>                     </th>     <td> </td>   \n",
       "</tr>\n",
       "<tr>\n",
       "  <th>Covariance Type:</th>      <td>nonrobust</td>    <th>                     </th>     <td> </td>   \n",
       "</tr>\n",
       "</table>\n",
       "<table class=\"simpletable\">\n",
       "<tr>\n",
       "                 <td></td>                    <th>coef</th>     <th>std err</th>      <th>t</th>      <th>P>|t|</th>  <th>[0.025</th>    <th>0.975]</th>  \n",
       "</tr>\n",
       "<tr>\n",
       "  <th>const</th>                           <td>   75.1058</td> <td>    1.265</td> <td>   59.394</td> <td> 0.000</td> <td>   72.625</td> <td>   77.586</td>\n",
       "</tr>\n",
       "<tr>\n",
       "  <th>Amount_Requested</th>                <td>    0.0002</td> <td> 8.61e-06</td> <td>   19.456</td> <td> 0.000</td> <td>    0.000</td> <td>    0.000</td>\n",
       "</tr>\n",
       "<tr>\n",
       "  <th>Debt_To_Income_Ratio</th>            <td>    0.0038</td> <td>    0.008</td> <td>    0.454</td> <td> 0.650</td> <td>   -0.013</td> <td>    0.020</td>\n",
       "</tr>\n",
       "<tr>\n",
       "  <th>Monthly_Income</th>                  <td>-2.606e-05</td> <td> 1.43e-05</td> <td>   -1.823</td> <td> 0.069</td> <td>-5.41e-05</td> <td> 1.99e-06</td>\n",
       "</tr>\n",
       "<tr>\n",
       "  <th>FICO_Range</th>                      <td>   -0.0858</td> <td>    0.002</td> <td>  -52.888</td> <td> 0.000</td> <td>   -0.089</td> <td>   -0.083</td>\n",
       "</tr>\n",
       "<tr>\n",
       "  <th>Open_CREDIT_Lines</th>               <td>   -0.0312</td> <td>    0.014</td> <td>   -2.263</td> <td> 0.024</td> <td>   -0.058</td> <td>   -0.004</td>\n",
       "</tr>\n",
       "<tr>\n",
       "  <th>Revolving_CREDIT_Balance</th>        <td>-2.186e-06</td> <td>  3.1e-06</td> <td>   -0.705</td> <td> 0.481</td> <td>-8.27e-06</td> <td> 3.89e-06</td>\n",
       "</tr>\n",
       "<tr>\n",
       "  <th>Inquiries_in_the_Last_6_Months</th>  <td>    0.3367</td> <td>    0.047</td> <td>    7.185</td> <td> 0.000</td> <td>    0.245</td> <td>    0.429</td>\n",
       "</tr>\n",
       "<tr>\n",
       "  <th>Employment_Length</th>               <td>    0.0009</td> <td>    0.016</td> <td>    0.061</td> <td> 0.951</td> <td>   -0.030</td> <td>    0.031</td>\n",
       "</tr>\n",
       "<tr>\n",
       "  <th>Loan_Length_36 months</th>           <td>   -3.0799</td> <td>    0.146</td> <td>  -21.098</td> <td> 0.000</td> <td>   -3.366</td> <td>   -2.794</td>\n",
       "</tr>\n",
       "<tr>\n",
       "  <th>Loan_Purpose_debt_consolidation</th> <td>   -0.8490</td> <td>    0.334</td> <td>   -2.546</td> <td> 0.011</td> <td>   -1.503</td> <td>   -0.195</td>\n",
       "</tr>\n",
       "<tr>\n",
       "  <th>Loan_Purpose_credit_card</th>        <td>   -0.9088</td> <td>    0.348</td> <td>   -2.613</td> <td> 0.009</td> <td>   -1.591</td> <td>   -0.226</td>\n",
       "</tr>\n",
       "<tr>\n",
       "  <th>Loan_Purpose_other</th>              <td>    0.2000</td> <td>    0.375</td> <td>    0.533</td> <td> 0.594</td> <td>   -0.536</td> <td>    0.936</td>\n",
       "</tr>\n",
       "<tr>\n",
       "  <th>Loan_Purpose_home_improvement</th>   <td>   -0.6397</td> <td>    0.389</td> <td>   -1.646</td> <td> 0.100</td> <td>   -1.402</td> <td>    0.123</td>\n",
       "</tr>\n",
       "<tr>\n",
       "  <th>Loan_Purpose_major_purchase</th>     <td>   -0.4812</td> <td>    0.416</td> <td>   -1.156</td> <td> 0.248</td> <td>   -1.297</td> <td>    0.335</td>\n",
       "</tr>\n",
       "<tr>\n",
       "  <th>Loan_Purpose_small_business</th>     <td>   -0.3148</td> <td>    0.432</td> <td>   -0.730</td> <td> 0.466</td> <td>   -1.161</td> <td>    0.532</td>\n",
       "</tr>\n",
       "<tr>\n",
       "  <th>Loan_Purpose_car</th>                <td>   -0.6267</td> <td>    0.498</td> <td>   -1.258</td> <td> 0.209</td> <td>   -1.604</td> <td>    0.350</td>\n",
       "</tr>\n",
       "<tr>\n",
       "  <th>Loan_Purpose_wedding</th>            <td>   -1.1584</td> <td>    0.520</td> <td>   -2.230</td> <td> 0.026</td> <td>   -2.178</td> <td>   -0.139</td>\n",
       "</tr>\n",
       "<tr>\n",
       "  <th>Loan_Purpose_medical</th>            <td>   -0.7421</td> <td>    0.611</td> <td>   -1.214</td> <td> 0.225</td> <td>   -1.942</td> <td>    0.457</td>\n",
       "</tr>\n",
       "<tr>\n",
       "  <th>Loan_Purpose_moving</th>             <td>    0.8432</td> <td>    0.609</td> <td>    1.386</td> <td> 0.166</td> <td>   -0.350</td> <td>    2.037</td>\n",
       "</tr>\n",
       "<tr>\n",
       "  <th>State_CA</th>                        <td>   -0.1359</td> <td>    0.238</td> <td>   -0.571</td> <td> 0.568</td> <td>   -0.603</td> <td>    0.331</td>\n",
       "</tr>\n",
       "<tr>\n",
       "  <th>State_NY</th>                        <td>   -0.1204</td> <td>    0.258</td> <td>   -0.466</td> <td> 0.641</td> <td>   -0.627</td> <td>    0.386</td>\n",
       "</tr>\n",
       "<tr>\n",
       "  <th>State_TX</th>                        <td>    0.4292</td> <td>    0.285</td> <td>    1.509</td> <td> 0.132</td> <td>   -0.129</td> <td>    0.987</td>\n",
       "</tr>\n",
       "<tr>\n",
       "  <th>State_FL</th>                        <td>    0.0484</td> <td>    0.280</td> <td>    0.173</td> <td> 0.863</td> <td>   -0.501</td> <td>    0.598</td>\n",
       "</tr>\n",
       "<tr>\n",
       "  <th>State_IL</th>                        <td>   -0.5461</td> <td>    0.323</td> <td>   -1.689</td> <td> 0.092</td> <td>   -1.180</td> <td>    0.088</td>\n",
       "</tr>\n",
       "<tr>\n",
       "  <th>State_GA</th>                        <td>    0.0542</td> <td>    0.332</td> <td>    0.163</td> <td> 0.870</td> <td>   -0.597</td> <td>    0.706</td>\n",
       "</tr>\n",
       "<tr>\n",
       "  <th>State_PA</th>                        <td>   -0.3347</td> <td>    0.330</td> <td>   -1.013</td> <td> 0.311</td> <td>   -0.983</td> <td>    0.313</td>\n",
       "</tr>\n",
       "<tr>\n",
       "  <th>State_NJ</th>                        <td>   -0.2573</td> <td>    0.350</td> <td>   -0.735</td> <td> 0.462</td> <td>   -0.944</td> <td>    0.429</td>\n",
       "</tr>\n",
       "<tr>\n",
       "  <th>State_VA</th>                        <td>   -0.0513</td> <td>    0.353</td> <td>   -0.145</td> <td> 0.884</td> <td>   -0.744</td> <td>    0.641</td>\n",
       "</tr>\n",
       "<tr>\n",
       "  <th>State_MA</th>                        <td>    0.0728</td> <td>    0.364</td> <td>    0.200</td> <td> 0.842</td> <td>   -0.642</td> <td>    0.788</td>\n",
       "</tr>\n",
       "<tr>\n",
       "  <th>State_OH</th>                        <td>    0.1512</td> <td>    0.378</td> <td>    0.400</td> <td> 0.689</td> <td>   -0.590</td> <td>    0.892</td>\n",
       "</tr>\n",
       "<tr>\n",
       "  <th>State_MD</th>                        <td>    0.2300</td> <td>    0.373</td> <td>    0.617</td> <td> 0.537</td> <td>   -0.501</td> <td>    0.961</td>\n",
       "</tr>\n",
       "<tr>\n",
       "  <th>State_NC</th>                        <td>   -0.4532</td> <td>    0.398</td> <td>   -1.138</td> <td> 0.255</td> <td>   -1.234</td> <td>    0.328</td>\n",
       "</tr>\n",
       "<tr>\n",
       "  <th>State_CO</th>                        <td>    0.4173</td> <td>    0.398</td> <td>    1.049</td> <td> 0.294</td> <td>   -0.363</td> <td>    1.197</td>\n",
       "</tr>\n",
       "<tr>\n",
       "  <th>State_WA</th>                        <td>    0.1122</td> <td>    0.420</td> <td>    0.267</td> <td> 0.790</td> <td>   -0.713</td> <td>    0.937</td>\n",
       "</tr>\n",
       "<tr>\n",
       "  <th>State_CT</th>                        <td>    0.6078</td> <td>    0.406</td> <td>    1.497</td> <td> 0.135</td> <td>   -0.189</td> <td>    1.404</td>\n",
       "</tr>\n",
       "<tr>\n",
       "  <th>State_AZ</th>                        <td>    0.2004</td> <td>    0.426</td> <td>    0.470</td> <td> 0.638</td> <td>   -0.636</td> <td>    1.037</td>\n",
       "</tr>\n",
       "<tr>\n",
       "  <th>State_MI</th>                        <td>   -0.2539</td> <td>    0.445</td> <td>   -0.571</td> <td> 0.568</td> <td>   -1.126</td> <td>    0.618</td>\n",
       "</tr>\n",
       "<tr>\n",
       "  <th>State_AL</th>                        <td>    0.0975</td> <td>    0.461</td> <td>    0.211</td> <td> 0.833</td> <td>   -0.807</td> <td>    1.002</td>\n",
       "</tr>\n",
       "<tr>\n",
       "  <th>State_MN</th>                        <td>   -0.5666</td> <td>    0.476</td> <td>   -1.191</td> <td> 0.234</td> <td>   -1.500</td> <td>    0.366</td>\n",
       "</tr>\n",
       "<tr>\n",
       "  <th>State_MO</th>                        <td>   -0.0579</td> <td>    0.514</td> <td>   -0.113</td> <td> 0.910</td> <td>   -1.067</td> <td>    0.951</td>\n",
       "</tr>\n",
       "<tr>\n",
       "  <th>State_NV</th>                        <td>   -0.3349</td> <td>    0.493</td> <td>   -0.679</td> <td> 0.497</td> <td>   -1.302</td> <td>    0.632</td>\n",
       "</tr>\n",
       "<tr>\n",
       "  <th>State_OR</th>                        <td>   -0.0165</td> <td>    0.592</td> <td>   -0.028</td> <td> 0.978</td> <td>   -1.178</td> <td>    1.145</td>\n",
       "</tr>\n",
       "<tr>\n",
       "  <th>State_SC</th>                        <td>    0.0437</td> <td>    0.514</td> <td>    0.085</td> <td> 0.932</td> <td>   -0.965</td> <td>    1.053</td>\n",
       "</tr>\n",
       "<tr>\n",
       "  <th>State_WI</th>                        <td>    0.1230</td> <td>    0.504</td> <td>    0.244</td> <td> 0.807</td> <td>   -0.865</td> <td>    1.111</td>\n",
       "</tr>\n",
       "<tr>\n",
       "  <th>State_KY</th>                        <td>    0.2662</td> <td>    0.571</td> <td>    0.466</td> <td> 0.641</td> <td>   -0.853</td> <td>    1.386</td>\n",
       "</tr>\n",
       "<tr>\n",
       "  <th>State_LA</th>                        <td>    0.3359</td> <td>    0.591</td> <td>    0.568</td> <td> 0.570</td> <td>   -0.824</td> <td>    1.496</td>\n",
       "</tr>\n",
       "<tr>\n",
       "  <th>State_KS</th>                        <td>    0.7431</td> <td>    0.587</td> <td>    1.266</td> <td> 0.206</td> <td>   -0.408</td> <td>    1.894</td>\n",
       "</tr>\n",
       "<tr>\n",
       "  <th>Home_Ownership_MORTGAGE</th>         <td>   -0.2500</td> <td>    0.204</td> <td>   -1.228</td> <td> 0.220</td> <td>   -0.649</td> <td>    0.149</td>\n",
       "</tr>\n",
       "<tr>\n",
       "  <th>Home_Ownership_RENT</th>             <td>   -0.0046</td> <td>    0.203</td> <td>   -0.023</td> <td> 0.982</td> <td>   -0.402</td> <td>    0.393</td>\n",
       "</tr>\n",
       "</table>\n",
       "<table class=\"simpletable\">\n",
       "<tr>\n",
       "  <th>Omnibus:</th>       <td>61.823</td> <th>  Durbin-Watson:     </th> <td>   1.959</td>\n",
       "</tr>\n",
       "<tr>\n",
       "  <th>Prob(Omnibus):</th> <td> 0.000</td> <th>  Jarque-Bera (JB):  </th> <td>  80.682</td>\n",
       "</tr>\n",
       "<tr>\n",
       "  <th>Skew:</th>          <td> 0.410</td> <th>  Prob(JB):          </th> <td>3.02e-18</td>\n",
       "</tr>\n",
       "<tr>\n",
       "  <th>Kurtosis:</th>      <td> 3.765</td> <th>  Cond. No.          </th> <td>7.20e+05</td>\n",
       "</tr>\n",
       "</table><br/><br/>Warnings:<br/>[1] Standard Errors assume that the covariance matrix of the errors is correctly specified.<br/>[2] The condition number is large, 7.2e+05. This might indicate that there are<br/>strong multicollinearity or other numerical problems."
      ],
      "text/plain": [
       "<class 'statsmodels.iolib.summary.Summary'>\n",
       "\"\"\"\n",
       "                            OLS Regression Results                            \n",
       "==============================================================================\n",
       "Dep. Variable:          Interest_Rate   R-squared:                       0.760\n",
       "Model:                            OLS   Adj. R-squared:                  0.752\n",
       "Method:                 Least Squares   F-statistic:                     96.48\n",
       "Date:                Thu, 05 Dec 2019   Prob (F-statistic):               0.00\n",
       "Time:                        14:57:54   Log-Likelihood:                -3274.9\n",
       "No. Observations:                1540   AIC:                             6650.\n",
       "Df Residuals:                    1490   BIC:                             6917.\n",
       "Df Model:                          49                                         \n",
       "Covariance Type:            nonrobust                                         \n",
       "===================================================================================================\n",
       "                                      coef    std err          t      P>|t|      [0.025      0.975]\n",
       "---------------------------------------------------------------------------------------------------\n",
       "const                              75.1058      1.265     59.394      0.000      72.625      77.586\n",
       "Amount_Requested                    0.0002   8.61e-06     19.456      0.000       0.000       0.000\n",
       "Debt_To_Income_Ratio                0.0038      0.008      0.454      0.650      -0.013       0.020\n",
       "Monthly_Income                  -2.606e-05   1.43e-05     -1.823      0.069   -5.41e-05    1.99e-06\n",
       "FICO_Range                         -0.0858      0.002    -52.888      0.000      -0.089      -0.083\n",
       "Open_CREDIT_Lines                  -0.0312      0.014     -2.263      0.024      -0.058      -0.004\n",
       "Revolving_CREDIT_Balance        -2.186e-06    3.1e-06     -0.705      0.481   -8.27e-06    3.89e-06\n",
       "Inquiries_in_the_Last_6_Months      0.3367      0.047      7.185      0.000       0.245       0.429\n",
       "Employment_Length                   0.0009      0.016      0.061      0.951      -0.030       0.031\n",
       "Loan_Length_36 months              -3.0799      0.146    -21.098      0.000      -3.366      -2.794\n",
       "Loan_Purpose_debt_consolidation    -0.8490      0.334     -2.546      0.011      -1.503      -0.195\n",
       "Loan_Purpose_credit_card           -0.9088      0.348     -2.613      0.009      -1.591      -0.226\n",
       "Loan_Purpose_other                  0.2000      0.375      0.533      0.594      -0.536       0.936\n",
       "Loan_Purpose_home_improvement      -0.6397      0.389     -1.646      0.100      -1.402       0.123\n",
       "Loan_Purpose_major_purchase        -0.4812      0.416     -1.156      0.248      -1.297       0.335\n",
       "Loan_Purpose_small_business        -0.3148      0.432     -0.730      0.466      -1.161       0.532\n",
       "Loan_Purpose_car                   -0.6267      0.498     -1.258      0.209      -1.604       0.350\n",
       "Loan_Purpose_wedding               -1.1584      0.520     -2.230      0.026      -2.178      -0.139\n",
       "Loan_Purpose_medical               -0.7421      0.611     -1.214      0.225      -1.942       0.457\n",
       "Loan_Purpose_moving                 0.8432      0.609      1.386      0.166      -0.350       2.037\n",
       "State_CA                           -0.1359      0.238     -0.571      0.568      -0.603       0.331\n",
       "State_NY                           -0.1204      0.258     -0.466      0.641      -0.627       0.386\n",
       "State_TX                            0.4292      0.285      1.509      0.132      -0.129       0.987\n",
       "State_FL                            0.0484      0.280      0.173      0.863      -0.501       0.598\n",
       "State_IL                           -0.5461      0.323     -1.689      0.092      -1.180       0.088\n",
       "State_GA                            0.0542      0.332      0.163      0.870      -0.597       0.706\n",
       "State_PA                           -0.3347      0.330     -1.013      0.311      -0.983       0.313\n",
       "State_NJ                           -0.2573      0.350     -0.735      0.462      -0.944       0.429\n",
       "State_VA                           -0.0513      0.353     -0.145      0.884      -0.744       0.641\n",
       "State_MA                            0.0728      0.364      0.200      0.842      -0.642       0.788\n",
       "State_OH                            0.1512      0.378      0.400      0.689      -0.590       0.892\n",
       "State_MD                            0.2300      0.373      0.617      0.537      -0.501       0.961\n",
       "State_NC                           -0.4532      0.398     -1.138      0.255      -1.234       0.328\n",
       "State_CO                            0.4173      0.398      1.049      0.294      -0.363       1.197\n",
       "State_WA                            0.1122      0.420      0.267      0.790      -0.713       0.937\n",
       "State_CT                            0.6078      0.406      1.497      0.135      -0.189       1.404\n",
       "State_AZ                            0.2004      0.426      0.470      0.638      -0.636       1.037\n",
       "State_MI                           -0.2539      0.445     -0.571      0.568      -1.126       0.618\n",
       "State_AL                            0.0975      0.461      0.211      0.833      -0.807       1.002\n",
       "State_MN                           -0.5666      0.476     -1.191      0.234      -1.500       0.366\n",
       "State_MO                           -0.0579      0.514     -0.113      0.910      -1.067       0.951\n",
       "State_NV                           -0.3349      0.493     -0.679      0.497      -1.302       0.632\n",
       "State_OR                           -0.0165      0.592     -0.028      0.978      -1.178       1.145\n",
       "State_SC                            0.0437      0.514      0.085      0.932      -0.965       1.053\n",
       "State_WI                            0.1230      0.504      0.244      0.807      -0.865       1.111\n",
       "State_KY                            0.2662      0.571      0.466      0.641      -0.853       1.386\n",
       "State_LA                            0.3359      0.591      0.568      0.570      -0.824       1.496\n",
       "State_KS                            0.7431      0.587      1.266      0.206      -0.408       1.894\n",
       "Home_Ownership_MORTGAGE            -0.2500      0.204     -1.228      0.220      -0.649       0.149\n",
       "Home_Ownership_RENT                -0.0046      0.203     -0.023      0.982      -0.402       0.393\n",
       "==============================================================================\n",
       "Omnibus:                       61.823   Durbin-Watson:                   1.959\n",
       "Prob(Omnibus):                  0.000   Jarque-Bera (JB):               80.682\n",
       "Skew:                           0.410   Prob(JB):                     3.02e-18\n",
       "Kurtosis:                       3.765   Cond. No.                     7.20e+05\n",
       "==============================================================================\n",
       "\n",
       "Warnings:\n",
       "[1] Standard Errors assume that the covariance matrix of the errors is correctly specified.\n",
       "[2] The condition number is large, 7.2e+05. This might indicate that there are\n",
       "strong multicollinearity or other numerical problems.\n",
       "\"\"\""
      ]
     },
     "execution_count": 329,
     "metadata": {},
     "output_type": "execute_result"
    }
   ],
   "source": [
    "import statsmodels.api as sm\n",
    "X_con=sm.add_constant(X_train)\n",
    "model=sm.OLS(Y_train,X_con).fit()\n",
    "model.summary()"
   ]
  },
  {
   "cell_type": "markdown",
   "metadata": {},
   "source": [
    "# checking the assumptions"
   ]
  },
  {
   "cell_type": "markdown",
   "metadata": {},
   "source": [
    "## no autocorrelation"
   ]
  },
  {
   "cell_type": "markdown",
   "metadata": {},
   "source": [
    "from the DB value , 1.9, so there is no autocorrelation"
   ]
  },
  {
   "cell_type": "markdown",
   "metadata": {},
   "source": [
    "## normality of residuals"
   ]
  },
  {
   "cell_type": "code",
   "execution_count": 332,
   "metadata": {},
   "outputs": [
    {
     "data": {
      "text/plain": [
       "(80.68161535160849, 0.0)"
      ]
     },
     "execution_count": 332,
     "metadata": {},
     "output_type": "execute_result"
    }
   ],
   "source": [
    "from scipy.stats import stats\n",
    "stats.jarque_bera(model.resid)\n",
    "# since it is greater than 5, the normality of residuals is not there, so\n",
    "# we go for transformation"
   ]
  },
  {
   "cell_type": "markdown",
   "metadata": {},
   "source": [
    "## linearity of residuals"
   ]
  },
  {
   "cell_type": "code",
   "execution_count": 333,
   "metadata": {},
   "outputs": [
    {
     "data": {
      "text/plain": [
       "(0.9901436221489854, 0.5540445537715626)"
      ]
     },
     "execution_count": 333,
     "metadata": {},
     "output_type": "execute_result"
    }
   ],
   "source": [
    "sm.stats.diagnostic.linear_rainbow(model,frac=0.5)"
   ]
  },
  {
   "cell_type": "markdown",
   "metadata": {},
   "source": [
    "since p value is greater than 0.05 ,it fails to reject the null hypothesis , hence residuals are linear "
   ]
  },
  {
   "cell_type": "markdown",
   "metadata": {},
   "source": [
    "## homoscadasticity"
   ]
  },
  {
   "cell_type": "code",
   "execution_count": 1,
   "metadata": {},
   "outputs": [
    {
     "ename": "NameError",
     "evalue": "name 'model' is not defined",
     "output_type": "error",
     "traceback": [
      "\u001b[1;31m---------------------------------------------------------------------------\u001b[0m",
      "\u001b[1;31mNameError\u001b[0m                                 Traceback (most recent call last)",
      "\u001b[1;32m<ipython-input-1-e24ffd1fd9f9>\u001b[0m in \u001b[0;36m<module>\u001b[1;34m\u001b[0m\n\u001b[0;32m      1\u001b[0m \u001b[1;32mimport\u001b[0m \u001b[0mstatsmodels\u001b[0m\u001b[1;33m.\u001b[0m\u001b[0mstats\u001b[0m\u001b[1;33m.\u001b[0m\u001b[0mapi\u001b[0m \u001b[1;32mas\u001b[0m \u001b[0msms\u001b[0m\u001b[1;33m\u001b[0m\u001b[1;33m\u001b[0m\u001b[0m\n\u001b[1;32m----> 2\u001b[1;33m \u001b[0msms\u001b[0m\u001b[1;33m.\u001b[0m\u001b[0mhet_goldfeldquandt\u001b[0m\u001b[1;33m(\u001b[0m\u001b[0mmodel\u001b[0m\u001b[1;33m.\u001b[0m\u001b[0mresid\u001b[0m\u001b[1;33m,\u001b[0m\u001b[0mmodel\u001b[0m\u001b[1;33m.\u001b[0m\u001b[0mmodel\u001b[0m\u001b[1;33m.\u001b[0m\u001b[0mexog\u001b[0m\u001b[1;33m)\u001b[0m\u001b[1;33m\u001b[0m\u001b[1;33m\u001b[0m\u001b[0m\n\u001b[0m",
      "\u001b[1;31mNameError\u001b[0m: name 'model' is not defined"
     ]
    }
   ],
   "source": [
    "import statsmodels.stats.api as sms\n",
    "sms.het_goldfeldquandt(model.resid,model.model.exog)"
   ]
  },
  {
   "cell_type": "markdown",
   "metadata": {},
   "source": [
    "hence the model is homoscadastic"
   ]
  },
  {
   "cell_type": "code",
   "execution_count": null,
   "metadata": {},
   "outputs": [],
   "source": []
  },
  {
   "cell_type": "markdown",
   "metadata": {},
   "source": [
    "# base model accuracy on train and test"
   ]
  },
  {
   "cell_type": "code",
   "execution_count": 335,
   "metadata": {},
   "outputs": [
    {
     "data": {
      "text/plain": [
       "0.7603485637375973"
      ]
     },
     "execution_count": 335,
     "metadata": {},
     "output_type": "execute_result"
    }
   ],
   "source": [
    "lin_reg_loan.score(X_train,Y_train)"
   ]
  },
  {
   "cell_type": "code",
   "execution_count": 336,
   "metadata": {},
   "outputs": [
    {
     "data": {
      "text/plain": [
       "0.7657854064329895"
      ]
     },
     "execution_count": 336,
     "metadata": {},
     "output_type": "execute_result"
    }
   ],
   "source": [
    "lin_reg_loan.score(X_test,Y_test)"
   ]
  },
  {
   "cell_type": "markdown",
   "metadata": {},
   "source": [
    "make sure the features are within 10 for any problem\n",
    "\n",
    "Hence eventhough the model is a generalised model, we need to regularise"
   ]
  },
  {
   "cell_type": "markdown",
   "metadata": {},
   "source": [
    "# regularisation techniques"
   ]
  },
  {
   "cell_type": "code",
   "execution_count": 338,
   "metadata": {},
   "outputs": [],
   "source": [
    "from sklearn.linear_model import Ridge"
   ]
  },
  {
   "cell_type": "code",
   "execution_count": 339,
   "metadata": {},
   "outputs": [],
   "source": [
    "rr=Ridge()"
   ]
  },
  {
   "cell_type": "code",
   "execution_count": 372,
   "metadata": {},
   "outputs": [],
   "source": [
    "penalty=np.linspace(0.001,2,100)"
   ]
  },
  {
   "cell_type": "code",
   "execution_count": 341,
   "metadata": {},
   "outputs": [],
   "source": [
    "from sklearn.model_selection import GridSearchCV"
   ]
  },
  {
   "cell_type": "code",
   "execution_count": 373,
   "metadata": {},
   "outputs": [],
   "source": [
    "gcv=GridSearchCV(estimator=rr,param_grid=dict(alpha=penalty))"
   ]
  },
  {
   "cell_type": "code",
   "execution_count": 374,
   "metadata": {},
   "outputs": [
    {
     "name": "stderr",
     "output_type": "stream",
     "text": [
      "C:\\Users\\SWETHA S\\Anaconda3\\lib\\site-packages\\sklearn\\model_selection\\_split.py:1978: FutureWarning: The default value of cv will change from 3 to 5 in version 0.22. Specify it explicitly to silence this warning.\n",
      "  warnings.warn(CV_WARNING, FutureWarning)\n"
     ]
    },
    {
     "data": {
      "text/plain": [
       "GridSearchCV(cv='warn', error_score='raise-deprecating',\n",
       "             estimator=Ridge(alpha=20, copy_X=True, fit_intercept=True,\n",
       "                             max_iter=None, normalize=False, random_state=None,\n",
       "                             solver='auto', tol=0.001),\n",
       "             iid='warn', n_jobs=None,\n",
       "             param_grid={'alpha': array([1.00000000e-03, 2.11919192e-02, 4.13838384e-02, 6.15757576e-02,\n",
       "       8.17676768e-02, 1.01959596e-01, 1.22151515e-01, 1.42343434e...\n",
       "       1.61635354e+00, 1.63654545e+00, 1.65673737e+00, 1.67692929e+00,\n",
       "       1.69712121e+00, 1.71731313e+00, 1.73750505e+00, 1.75769697e+00,\n",
       "       1.77788889e+00, 1.79808081e+00, 1.81827273e+00, 1.83846465e+00,\n",
       "       1.85865657e+00, 1.87884848e+00, 1.89904040e+00, 1.91923232e+00,\n",
       "       1.93942424e+00, 1.95961616e+00, 1.97980808e+00, 2.00000000e+00])},\n",
       "             pre_dispatch='2*n_jobs', refit=True, return_train_score=False,\n",
       "             scoring=None, verbose=0)"
      ]
     },
     "execution_count": 374,
     "metadata": {},
     "output_type": "execute_result"
    }
   ],
   "source": [
    "gcv.fit(X_train,Y_train)"
   ]
  },
  {
   "cell_type": "code",
   "execution_count": 375,
   "metadata": {},
   "outputs": [
    {
     "data": {
      "text/plain": [
       "Ridge(alpha=2.0, copy_X=True, fit_intercept=True, max_iter=None,\n",
       "      normalize=False, random_state=None, solver='auto', tol=0.001)"
      ]
     },
     "execution_count": 375,
     "metadata": {},
     "output_type": "execute_result"
    }
   ],
   "source": [
    "gcv.best_estimator_"
   ]
  },
  {
   "cell_type": "code",
   "execution_count": 376,
   "metadata": {},
   "outputs": [],
   "source": [
    "rr=Ridge(alpha=2)"
   ]
  },
  {
   "cell_type": "code",
   "execution_count": 377,
   "metadata": {},
   "outputs": [
    {
     "data": {
      "text/plain": [
       "Ridge(alpha=2, copy_X=True, fit_intercept=True, max_iter=None, normalize=False,\n",
       "      random_state=None, solver='auto', tol=0.001)"
      ]
     },
     "execution_count": 377,
     "metadata": {},
     "output_type": "execute_result"
    }
   ],
   "source": [
    "rr.fit(X_train,Y_train)"
   ]
  },
  {
   "cell_type": "code",
   "execution_count": 380,
   "metadata": {},
   "outputs": [
    {
     "data": {
      "text/plain": [
       "0.7602752916716953"
      ]
     },
     "execution_count": 380,
     "metadata": {},
     "output_type": "execute_result"
    }
   ],
   "source": [
    "rr.score(X_train,Y_train)"
   ]
  },
  {
   "cell_type": "code",
   "execution_count": 381,
   "metadata": {},
   "outputs": [
    {
     "data": {
      "text/plain": [
       "0.766359785352592"
      ]
     },
     "execution_count": 381,
     "metadata": {},
     "output_type": "execute_result"
    }
   ],
   "source": [
    "rr.score(X_test,Y_test)"
   ]
  },
  {
   "cell_type": "code",
   "execution_count": 382,
   "metadata": {},
   "outputs": [
    {
     "data": {
      "text/plain": [
       "array([ 1.68001506e-04,  3.52895872e-03, -2.65410247e-05, -8.58144738e-02,\n",
       "       -3.13202355e-02, -2.20794846e-06,  3.39158641e-01,  1.06863808e-03,\n",
       "       -3.04989005e+00, -6.94965122e-01, -7.56354303e-01,  3.40998656e-01,\n",
       "       -4.78291988e-01, -3.19632533e-01, -1.59176791e-01, -4.40271914e-01,\n",
       "       -9.40967706e-01, -5.31868833e-01,  8.77345048e-01, -1.45193963e-01,\n",
       "       -1.23040055e-01,  4.10492819e-01,  4.29989459e-02, -5.44744354e-01,\n",
       "        4.97592161e-02, -3.31655257e-01, -2.50764692e-01, -5.35561613e-02,\n",
       "        5.85235132e-02,  1.34204465e-01,  2.30669475e-01, -4.42467904e-01,\n",
       "        3.82329549e-01,  1.01379098e-01,  5.58439793e-01,  1.83507317e-01,\n",
       "       -2.40440967e-01,  8.88457688e-02, -5.33996395e-01, -6.34330868e-02,\n",
       "       -3.05980563e-01, -2.05746482e-02,  2.88501315e-02,  1.02378409e-01,\n",
       "        2.26422666e-01,  2.85260284e-01,  6.45296176e-01, -2.47243176e-01,\n",
       "        1.06053098e-03])"
      ]
     },
     "execution_count": 382,
     "metadata": {},
     "output_type": "execute_result"
    }
   ],
   "source": [
    "print(rr.coef_)"
   ]
  },
  {
   "cell_type": "markdown",
   "metadata": {},
   "source": [
    "from the coefficients, none of the coefficients become 0, hence we go for lasso regularisation"
   ]
  },
  {
   "cell_type": "markdown",
   "metadata": {},
   "source": [
    "# lasso"
   ]
  },
  {
   "cell_type": "code",
   "execution_count": 383,
   "metadata": {},
   "outputs": [],
   "source": [
    "from sklearn.linear_model import Lasso"
   ]
  },
  {
   "cell_type": "code",
   "execution_count": 387,
   "metadata": {},
   "outputs": [
    {
     "data": {
      "text/plain": [
       "Lasso(alpha=2, copy_X=True, fit_intercept=True, max_iter=1000, normalize=False,\n",
       "      positive=False, precompute=False, random_state=None, selection='cyclic',\n",
       "      tol=0.0001, warm_start=False)"
      ]
     },
     "execution_count": 387,
     "metadata": {},
     "output_type": "execute_result"
    }
   ],
   "source": [
    "l=Lasso(alpha=2)\n",
    "l.fit(X_train,Y_train)"
   ]
  },
  {
   "cell_type": "code",
   "execution_count": 388,
   "metadata": {},
   "outputs": [
    {
     "data": {
      "text/plain": [
       "0.6568002554055797"
      ]
     },
     "execution_count": 388,
     "metadata": {},
     "output_type": "execute_result"
    }
   ],
   "source": [
    "l.score(X_train,Y_train)"
   ]
  },
  {
   "cell_type": "code",
   "execution_count": 389,
   "metadata": {},
   "outputs": [
    {
     "data": {
      "text/plain": [
       "0.6599319833135178"
      ]
     },
     "execution_count": 389,
     "metadata": {},
     "output_type": "execute_result"
    }
   ],
   "source": [
    "l.score(X_test,Y_test)"
   ]
  },
  {
   "cell_type": "code",
   "execution_count": 390,
   "metadata": {},
   "outputs": [
    {
     "data": {
      "text/plain": [
       "array([ 2.28725214e-04, -0.00000000e+00, -5.01130513e-05, -8.44361671e-02,\n",
       "       -0.00000000e+00, -8.88505473e-06,  0.00000000e+00, -0.00000000e+00,\n",
       "       -0.00000000e+00, -0.00000000e+00, -0.00000000e+00,  0.00000000e+00,\n",
       "        0.00000000e+00,  0.00000000e+00,  0.00000000e+00,  0.00000000e+00,\n",
       "       -0.00000000e+00, -0.00000000e+00,  0.00000000e+00, -0.00000000e+00,\n",
       "        0.00000000e+00,  0.00000000e+00, -0.00000000e+00, -0.00000000e+00,\n",
       "        0.00000000e+00, -0.00000000e+00, -0.00000000e+00,  0.00000000e+00,\n",
       "       -0.00000000e+00,  0.00000000e+00,  0.00000000e+00, -0.00000000e+00,\n",
       "        0.00000000e+00,  0.00000000e+00,  0.00000000e+00,  0.00000000e+00,\n",
       "       -0.00000000e+00,  0.00000000e+00, -0.00000000e+00,  0.00000000e+00,\n",
       "       -0.00000000e+00, -0.00000000e+00, -0.00000000e+00,  0.00000000e+00,\n",
       "        0.00000000e+00,  0.00000000e+00,  0.00000000e+00, -0.00000000e+00,\n",
       "        0.00000000e+00])"
      ]
     },
     "execution_count": 390,
     "metadata": {},
     "output_type": "execute_result"
    }
   ],
   "source": [
    "l.coef_"
   ]
  },
  {
   "cell_type": "code",
   "execution_count": 394,
   "metadata": {},
   "outputs": [
    {
     "data": {
      "text/plain": [
       "[('Amount_Requested', 0.00022872521352640792),\n",
       " ('Debt_To_Income_Ratio', -0.0),\n",
       " ('Monthly_Income', -5.011305126186162e-05),\n",
       " ('FICO_Range', -0.08443616708833102),\n",
       " ('Open_CREDIT_Lines', -0.0),\n",
       " ('Revolving_CREDIT_Balance', -8.885054728847097e-06),\n",
       " ('Inquiries_in_the_Last_6_Months', 0.0),\n",
       " ('Employment_Length', -0.0),\n",
       " ('Loan_Length_36 months', -0.0),\n",
       " ('Loan_Purpose_debt_consolidation', -0.0),\n",
       " ('Loan_Purpose_credit_card', -0.0),\n",
       " ('Loan_Purpose_other', 0.0),\n",
       " ('Loan_Purpose_home_improvement', 0.0),\n",
       " ('Loan_Purpose_major_purchase', 0.0),\n",
       " ('Loan_Purpose_small_business', 0.0),\n",
       " ('Loan_Purpose_car', 0.0),\n",
       " ('Loan_Purpose_wedding', -0.0),\n",
       " ('Loan_Purpose_medical', -0.0),\n",
       " ('Loan_Purpose_moving', 0.0),\n",
       " ('State_CA', -0.0),\n",
       " ('State_NY', 0.0),\n",
       " ('State_TX', 0.0),\n",
       " ('State_FL', -0.0),\n",
       " ('State_IL', -0.0),\n",
       " ('State_GA', 0.0),\n",
       " ('State_PA', -0.0),\n",
       " ('State_NJ', -0.0),\n",
       " ('State_VA', 0.0),\n",
       " ('State_MA', -0.0),\n",
       " ('State_OH', 0.0),\n",
       " ('State_MD', 0.0),\n",
       " ('State_NC', -0.0),\n",
       " ('State_CO', 0.0),\n",
       " ('State_WA', 0.0),\n",
       " ('State_CT', 0.0),\n",
       " ('State_AZ', 0.0),\n",
       " ('State_MI', -0.0),\n",
       " ('State_AL', 0.0),\n",
       " ('State_MN', -0.0),\n",
       " ('State_MO', 0.0),\n",
       " ('State_NV', -0.0),\n",
       " ('State_OR', -0.0),\n",
       " ('State_SC', -0.0),\n",
       " ('State_WI', 0.0),\n",
       " ('State_KY', 0.0),\n",
       " ('State_LA', 0.0),\n",
       " ('State_KS', 0.0),\n",
       " ('Home_Ownership_MORTGAGE', -0.0),\n",
       " ('Home_Ownership_RENT', 0.0)]"
      ]
     },
     "execution_count": 394,
     "metadata": {},
     "output_type": "execute_result"
    }
   ],
   "source": [
    "list(zip(X_train.columns,l.coef_))"
   ]
  },
  {
   "cell_type": "code",
   "execution_count": 395,
   "metadata": {},
   "outputs": [],
   "source": [
    "X_new=X_train.loc[:,['Amount_Requested','Monthly_Income','FICO_Range','Revolving_CREDIT_Balance']]"
   ]
  },
  {
   "cell_type": "code",
   "execution_count": 396,
   "metadata": {},
   "outputs": [
    {
     "data": {
      "text/html": [
       "<div>\n",
       "<style scoped>\n",
       "    .dataframe tbody tr th:only-of-type {\n",
       "        vertical-align: middle;\n",
       "    }\n",
       "\n",
       "    .dataframe tbody tr th {\n",
       "        vertical-align: top;\n",
       "    }\n",
       "\n",
       "    .dataframe thead th {\n",
       "        text-align: right;\n",
       "    }\n",
       "</style>\n",
       "<table border=\"1\" class=\"dataframe\">\n",
       "  <thead>\n",
       "    <tr style=\"text-align: right;\">\n",
       "      <th></th>\n",
       "      <th>Amount_Requested</th>\n",
       "      <th>Monthly_Income</th>\n",
       "      <th>FICO_Range</th>\n",
       "      <th>Revolving_CREDIT_Balance</th>\n",
       "    </tr>\n",
       "  </thead>\n",
       "  <tbody>\n",
       "    <tr>\n",
       "      <th>261</th>\n",
       "      <td>8000.0</td>\n",
       "      <td>3166.67</td>\n",
       "      <td>692.0</td>\n",
       "      <td>5428.0</td>\n",
       "    </tr>\n",
       "    <tr>\n",
       "      <th>2085</th>\n",
       "      <td>13200.0</td>\n",
       "      <td>3833.33</td>\n",
       "      <td>697.0</td>\n",
       "      <td>8568.0</td>\n",
       "    </tr>\n",
       "    <tr>\n",
       "      <th>1296</th>\n",
       "      <td>7000.0</td>\n",
       "      <td>5833.33</td>\n",
       "      <td>687.0</td>\n",
       "      <td>28985.0</td>\n",
       "    </tr>\n",
       "    <tr>\n",
       "      <th>1534</th>\n",
       "      <td>12000.0</td>\n",
       "      <td>3980.33</td>\n",
       "      <td>662.0</td>\n",
       "      <td>19234.0</td>\n",
       "    </tr>\n",
       "    <tr>\n",
       "      <th>216</th>\n",
       "      <td>19750.0</td>\n",
       "      <td>8333.33</td>\n",
       "      <td>702.0</td>\n",
       "      <td>11383.0</td>\n",
       "    </tr>\n",
       "  </tbody>\n",
       "</table>\n",
       "</div>"
      ],
      "text/plain": [
       "      Amount_Requested  Monthly_Income  FICO_Range  Revolving_CREDIT_Balance\n",
       "261             8000.0         3166.67       692.0                    5428.0\n",
       "2085           13200.0         3833.33       697.0                    8568.0\n",
       "1296            7000.0         5833.33       687.0                   28985.0\n",
       "1534           12000.0         3980.33       662.0                   19234.0\n",
       "216            19750.0         8333.33       702.0                   11383.0"
      ]
     },
     "execution_count": 396,
     "metadata": {},
     "output_type": "execute_result"
    }
   ],
   "source": [
    "X_new.head()"
   ]
  },
  {
   "cell_type": "code",
   "execution_count": 397,
   "metadata": {},
   "outputs": [
    {
     "data": {
      "text/plain": [
       "LinearRegression(copy_X=True, fit_intercept=True, n_jobs=None, normalize=False)"
      ]
     },
     "execution_count": 397,
     "metadata": {},
     "output_type": "execute_result"
    }
   ],
   "source": [
    "l1=LinearRegression()\n",
    "l1.fit(X_new,Y_train)"
   ]
  },
  {
   "cell_type": "code",
   "execution_count": 400,
   "metadata": {},
   "outputs": [
    {
     "data": {
      "text/plain": [
       "0.6569897896395379"
      ]
     },
     "execution_count": 400,
     "metadata": {},
     "output_type": "execute_result"
    }
   ],
   "source": [
    "l1.score(X_new,Y_train)"
   ]
  },
  {
   "cell_type": "code",
   "execution_count": 401,
   "metadata": {},
   "outputs": [],
   "source": [
    "X_new_test=X_test.loc[:,['Amount_Requested','Monthly_Income','FICO_Range','Revolving_CREDIT_Balance']]"
   ]
  },
  {
   "cell_type": "code",
   "execution_count": 402,
   "metadata": {},
   "outputs": [
    {
     "data": {
      "text/plain": [
       "0.6609973073188706"
      ]
     },
     "execution_count": 402,
     "metadata": {},
     "output_type": "execute_result"
    }
   ],
   "source": [
    "l1.score(X_new_test,Y_test)"
   ]
  },
  {
   "cell_type": "code",
   "execution_count": 404,
   "metadata": {},
   "outputs": [],
   "source": [
    "X_test_act=df_test.loc[:,['Amount_Requested','Monthly_Income','FICO_Range','Revolving_CREDIT_Balance']]"
   ]
  },
  {
   "cell_type": "code",
   "execution_count": 407,
   "metadata": {},
   "outputs": [],
   "source": [
    "fitted_values=l1.predict(X_test_act)"
   ]
  },
  {
   "cell_type": "code",
   "execution_count": 409,
   "metadata": {},
   "outputs": [
    {
     "name": "stderr",
     "output_type": "stream",
     "text": [
      "C:\\Users\\SWETHA S\\Anaconda3\\lib\\site-packages\\ipykernel_launcher.py:1: SettingWithCopyWarning: \n",
      "A value is trying to be set on a copy of a slice from a DataFrame.\n",
      "Try using .loc[row_indexer,col_indexer] = value instead\n",
      "\n",
      "See the caveats in the documentation: http://pandas.pydata.org/pandas-docs/stable/indexing.html#indexing-view-versus-copy\n",
      "  \"\"\"Entry point for launching an IPython kernel.\n"
     ]
    }
   ],
   "source": [
    "df_test['Interest_Rate']=fitted_values"
   ]
  },
  {
   "cell_type": "code",
   "execution_count": 410,
   "metadata": {},
   "outputs": [
    {
     "data": {
      "text/html": [
       "<div>\n",
       "<style scoped>\n",
       "    .dataframe tbody tr th:only-of-type {\n",
       "        vertical-align: middle;\n",
       "    }\n",
       "\n",
       "    .dataframe tbody tr th {\n",
       "        vertical-align: top;\n",
       "    }\n",
       "\n",
       "    .dataframe thead th {\n",
       "        text-align: right;\n",
       "    }\n",
       "</style>\n",
       "<table border=\"1\" class=\"dataframe\">\n",
       "  <thead>\n",
       "    <tr style=\"text-align: right;\">\n",
       "      <th></th>\n",
       "      <th>Amount_Requested</th>\n",
       "      <th>Interest_Rate</th>\n",
       "      <th>Debt_To_Income_Ratio</th>\n",
       "      <th>Monthly_Income</th>\n",
       "      <th>FICO_Range</th>\n",
       "      <th>Open_CREDIT_Lines</th>\n",
       "      <th>Revolving_CREDIT_Balance</th>\n",
       "      <th>Inquiries_in_the_Last_6_Months</th>\n",
       "      <th>Employment_Length</th>\n",
       "      <th>data</th>\n",
       "      <th>...</th>\n",
       "      <th>State_MO</th>\n",
       "      <th>State_NV</th>\n",
       "      <th>State_OR</th>\n",
       "      <th>State_SC</th>\n",
       "      <th>State_WI</th>\n",
       "      <th>State_KY</th>\n",
       "      <th>State_LA</th>\n",
       "      <th>State_KS</th>\n",
       "      <th>Home_Ownership_MORTGAGE</th>\n",
       "      <th>Home_Ownership_RENT</th>\n",
       "    </tr>\n",
       "  </thead>\n",
       "  <tbody>\n",
       "    <tr>\n",
       "      <th>0</th>\n",
       "      <td>5000.0</td>\n",
       "      <td>12.839306</td>\n",
       "      <td>12.59</td>\n",
       "      <td>4416.67</td>\n",
       "      <td>692.0</td>\n",
       "      <td>13.0</td>\n",
       "      <td>7686.0</td>\n",
       "      <td>0.0</td>\n",
       "      <td>0.0</td>\n",
       "      <td>test</td>\n",
       "      <td>...</td>\n",
       "      <td>0</td>\n",
       "      <td>0</td>\n",
       "      <td>0</td>\n",
       "      <td>0</td>\n",
       "      <td>0</td>\n",
       "      <td>0</td>\n",
       "      <td>0</td>\n",
       "      <td>0</td>\n",
       "      <td>0</td>\n",
       "      <td>1</td>\n",
       "    </tr>\n",
       "    <tr>\n",
       "      <th>1</th>\n",
       "      <td>18000.0</td>\n",
       "      <td>14.022571</td>\n",
       "      <td>4.93</td>\n",
       "      <td>5258.50</td>\n",
       "      <td>712.0</td>\n",
       "      <td>6.0</td>\n",
       "      <td>11596.0</td>\n",
       "      <td>0.0</td>\n",
       "      <td>10.0</td>\n",
       "      <td>test</td>\n",
       "      <td>...</td>\n",
       "      <td>0</td>\n",
       "      <td>0</td>\n",
       "      <td>0</td>\n",
       "      <td>0</td>\n",
       "      <td>0</td>\n",
       "      <td>0</td>\n",
       "      <td>0</td>\n",
       "      <td>0</td>\n",
       "      <td>0</td>\n",
       "      <td>1</td>\n",
       "    </tr>\n",
       "    <tr>\n",
       "      <th>2</th>\n",
       "      <td>7200.0</td>\n",
       "      <td>8.216038</td>\n",
       "      <td>25.16</td>\n",
       "      <td>3750.00</td>\n",
       "      <td>752.0</td>\n",
       "      <td>13.0</td>\n",
       "      <td>7283.0</td>\n",
       "      <td>0.0</td>\n",
       "      <td>6.0</td>\n",
       "      <td>test</td>\n",
       "      <td>...</td>\n",
       "      <td>0</td>\n",
       "      <td>0</td>\n",
       "      <td>0</td>\n",
       "      <td>0</td>\n",
       "      <td>0</td>\n",
       "      <td>0</td>\n",
       "      <td>1</td>\n",
       "      <td>0</td>\n",
       "      <td>1</td>\n",
       "      <td>0</td>\n",
       "    </tr>\n",
       "    <tr>\n",
       "      <th>3</th>\n",
       "      <td>7200.0</td>\n",
       "      <td>4.811806</td>\n",
       "      <td>17.27</td>\n",
       "      <td>3416.67</td>\n",
       "      <td>792.0</td>\n",
       "      <td>14.0</td>\n",
       "      <td>4838.0</td>\n",
       "      <td>0.0</td>\n",
       "      <td>10.0</td>\n",
       "      <td>test</td>\n",
       "      <td>...</td>\n",
       "      <td>0</td>\n",
       "      <td>0</td>\n",
       "      <td>0</td>\n",
       "      <td>0</td>\n",
       "      <td>0</td>\n",
       "      <td>0</td>\n",
       "      <td>0</td>\n",
       "      <td>0</td>\n",
       "      <td>1</td>\n",
       "      <td>0</td>\n",
       "    </tr>\n",
       "    <tr>\n",
       "      <th>4</th>\n",
       "      <td>22000.0</td>\n",
       "      <td>13.961289</td>\n",
       "      <td>18.28</td>\n",
       "      <td>6083.33</td>\n",
       "      <td>722.0</td>\n",
       "      <td>9.0</td>\n",
       "      <td>20181.0</td>\n",
       "      <td>0.0</td>\n",
       "      <td>8.0</td>\n",
       "      <td>test</td>\n",
       "      <td>...</td>\n",
       "      <td>0</td>\n",
       "      <td>0</td>\n",
       "      <td>0</td>\n",
       "      <td>0</td>\n",
       "      <td>0</td>\n",
       "      <td>0</td>\n",
       "      <td>0</td>\n",
       "      <td>0</td>\n",
       "      <td>1</td>\n",
       "      <td>0</td>\n",
       "    </tr>\n",
       "  </tbody>\n",
       "</table>\n",
       "<p>5 rows × 51 columns</p>\n",
       "</div>"
      ],
      "text/plain": [
       "   Amount_Requested  Interest_Rate  Debt_To_Income_Ratio  Monthly_Income  \\\n",
       "0            5000.0      12.839306                 12.59         4416.67   \n",
       "1           18000.0      14.022571                  4.93         5258.50   \n",
       "2            7200.0       8.216038                 25.16         3750.00   \n",
       "3            7200.0       4.811806                 17.27         3416.67   \n",
       "4           22000.0      13.961289                 18.28         6083.33   \n",
       "\n",
       "   FICO_Range  Open_CREDIT_Lines  Revolving_CREDIT_Balance  \\\n",
       "0       692.0               13.0                    7686.0   \n",
       "1       712.0                6.0                   11596.0   \n",
       "2       752.0               13.0                    7283.0   \n",
       "3       792.0               14.0                    4838.0   \n",
       "4       722.0                9.0                   20181.0   \n",
       "\n",
       "   Inquiries_in_the_Last_6_Months  Employment_Length  data  ...  State_MO  \\\n",
       "0                             0.0                0.0  test  ...         0   \n",
       "1                             0.0               10.0  test  ...         0   \n",
       "2                             0.0                6.0  test  ...         0   \n",
       "3                             0.0               10.0  test  ...         0   \n",
       "4                             0.0                8.0  test  ...         0   \n",
       "\n",
       "   State_NV  State_OR  State_SC  State_WI  State_KY  State_LA  State_KS  \\\n",
       "0         0         0         0         0         0         0         0   \n",
       "1         0         0         0         0         0         0         0   \n",
       "2         0         0         0         0         0         1         0   \n",
       "3         0         0         0         0         0         0         0   \n",
       "4         0         0         0         0         0         0         0   \n",
       "\n",
       "   Home_Ownership_MORTGAGE  Home_Ownership_RENT  \n",
       "0                        0                    1  \n",
       "1                        0                    1  \n",
       "2                        1                    0  \n",
       "3                        1                    0  \n",
       "4                        1                    0  \n",
       "\n",
       "[5 rows x 51 columns]"
      ]
     },
     "execution_count": 410,
     "metadata": {},
     "output_type": "execute_result"
    }
   ],
   "source": [
    "df_test.head()"
   ]
  },
  {
   "cell_type": "markdown",
   "metadata": {},
   "source": [
    "## Interpretation\n",
    "\n",
    "We have used different models to predict the interest rate. After using lasso regression we find that the important parameters that influence the prediction of interest rate are Amount requested, Monthly income, FICO range, revolving credit balance."
   ]
  },
  {
   "cell_type": "code",
   "execution_count": null,
   "metadata": {},
   "outputs": [],
   "source": []
  }
 ],
 "metadata": {
  "kernelspec": {
   "display_name": "Python 3",
   "language": "python",
   "name": "python3"
  },
  "language_info": {
   "codemirror_mode": {
    "name": "ipython",
    "version": 3
   },
   "file_extension": ".py",
   "mimetype": "text/x-python",
   "name": "python",
   "nbconvert_exporter": "python",
   "pygments_lexer": "ipython3",
   "version": "3.7.3"
  }
 },
 "nbformat": 4,
 "nbformat_minor": 2
}
